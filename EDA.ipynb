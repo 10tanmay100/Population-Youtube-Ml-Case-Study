{
 "cells": [
  {
   "cell_type": "markdown",
   "metadata": {
    "id": "KY4YCytS_nbG"
   },
   "source": [
    "## Problem Statement\n",
    "- Unveiling the Secrets of Population Movement - Predicting Crude Net Migration Rate (CNMR) from Population Data!"
   ]
  },
  {
   "cell_type": "markdown",
   "metadata": {
    "id": "w6XzIVAP_343"
   },
   "source": [
    "## Introduction\n",
    "- Population data is a critical aspect of understanding the dynamics of a region or a country. One of the essential metrics that demographers and policymakers use to assess population movement is the Crude Net Migration Rate (CNMR). CNMR represents the net migration per 1,000 population, indicating the inflow and outflow of people in a particular area. This metric plays a pivotal role in making informed decisions about resource allocation, urban planning, and economic policies."
   ]
  },
  {
   "cell_type": "markdown",
   "metadata": {
    "id": "j2K0fvsI__HW"
   },
   "source": [
    "## Project Objective:\n",
    "\n",
    "The objective of this project is to develop a predictive model that accurately estimates the `Crude Net Migration Rate (CNMR)` based on a comprehensive population dataset. By achieving this goal, we aim to provide valuable insights into the factors influencing population dynamics, which can help governments, organizations, and researchers make data-driven decisions."
   ]
  },
  {
   "cell_type": "markdown",
   "metadata": {
    "id": "61wCSU7gA6I_"
   },
   "source": [
    "## Data Expedition:\n",
    "\n",
    "- Our voyage takes us to the heart of data collection, where we've undertaken an unprecedented data collection mission. We've gathered a treasure trove of demographic and socio-economic insights, including age distribution, birth rates, death rates, income levels, and education levels. This real-world dataset holds the key to predicting CNMR in a way that transcends mere statistical analysis."
   ]
  },
  {
   "cell_type": "markdown",
   "metadata": {
    "id": "RdKARqnKDTtz"
   },
   "source": [
    "## Column Descriptions\n",
    "`SortOrder`: Numeric identifier for sorting.\n",
    "\n",
    "`LocID`: Location identifier.\n",
    "\n",
    "`Notes`: Additional notes or comments (blank in this dataset).\n",
    "\n",
    "`ISO3_code`: ISO 3-character country code.\n",
    "\n",
    "`ISO2_code`: ISO 2-character country code.\n",
    "\n",
    "`SDMX_code`: Statistical Data and Metadata Exchange code.\n",
    "\n",
    "`LocTypeID`: Location type identifier.\n",
    "\n",
    "`LocTypeName`: Location type name.\n",
    "\n",
    "`ParentID`: Identifier for the parent location.\n",
    "\n",
    "`Location`: Name of the location.\n",
    "\n",
    "`VarID`: Identifier for the variant.\n",
    "\n",
    "`Variant`: Type of population variant.\n",
    "\n",
    "`Time`: Year or time period.\n",
    "\n",
    "`TPopulation1Jan`: Total population on January 1st.\n",
    "\n",
    "`TPopulation1July`: Total population on July 1st.\n",
    "\n",
    "`TPopulationMale1July`: Total male population on July 1st.\n",
    "\n",
    "`TPopulationFemale1July`: Total female population on July 1st.\n",
    "\n",
    "`PopDensity`: Population density (people per square kilometer).\n",
    "\n",
    "`PopSexRatio`: Population sex ratio (male/female).\n",
    "\n",
    "`MedianAgePop`: Median age of the population.\n",
    "\n",
    "`NatChange`: Natural change in population.\n",
    "\n",
    "`NatChangeRT`: Natural change rate (per 1,000 people).\n",
    "\n",
    "`PopChange`: Population change.\n",
    "\n",
    "`PopGrowthRate`: Population growth rate (percentage).\n",
    "\n",
    "`DoublingTime`: Time for population to double (in years).\n",
    "\n",
    "`Births`: Total number of births.\n",
    "\n",
    "`Births1519`: Births to mothers aged 15-19.\n",
    "\n",
    "`CBR`: Crude birth rate (per 1,000 people).\n",
    "\n",
    "`TFR`: Total fertility rate (average number of children per woman).\n",
    "\n",
    "`NRR`: Net reproduction rate.\n",
    "\n",
    "`MAC`: Mean age at childbearing.\n",
    "\n",
    "`SRB`: Sex ratio at birth (male/female).\n",
    "\n",
    "`Deaths`: Total number of deaths.\n",
    "\n",
    "`DeathsMale`: Total male deaths.\n",
    "\n",
    "`DeathsFemale`: Total female deaths.\n",
    "\n",
    "`CDR`: Crude death rate (per 1,000 people).\n",
    "\n",
    "`LEx`: Life expectancy at birth.\n",
    "\n",
    "`LExMale`: Life expectancy for males at birth.\n",
    "\n",
    "`LExFemale`: Life expectancy for females at birth.\n",
    "\n",
    "`LE15`: Life expectancy at age 15.\n",
    "\n",
    "`LE15Male`: Life expectancy for males at age 15.\n",
    "\n",
    "`LE15Female`: Life expectancy for females at age 15.\n",
    "\n",
    "`LE65`: Life expectancy at age 65.\n",
    "\n",
    "`LE65Male`: Life expectancy for males at age 65.\n",
    "\n",
    "`LE65Female`: Life expectancy for females at age 65.\n",
    "\n",
    "`LE80`: Life expectancy at age 80.\n",
    "\n",
    "`LE80Male`: Life expectancy for males at age 80.\n",
    "\n",
    "`LE80Female`: Life expectancy for females at age 80.\n",
    "\n",
    "`InfantDeaths`: Number of infant deaths.\n",
    "\n",
    "`IMR`: Infant mortality rate (per 1,000 live births).\n",
    "\n",
    "`LBsurvivingAge1`: Children surviving to age 1.\n",
    "\n",
    "`Under5Deaths`: Number of deaths under age 5.\n",
    "\n",
    "`NetMigrations`: Net migration rate (per 1,000 people).\n",
    "\n",
    "`CNMR`: Crude net migration rate."
   ]
  },
  {
   "cell_type": "markdown",
   "metadata": {
    "id": "_EpzwDUNH2iA"
   },
   "source": [
    "### Definition of Crude Net Migration Rate\n",
    "`The Crude Net Migration Rate (CNMR)` is a demographic and population statistic that measures the net migration in a specific area, usually expressed per 1,000 population. It provides insights into the movement of people into and out of a particular region, country, or area within a specific time frame.\n",
    "\n",
    "Here's a breakdown of what each component of the term means:\n",
    "\n",
    "1. **Crude**: In this context, `crude` means that it is a simple and unadjusted measure. It doesn't take into account various demographic factors or age groups. It provides a basic, overall view of net migration.\n",
    "\n",
    "2. **Net Migration**: Net migration refers to the difference between the number of people immigrating (moving into the area) and the number of people emigrating (moving out of the area). If more people are moving into the area than leaving it, the net migration is positive, indicating population growth due to migration. Conversely, if more people are leaving the area than arriving, the net migration is negative, indicating population decline due to migration.\n",
    "\n",
    "3. **Rate**: The term `rate` indicates that this measurement is standardized by expressing it as a rate per 1,000 population. This normalization allows for comparisons between regions or countries with different population sizes. It makes the CNMR a relative measure that facilitates the assessment of migration patterns regardless of the population's size.\n",
    "\n",
    "`CNMR` is a valuable statistic for understanding population dynamics and migration trends in different geographic areas. It is often used by demographers, policymakers, and researchers to analyze and plan for changes in population due to migration, which can have significant social, economic, and political implications."
   ]
  },
  {
   "cell_type": "markdown",
   "metadata": {
    "id": "IGSXUWnfJqgZ"
   },
   "source": [
    "## Exploratory Data Analysis"
   ]
  },
  {
   "cell_type": "code",
   "execution_count": 58,
   "metadata": {
    "id": "NoQ7m-0H99Jq"
   },
   "outputs": [],
   "source": [
    "#importing necessary libraries\n",
    "import pandas as pd\n",
    "import numpy as np\n",
    "import matplotlib.pyplot as plt\n",
    "import seaborn as sns\n",
    "import plotly.graph_objects as go\n",
    "import plotly.express as px"
   ]
  },
  {
   "cell_type": "code",
   "execution_count": 59,
   "metadata": {
    "id": "k1MSE5VC99Jr"
   },
   "outputs": [],
   "source": [
    "#reading the csv file\n",
    "data = pd.read_csv('WPP2022_Demographic_Indicators_Medium.csv',low_memory=False)"
   ]
  },
  {
   "cell_type": "code",
   "execution_count": 60,
   "metadata": {
    "colab": {
     "base_uri": "https://localhost:8080/",
     "height": 255
    },
    "id": "kitaP1Ll99Jr",
    "outputId": "87d334cd-aaa7-4b38-a185-296c566581cf"
   },
   "outputs": [
    {
     "data": {
      "text/html": [
       "<div>\n",
       "<style scoped>\n",
       "    .dataframe tbody tr th:only-of-type {\n",
       "        vertical-align: middle;\n",
       "    }\n",
       "\n",
       "    .dataframe tbody tr th {\n",
       "        vertical-align: top;\n",
       "    }\n",
       "\n",
       "    .dataframe thead th {\n",
       "        text-align: right;\n",
       "    }\n",
       "</style>\n",
       "<table border=\"1\" class=\"dataframe\">\n",
       "  <thead>\n",
       "    <tr style=\"text-align: right;\">\n",
       "      <th></th>\n",
       "      <th>SortOrder</th>\n",
       "      <th>LocID</th>\n",
       "      <th>Notes</th>\n",
       "      <th>ISO3_code</th>\n",
       "      <th>ISO2_code</th>\n",
       "      <th>SDMX_code</th>\n",
       "      <th>LocTypeID</th>\n",
       "      <th>LocTypeName</th>\n",
       "      <th>ParentID</th>\n",
       "      <th>Location</th>\n",
       "      <th>VarID</th>\n",
       "      <th>Variant</th>\n",
       "      <th>Time</th>\n",
       "      <th>TPopulation1Jan</th>\n",
       "      <th>TPopulation1July</th>\n",
       "      <th>TPopulationMale1July</th>\n",
       "      <th>TPopulationFemale1July</th>\n",
       "      <th>PopDensity</th>\n",
       "      <th>PopSexRatio</th>\n",
       "      <th>MedianAgePop</th>\n",
       "      <th>NatChange</th>\n",
       "      <th>NatChangeRT</th>\n",
       "      <th>PopChange</th>\n",
       "      <th>PopGrowthRate</th>\n",
       "      <th>DoublingTime</th>\n",
       "      <th>Births</th>\n",
       "      <th>Births1519</th>\n",
       "      <th>CBR</th>\n",
       "      <th>TFR</th>\n",
       "      <th>NRR</th>\n",
       "      <th>MAC</th>\n",
       "      <th>SRB</th>\n",
       "      <th>Deaths</th>\n",
       "      <th>DeathsMale</th>\n",
       "      <th>DeathsFemale</th>\n",
       "      <th>CDR</th>\n",
       "      <th>LEx</th>\n",
       "      <th>LExMale</th>\n",
       "      <th>LExFemale</th>\n",
       "      <th>LE15</th>\n",
       "      <th>LE15Male</th>\n",
       "      <th>LE15Female</th>\n",
       "      <th>LE65</th>\n",
       "      <th>LE65Male</th>\n",
       "      <th>LE65Female</th>\n",
       "      <th>LE80</th>\n",
       "      <th>LE80Male</th>\n",
       "      <th>LE80Female</th>\n",
       "      <th>InfantDeaths</th>\n",
       "      <th>IMR</th>\n",
       "      <th>LBsurvivingAge1</th>\n",
       "      <th>Under5Deaths</th>\n",
       "      <th>Q5</th>\n",
       "      <th>Q0040</th>\n",
       "      <th>Q0040Male</th>\n",
       "      <th>Q0040Female</th>\n",
       "      <th>Q0060</th>\n",
       "      <th>Q0060Male</th>\n",
       "      <th>Q0060Female</th>\n",
       "      <th>Q1550</th>\n",
       "      <th>Q1550Male</th>\n",
       "      <th>Q1550Female</th>\n",
       "      <th>Q1560</th>\n",
       "      <th>Q1560Male</th>\n",
       "      <th>Q1560Female</th>\n",
       "      <th>NetMigrations</th>\n",
       "      <th>CNMR</th>\n",
       "    </tr>\n",
       "  </thead>\n",
       "  <tbody>\n",
       "    <tr>\n",
       "      <th>0</th>\n",
       "      <td>1</td>\n",
       "      <td>900</td>\n",
       "      <td>NaN</td>\n",
       "      <td>NaN</td>\n",
       "      <td>NaN</td>\n",
       "      <td>1.0</td>\n",
       "      <td>1</td>\n",
       "      <td>World</td>\n",
       "      <td>0</td>\n",
       "      <td>World</td>\n",
       "      <td>2</td>\n",
       "      <td>Medium</td>\n",
       "      <td>1950</td>\n",
       "      <td>2477674.732</td>\n",
       "      <td>2499322.157</td>\n",
       "      <td>1245362.964</td>\n",
       "      <td>1253959.192</td>\n",
       "      <td>19.1661</td>\n",
       "      <td>99.3145</td>\n",
       "      <td>22.2243</td>\n",
       "      <td>43294.722</td>\n",
       "      <td>17.319</td>\n",
       "      <td>43294.850</td>\n",
       "      <td>1.732</td>\n",
       "      <td>40.0200</td>\n",
       "      <td>92083.258</td>\n",
       "      <td>10629.041</td>\n",
       "      <td>36.837</td>\n",
       "      <td>4.8596</td>\n",
       "      <td>1.6382</td>\n",
       "      <td>28.945</td>\n",
       "      <td>105.4</td>\n",
       "      <td>48788.536</td>\n",
       "      <td>25784.509</td>\n",
       "      <td>23004.027</td>\n",
       "      <td>19.518</td>\n",
       "      <td>46.4643</td>\n",
       "      <td>44.5946</td>\n",
       "      <td>48.4411</td>\n",
       "      <td>47.0395</td>\n",
       "      <td>44.8310</td>\n",
       "      <td>49.3734</td>\n",
       "      <td>11.2965</td>\n",
       "      <td>10.4672</td>\n",
       "      <td>12.0390</td>\n",
       "      <td>5.0199</td>\n",
       "      <td>4.7308</td>\n",
       "      <td>5.2236</td>\n",
       "      <td>13109.145</td>\n",
       "      <td>143.3869</td>\n",
       "      <td>82837.349</td>\n",
       "      <td>19780.141</td>\n",
       "      <td>224.0098</td>\n",
       "      <td>371.9932</td>\n",
       "      <td>388.9779</td>\n",
       "      <td>354.7482</td>\n",
       "      <td>540.3848</td>\n",
       "      <td>580.7496</td>\n",
       "      <td>498.0396</td>\n",
       "      <td>240.3164</td>\n",
       "      <td>271.6253</td>\n",
       "      <td>208.1916</td>\n",
       "      <td>378.6968</td>\n",
       "      <td>430.2594</td>\n",
       "      <td>324.9308</td>\n",
       "      <td>0.0</td>\n",
       "      <td>0.0</td>\n",
       "    </tr>\n",
       "    <tr>\n",
       "      <th>1</th>\n",
       "      <td>1</td>\n",
       "      <td>900</td>\n",
       "      <td>NaN</td>\n",
       "      <td>NaN</td>\n",
       "      <td>NaN</td>\n",
       "      <td>1.0</td>\n",
       "      <td>1</td>\n",
       "      <td>World</td>\n",
       "      <td>0</td>\n",
       "      <td>World</td>\n",
       "      <td>2</td>\n",
       "      <td>Medium</td>\n",
       "      <td>1951</td>\n",
       "      <td>2520969.582</td>\n",
       "      <td>2543130.380</td>\n",
       "      <td>1267473.182</td>\n",
       "      <td>1275657.198</td>\n",
       "      <td>19.5020</td>\n",
       "      <td>99.3584</td>\n",
       "      <td>22.1716</td>\n",
       "      <td>44322.348</td>\n",
       "      <td>17.427</td>\n",
       "      <td>44321.597</td>\n",
       "      <td>1.743</td>\n",
       "      <td>39.7675</td>\n",
       "      <td>92836.900</td>\n",
       "      <td>10741.899</td>\n",
       "      <td>36.502</td>\n",
       "      <td>4.8269</td>\n",
       "      <td>1.6430</td>\n",
       "      <td>28.910</td>\n",
       "      <td>105.4</td>\n",
       "      <td>48514.552</td>\n",
       "      <td>25505.184</td>\n",
       "      <td>23009.368</td>\n",
       "      <td>19.075</td>\n",
       "      <td>47.1440</td>\n",
       "      <td>45.4026</td>\n",
       "      <td>48.9655</td>\n",
       "      <td>47.5028</td>\n",
       "      <td>45.4710</td>\n",
       "      <td>49.6263</td>\n",
       "      <td>11.3369</td>\n",
       "      <td>10.5123</td>\n",
       "      <td>12.0705</td>\n",
       "      <td>5.0145</td>\n",
       "      <td>4.7347</td>\n",
       "      <td>5.2121</td>\n",
       "      <td>13086.528</td>\n",
       "      <td>141.3090</td>\n",
       "      <td>83648.709</td>\n",
       "      <td>19825.046</td>\n",
       "      <td>219.1188</td>\n",
       "      <td>361.8185</td>\n",
       "      <td>375.8295</td>\n",
       "      <td>347.6746</td>\n",
       "      <td>529.1551</td>\n",
       "      <td>566.7283</td>\n",
       "      <td>490.1993</td>\n",
       "      <td>231.1772</td>\n",
       "      <td>258.0905</td>\n",
       "      <td>203.7797</td>\n",
       "      <td>368.3186</td>\n",
       "      <td>415.8362</td>\n",
       "      <td>319.3364</td>\n",
       "      <td>0.0</td>\n",
       "      <td>0.0</td>\n",
       "    </tr>\n",
       "    <tr>\n",
       "      <th>2</th>\n",
       "      <td>1</td>\n",
       "      <td>900</td>\n",
       "      <td>NaN</td>\n",
       "      <td>NaN</td>\n",
       "      <td>NaN</td>\n",
       "      <td>1.0</td>\n",
       "      <td>1</td>\n",
       "      <td>World</td>\n",
       "      <td>0</td>\n",
       "      <td>World</td>\n",
       "      <td>2</td>\n",
       "      <td>Medium</td>\n",
       "      <td>1952</td>\n",
       "      <td>2565291.179</td>\n",
       "      <td>2590270.898</td>\n",
       "      <td>1291399.982</td>\n",
       "      <td>1298870.917</td>\n",
       "      <td>19.8635</td>\n",
       "      <td>99.4248</td>\n",
       "      <td>22.1083</td>\n",
       "      <td>49960.072</td>\n",
       "      <td>19.283</td>\n",
       "      <td>49959.439</td>\n",
       "      <td>1.929</td>\n",
       "      <td>35.9330</td>\n",
       "      <td>97606.684</td>\n",
       "      <td>11231.717</td>\n",
       "      <td>37.672</td>\n",
       "      <td>5.0142</td>\n",
       "      <td>1.7300</td>\n",
       "      <td>28.980</td>\n",
       "      <td>105.4</td>\n",
       "      <td>47646.612</td>\n",
       "      <td>24935.224</td>\n",
       "      <td>22711.388</td>\n",
       "      <td>18.389</td>\n",
       "      <td>48.2311</td>\n",
       "      <td>46.6241</td>\n",
       "      <td>49.8908</td>\n",
       "      <td>48.2552</td>\n",
       "      <td>46.4167</td>\n",
       "      <td>50.1512</td>\n",
       "      <td>11.5593</td>\n",
       "      <td>10.7121</td>\n",
       "      <td>12.3094</td>\n",
       "      <td>5.1412</td>\n",
       "      <td>4.8431</td>\n",
       "      <td>5.3525</td>\n",
       "      <td>13215.704</td>\n",
       "      <td>137.2952</td>\n",
       "      <td>88207.529</td>\n",
       "      <td>19875.696</td>\n",
       "      <td>212.1977</td>\n",
       "      <td>347.2697</td>\n",
       "      <td>357.6730</td>\n",
       "      <td>336.8354</td>\n",
       "      <td>512.1586</td>\n",
       "      <td>546.3173</td>\n",
       "      <td>477.2639</td>\n",
       "      <td>218.6745</td>\n",
       "      <td>240.0344</td>\n",
       "      <td>197.1422</td>\n",
       "      <td>353.0546</td>\n",
       "      <td>395.5327</td>\n",
       "      <td>309.9103</td>\n",
       "      <td>0.0</td>\n",
       "      <td>0.0</td>\n",
       "    </tr>\n",
       "    <tr>\n",
       "      <th>3</th>\n",
       "      <td>1</td>\n",
       "      <td>900</td>\n",
       "      <td>NaN</td>\n",
       "      <td>NaN</td>\n",
       "      <td>NaN</td>\n",
       "      <td>1.0</td>\n",
       "      <td>1</td>\n",
       "      <td>World</td>\n",
       "      <td>0</td>\n",
       "      <td>World</td>\n",
       "      <td>2</td>\n",
       "      <td>Medium</td>\n",
       "      <td>1953</td>\n",
       "      <td>2615250.618</td>\n",
       "      <td>2640278.797</td>\n",
       "      <td>1316659.222</td>\n",
       "      <td>1323619.574</td>\n",
       "      <td>20.2470</td>\n",
       "      <td>99.4741</td>\n",
       "      <td>22.0364</td>\n",
       "      <td>50056.756</td>\n",
       "      <td>18.959</td>\n",
       "      <td>50056.357</td>\n",
       "      <td>1.896</td>\n",
       "      <td>36.5584</td>\n",
       "      <td>97555.839</td>\n",
       "      <td>11200.749</td>\n",
       "      <td>36.948</td>\n",
       "      <td>4.9366</td>\n",
       "      <td>1.7170</td>\n",
       "      <td>28.928</td>\n",
       "      <td>105.4</td>\n",
       "      <td>47499.083</td>\n",
       "      <td>24806.138</td>\n",
       "      <td>22692.945</td>\n",
       "      <td>17.989</td>\n",
       "      <td>48.8024</td>\n",
       "      <td>47.2399</td>\n",
       "      <td>50.4067</td>\n",
       "      <td>48.6073</td>\n",
       "      <td>46.8170</td>\n",
       "      <td>50.4431</td>\n",
       "      <td>11.6337</td>\n",
       "      <td>10.7784</td>\n",
       "      <td>12.3878</td>\n",
       "      <td>5.1490</td>\n",
       "      <td>4.8486</td>\n",
       "      <td>5.3625</td>\n",
       "      <td>13117.346</td>\n",
       "      <td>134.4685</td>\n",
       "      <td>88348.382</td>\n",
       "      <td>19780.603</td>\n",
       "      <td>206.9440</td>\n",
       "      <td>339.9678</td>\n",
       "      <td>349.2448</td>\n",
       "      <td>330.6815</td>\n",
       "      <td>502.9323</td>\n",
       "      <td>535.8289</td>\n",
       "      <td>469.5325</td>\n",
       "      <td>212.8720</td>\n",
       "      <td>232.6019</td>\n",
       "      <td>193.0492</td>\n",
       "      <td>345.0826</td>\n",
       "      <td>385.8433</td>\n",
       "      <td>303.9053</td>\n",
       "      <td>0.0</td>\n",
       "      <td>0.0</td>\n",
       "    </tr>\n",
       "    <tr>\n",
       "      <th>4</th>\n",
       "      <td>1</td>\n",
       "      <td>900</td>\n",
       "      <td>NaN</td>\n",
       "      <td>NaN</td>\n",
       "      <td>NaN</td>\n",
       "      <td>1.0</td>\n",
       "      <td>1</td>\n",
       "      <td>World</td>\n",
       "      <td>0</td>\n",
       "      <td>World</td>\n",
       "      <td>2</td>\n",
       "      <td>Medium</td>\n",
       "      <td>1954</td>\n",
       "      <td>2665306.975</td>\n",
       "      <td>2691979.339</td>\n",
       "      <td>1342923.171</td>\n",
       "      <td>1349056.168</td>\n",
       "      <td>20.6435</td>\n",
       "      <td>99.5454</td>\n",
       "      <td>21.9524</td>\n",
       "      <td>53345.249</td>\n",
       "      <td>19.812</td>\n",
       "      <td>53344.728</td>\n",
       "      <td>1.982</td>\n",
       "      <td>34.9721</td>\n",
       "      <td>100348.054</td>\n",
       "      <td>11471.273</td>\n",
       "      <td>37.269</td>\n",
       "      <td>5.0098</td>\n",
       "      <td>1.7626</td>\n",
       "      <td>28.943</td>\n",
       "      <td>105.4</td>\n",
       "      <td>47002.805</td>\n",
       "      <td>24539.831</td>\n",
       "      <td>22462.974</td>\n",
       "      <td>17.457</td>\n",
       "      <td>49.5919</td>\n",
       "      <td>48.0295</td>\n",
       "      <td>51.1894</td>\n",
       "      <td>49.0909</td>\n",
       "      <td>47.3293</td>\n",
       "      <td>50.8869</td>\n",
       "      <td>11.8152</td>\n",
       "      <td>10.9386</td>\n",
       "      <td>12.5849</td>\n",
       "      <td>5.2582</td>\n",
       "      <td>4.9476</td>\n",
       "      <td>5.4785</td>\n",
       "      <td>13122.414</td>\n",
       "      <td>131.7228</td>\n",
       "      <td>91065.389</td>\n",
       "      <td>19781.855</td>\n",
       "      <td>202.1803</td>\n",
       "      <td>330.1323</td>\n",
       "      <td>338.8165</td>\n",
       "      <td>321.4258</td>\n",
       "      <td>490.9939</td>\n",
       "      <td>523.1236</td>\n",
       "      <td>458.4842</td>\n",
       "      <td>205.7622</td>\n",
       "      <td>224.0498</td>\n",
       "      <td>187.4439</td>\n",
       "      <td>335.4420</td>\n",
       "      <td>374.6576</td>\n",
       "      <td>295.9944</td>\n",
       "      <td>0.0</td>\n",
       "      <td>0.0</td>\n",
       "    </tr>\n",
       "  </tbody>\n",
       "</table>\n",
       "</div>"
      ],
      "text/plain": [
       "   SortOrder  LocID Notes ISO3_code ISO2_code  SDMX_code  LocTypeID  \\\n",
       "0          1    900   NaN       NaN       NaN        1.0          1   \n",
       "1          1    900   NaN       NaN       NaN        1.0          1   \n",
       "2          1    900   NaN       NaN       NaN        1.0          1   \n",
       "3          1    900   NaN       NaN       NaN        1.0          1   \n",
       "4          1    900   NaN       NaN       NaN        1.0          1   \n",
       "\n",
       "  LocTypeName  ParentID Location  VarID Variant  Time  TPopulation1Jan  \\\n",
       "0       World         0    World      2  Medium  1950      2477674.732   \n",
       "1       World         0    World      2  Medium  1951      2520969.582   \n",
       "2       World         0    World      2  Medium  1952      2565291.179   \n",
       "3       World         0    World      2  Medium  1953      2615250.618   \n",
       "4       World         0    World      2  Medium  1954      2665306.975   \n",
       "\n",
       "   TPopulation1July  TPopulationMale1July  TPopulationFemale1July  PopDensity  \\\n",
       "0       2499322.157           1245362.964             1253959.192     19.1661   \n",
       "1       2543130.380           1267473.182             1275657.198     19.5020   \n",
       "2       2590270.898           1291399.982             1298870.917     19.8635   \n",
       "3       2640278.797           1316659.222             1323619.574     20.2470   \n",
       "4       2691979.339           1342923.171             1349056.168     20.6435   \n",
       "\n",
       "   PopSexRatio  MedianAgePop  NatChange  NatChangeRT  PopChange  \\\n",
       "0      99.3145       22.2243  43294.722       17.319  43294.850   \n",
       "1      99.3584       22.1716  44322.348       17.427  44321.597   \n",
       "2      99.4248       22.1083  49960.072       19.283  49959.439   \n",
       "3      99.4741       22.0364  50056.756       18.959  50056.357   \n",
       "4      99.5454       21.9524  53345.249       19.812  53344.728   \n",
       "\n",
       "   PopGrowthRate  DoublingTime      Births  Births1519     CBR     TFR  \\\n",
       "0          1.732       40.0200   92083.258   10629.041  36.837  4.8596   \n",
       "1          1.743       39.7675   92836.900   10741.899  36.502  4.8269   \n",
       "2          1.929       35.9330   97606.684   11231.717  37.672  5.0142   \n",
       "3          1.896       36.5584   97555.839   11200.749  36.948  4.9366   \n",
       "4          1.982       34.9721  100348.054   11471.273  37.269  5.0098   \n",
       "\n",
       "      NRR     MAC    SRB     Deaths  DeathsMale  DeathsFemale     CDR  \\\n",
       "0  1.6382  28.945  105.4  48788.536   25784.509     23004.027  19.518   \n",
       "1  1.6430  28.910  105.4  48514.552   25505.184     23009.368  19.075   \n",
       "2  1.7300  28.980  105.4  47646.612   24935.224     22711.388  18.389   \n",
       "3  1.7170  28.928  105.4  47499.083   24806.138     22692.945  17.989   \n",
       "4  1.7626  28.943  105.4  47002.805   24539.831     22462.974  17.457   \n",
       "\n",
       "       LEx  LExMale  LExFemale     LE15  LE15Male  LE15Female     LE65  \\\n",
       "0  46.4643  44.5946    48.4411  47.0395   44.8310     49.3734  11.2965   \n",
       "1  47.1440  45.4026    48.9655  47.5028   45.4710     49.6263  11.3369   \n",
       "2  48.2311  46.6241    49.8908  48.2552   46.4167     50.1512  11.5593   \n",
       "3  48.8024  47.2399    50.4067  48.6073   46.8170     50.4431  11.6337   \n",
       "4  49.5919  48.0295    51.1894  49.0909   47.3293     50.8869  11.8152   \n",
       "\n",
       "   LE65Male  LE65Female    LE80  LE80Male  LE80Female  InfantDeaths       IMR  \\\n",
       "0   10.4672     12.0390  5.0199    4.7308      5.2236     13109.145  143.3869   \n",
       "1   10.5123     12.0705  5.0145    4.7347      5.2121     13086.528  141.3090   \n",
       "2   10.7121     12.3094  5.1412    4.8431      5.3525     13215.704  137.2952   \n",
       "3   10.7784     12.3878  5.1490    4.8486      5.3625     13117.346  134.4685   \n",
       "4   10.9386     12.5849  5.2582    4.9476      5.4785     13122.414  131.7228   \n",
       "\n",
       "   LBsurvivingAge1  Under5Deaths        Q5     Q0040  Q0040Male  Q0040Female  \\\n",
       "0        82837.349     19780.141  224.0098  371.9932   388.9779     354.7482   \n",
       "1        83648.709     19825.046  219.1188  361.8185   375.8295     347.6746   \n",
       "2        88207.529     19875.696  212.1977  347.2697   357.6730     336.8354   \n",
       "3        88348.382     19780.603  206.9440  339.9678   349.2448     330.6815   \n",
       "4        91065.389     19781.855  202.1803  330.1323   338.8165     321.4258   \n",
       "\n",
       "      Q0060  Q0060Male  Q0060Female     Q1550  Q1550Male  Q1550Female  \\\n",
       "0  540.3848   580.7496     498.0396  240.3164   271.6253     208.1916   \n",
       "1  529.1551   566.7283     490.1993  231.1772   258.0905     203.7797   \n",
       "2  512.1586   546.3173     477.2639  218.6745   240.0344     197.1422   \n",
       "3  502.9323   535.8289     469.5325  212.8720   232.6019     193.0492   \n",
       "4  490.9939   523.1236     458.4842  205.7622   224.0498     187.4439   \n",
       "\n",
       "      Q1560  Q1560Male  Q1560Female  NetMigrations  CNMR  \n",
       "0  378.6968   430.2594     324.9308            0.0   0.0  \n",
       "1  368.3186   415.8362     319.3364            0.0   0.0  \n",
       "2  353.0546   395.5327     309.9103            0.0   0.0  \n",
       "3  345.0826   385.8433     303.9053            0.0   0.0  \n",
       "4  335.4420   374.6576     295.9944            0.0   0.0  "
      ]
     },
     "execution_count": 60,
     "metadata": {},
     "output_type": "execute_result"
    }
   ],
   "source": [
    "#checking the head of the dataset\n",
    "data.head()"
   ]
  },
  {
   "cell_type": "code",
   "execution_count": 61,
   "metadata": {
    "colab": {
     "base_uri": "https://localhost:8080/"
    },
    "id": "NPr5HdiS99Jr",
    "outputId": "ce51ae93-3114-45f6-9c05-f6a4b7bc2445"
   },
   "outputs": [
    {
     "name": "stdout",
     "output_type": "stream",
     "text": [
      "Dataset contains 67 columns and 43472 rows.\n"
     ]
    }
   ],
   "source": [
    "#checking the shape of the dataset\n",
    "dataset_shape = data.shape\n",
    "print(f\"Dataset contains {dataset_shape[1]} columns and {dataset_shape[0]} rows.\")"
   ]
  },
  {
   "cell_type": "code",
   "execution_count": 62,
   "metadata": {
    "colab": {
     "base_uri": "https://localhost:8080/"
    },
    "id": "RNDJcV0A99Js",
    "outputId": "49cf22dc-8e20-4065-ab5d-f489caffb955"
   },
   "outputs": [
    {
     "name": "stdout",
     "output_type": "stream",
     "text": [
      "<class 'pandas.core.frame.DataFrame'>\n",
      "RangeIndex: 43472 entries, 0 to 43471\n",
      "Data columns (total 67 columns):\n",
      " #   Column                  Non-Null Count  Dtype  \n",
      "---  ------                  --------------  -----  \n",
      " 0   SortOrder               43472 non-null  int64  \n",
      " 1   LocID                   43472 non-null  int64  \n",
      " 2   Notes                   11552 non-null  object \n",
      " 3   ISO3_code               36024 non-null  object \n",
      " 4   ISO2_code               35872 non-null  object \n",
      " 5   SDMX_code               42864 non-null  float64\n",
      " 6   LocTypeID               43472 non-null  int64  \n",
      " 7   LocTypeName             43472 non-null  object \n",
      " 8   ParentID                43472 non-null  int64  \n",
      " 9   Location                43472 non-null  object \n",
      " 10  VarID                   43472 non-null  int64  \n",
      " 11  Variant                 43472 non-null  object \n",
      " 12  Time                    43472 non-null  int64  \n",
      " 13  TPopulation1Jan         43472 non-null  float64\n",
      " 14  TPopulation1July        43186 non-null  float64\n",
      " 15  TPopulationMale1July    43186 non-null  float64\n",
      " 16  TPopulationFemale1July  43186 non-null  float64\n",
      " 17  PopDensity              43186 non-null  float64\n",
      " 18  PopSexRatio             43186 non-null  float64\n",
      " 19  MedianAgePop            43186 non-null  float64\n",
      " 20  NatChange               43186 non-null  float64\n",
      " 21  NatChangeRT             43186 non-null  float64\n",
      " 22  PopChange               43186 non-null  float64\n",
      " 23  PopGrowthRate           43186 non-null  float64\n",
      " 24  DoublingTime            24306 non-null  float64\n",
      " 25  Births                  43186 non-null  float64\n",
      " 26  Births1519              43186 non-null  float64\n",
      " 27  CBR                     43186 non-null  float64\n",
      " 28  TFR                     43186 non-null  float64\n",
      " 29  NRR                     43186 non-null  float64\n",
      " 30  MAC                     43186 non-null  float64\n",
      " 31  SRB                     43186 non-null  float64\n",
      " 32  Deaths                  43186 non-null  float64\n",
      " 33  DeathsMale              43186 non-null  float64\n",
      " 34  DeathsFemale            43186 non-null  float64\n",
      " 35  CDR                     43186 non-null  float64\n",
      " 36  LEx                     43186 non-null  float64\n",
      " 37  LExMale                 43186 non-null  float64\n",
      " 38  LExFemale               43186 non-null  float64\n",
      " 39  LE15                    43186 non-null  float64\n",
      " 40  LE15Male                43186 non-null  float64\n",
      " 41  LE15Female              43186 non-null  float64\n",
      " 42  LE65                    43186 non-null  float64\n",
      " 43  LE65Male                43186 non-null  float64\n",
      " 44  LE65Female              43186 non-null  float64\n",
      " 45  LE80                    43186 non-null  float64\n",
      " 46  LE80Male                43186 non-null  float64\n",
      " 47  LE80Female              43186 non-null  float64\n",
      " 48  InfantDeaths            43186 non-null  float64\n",
      " 49  IMR                     43186 non-null  float64\n",
      " 50  LBsurvivingAge1         43186 non-null  float64\n",
      " 51  Under5Deaths            43186 non-null  float64\n",
      " 52  Q5                      43186 non-null  float64\n",
      " 53  Q0040                   43186 non-null  float64\n",
      " 54  Q0040Male               43186 non-null  float64\n",
      " 55  Q0040Female             43186 non-null  float64\n",
      " 56  Q0060                   43186 non-null  float64\n",
      " 57  Q0060Male               43186 non-null  float64\n",
      " 58  Q0060Female             43186 non-null  float64\n",
      " 59  Q1550                   43186 non-null  float64\n",
      " 60  Q1550Male               43186 non-null  float64\n",
      " 61  Q1550Female             43186 non-null  float64\n",
      " 62  Q1560                   43186 non-null  float64\n",
      " 63  Q1560Male               43186 non-null  float64\n",
      " 64  Q1560Female             43186 non-null  float64\n",
      " 65  NetMigrations           43186 non-null  float64\n",
      " 66  CNMR                    43186 non-null  float64\n",
      "dtypes: float64(55), int64(6), object(6)\n",
      "memory usage: 22.2+ MB\n"
     ]
    }
   ],
   "source": [
    "# Get info on column data types and number of non-null values\n",
    "data_info = data.info()\n",
    "data_info"
   ]
  },
  {
   "cell_type": "markdown",
   "metadata": {
    "id": "65zVbJV-PBuF"
   },
   "source": [
    "Here's a summary of the data completeness:\n",
    "\n",
    "#### Fully Populated Columns\n",
    "- **Complete Data (43,472 non-null counts)**: Several columns, such as `SortOrder`, `LocID`, `LocTypeID`, `LocTypeName`, `ParentID`, `Location`, `VarID`, `Variant`, `Time`, and more, have complete data with no missing values. These columns provide consistent information across all entries.\n",
    "\n",
    "#### Partially Populated Columns\n",
    "- **Columns with Missing Data**:\n",
    "  - `Notes`: Contains 11,552 non-null entries, indicating a significant number of missing values.\n",
    "  - `ISO3_code`: 36,024 non-null entries, suggesting some locations might not have ISO 3 codes.\n",
    "  - `ISO2_code`: 35,872 non-null entries, showing a similar trend as `ISO3_code`.\n",
    "  - `SDMX_code`: 42,864 non-null entries, with missing data for some locations.\n",
    "  - `DoublingTime`: This has the most missing data, with only 24,306 non-null entries.\n",
    "  - Several columns related to population metrics (e.g., `TPopulation1July`, `TPopulationMale1July`, etc.) have 43,186 non-null entries, indicating minor data absence.\n",
    "  - Most columns from `Births` to `CNMR` (26 to 66) follow the same pattern of 43,186 non-null entries."
   ]
  },
  {
   "cell_type": "code",
   "execution_count": 63,
   "metadata": {
    "colab": {
     "base_uri": "https://localhost:8080/",
     "height": 349
    },
    "id": "KFvsKcJb99Jt",
    "outputId": "3fe4b8b4-3a0a-4fb2-ea72-2921ea56a07b"
   },
   "outputs": [
    {
     "data": {
      "text/html": [
       "<div>\n",
       "<style scoped>\n",
       "    .dataframe tbody tr th:only-of-type {\n",
       "        vertical-align: middle;\n",
       "    }\n",
       "\n",
       "    .dataframe tbody tr th {\n",
       "        vertical-align: top;\n",
       "    }\n",
       "\n",
       "    .dataframe thead th {\n",
       "        text-align: right;\n",
       "    }\n",
       "</style>\n",
       "<table border=\"1\" class=\"dataframe\">\n",
       "  <thead>\n",
       "    <tr style=\"text-align: right;\">\n",
       "      <th></th>\n",
       "      <th>SortOrder</th>\n",
       "      <th>LocID</th>\n",
       "      <th>SDMX_code</th>\n",
       "      <th>LocTypeID</th>\n",
       "      <th>ParentID</th>\n",
       "      <th>VarID</th>\n",
       "      <th>Time</th>\n",
       "      <th>TPopulation1Jan</th>\n",
       "      <th>TPopulation1July</th>\n",
       "      <th>TPopulationMale1July</th>\n",
       "      <th>TPopulationFemale1July</th>\n",
       "      <th>PopDensity</th>\n",
       "      <th>PopSexRatio</th>\n",
       "      <th>MedianAgePop</th>\n",
       "      <th>NatChange</th>\n",
       "      <th>NatChangeRT</th>\n",
       "      <th>PopChange</th>\n",
       "      <th>PopGrowthRate</th>\n",
       "      <th>DoublingTime</th>\n",
       "      <th>Births</th>\n",
       "      <th>Births1519</th>\n",
       "      <th>CBR</th>\n",
       "      <th>TFR</th>\n",
       "      <th>NRR</th>\n",
       "      <th>MAC</th>\n",
       "      <th>SRB</th>\n",
       "      <th>Deaths</th>\n",
       "      <th>DeathsMale</th>\n",
       "      <th>DeathsFemale</th>\n",
       "      <th>CDR</th>\n",
       "      <th>LEx</th>\n",
       "      <th>LExMale</th>\n",
       "      <th>LExFemale</th>\n",
       "      <th>LE15</th>\n",
       "      <th>LE15Male</th>\n",
       "      <th>LE15Female</th>\n",
       "      <th>LE65</th>\n",
       "      <th>LE65Male</th>\n",
       "      <th>LE65Female</th>\n",
       "      <th>LE80</th>\n",
       "      <th>LE80Male</th>\n",
       "      <th>LE80Female</th>\n",
       "      <th>InfantDeaths</th>\n",
       "      <th>IMR</th>\n",
       "      <th>LBsurvivingAge1</th>\n",
       "      <th>Under5Deaths</th>\n",
       "      <th>Q5</th>\n",
       "      <th>Q0040</th>\n",
       "      <th>Q0040Male</th>\n",
       "      <th>Q0040Female</th>\n",
       "      <th>Q0060</th>\n",
       "      <th>Q0060Male</th>\n",
       "      <th>Q0060Female</th>\n",
       "      <th>Q1550</th>\n",
       "      <th>Q1550Male</th>\n",
       "      <th>Q1550Female</th>\n",
       "      <th>Q1560</th>\n",
       "      <th>Q1560Male</th>\n",
       "      <th>Q1560Female</th>\n",
       "      <th>NetMigrations</th>\n",
       "      <th>CNMR</th>\n",
       "    </tr>\n",
       "  </thead>\n",
       "  <tbody>\n",
       "    <tr>\n",
       "      <th>count</th>\n",
       "      <td>43472.000000</td>\n",
       "      <td>43472.000000</td>\n",
       "      <td>42864.000000</td>\n",
       "      <td>43472.000000</td>\n",
       "      <td>43472.000000</td>\n",
       "      <td>43472.0</td>\n",
       "      <td>43472.000000</td>\n",
       "      <td>4.347200e+04</td>\n",
       "      <td>4.318600e+04</td>\n",
       "      <td>4.318600e+04</td>\n",
       "      <td>4.318600e+04</td>\n",
       "      <td>43186.000000</td>\n",
       "      <td>43186.000000</td>\n",
       "      <td>43186.000000</td>\n",
       "      <td>43186.000000</td>\n",
       "      <td>43186.000000</td>\n",
       "      <td>43186.000000</td>\n",
       "      <td>43186.000000</td>\n",
       "      <td>24306.000000</td>\n",
       "      <td>43186.000000</td>\n",
       "      <td>43186.000000</td>\n",
       "      <td>43186.000000</td>\n",
       "      <td>43186.000000</td>\n",
       "      <td>43186.000000</td>\n",
       "      <td>43186.000000</td>\n",
       "      <td>43186.000000</td>\n",
       "      <td>43186.000000</td>\n",
       "      <td>43186.000000</td>\n",
       "      <td>43186.000000</td>\n",
       "      <td>43186.000000</td>\n",
       "      <td>43186.000000</td>\n",
       "      <td>43186.000000</td>\n",
       "      <td>43186.000000</td>\n",
       "      <td>43186.000000</td>\n",
       "      <td>43186.000000</td>\n",
       "      <td>43186.000000</td>\n",
       "      <td>43186.000000</td>\n",
       "      <td>43186.000000</td>\n",
       "      <td>43186.000000</td>\n",
       "      <td>43186.000000</td>\n",
       "      <td>43186.000000</td>\n",
       "      <td>43186.000000</td>\n",
       "      <td>43186.000000</td>\n",
       "      <td>43186.000000</td>\n",
       "      <td>43186.000000</td>\n",
       "      <td>43186.000000</td>\n",
       "      <td>43186.000000</td>\n",
       "      <td>43186.000000</td>\n",
       "      <td>43186.000000</td>\n",
       "      <td>43186.000000</td>\n",
       "      <td>43186.000000</td>\n",
       "      <td>43186.000000</td>\n",
       "      <td>43186.000000</td>\n",
       "      <td>43186.000000</td>\n",
       "      <td>43186.000000</td>\n",
       "      <td>43186.000000</td>\n",
       "      <td>43186.000000</td>\n",
       "      <td>43186.000000</td>\n",
       "      <td>43186.000000</td>\n",
       "      <td>43186.000000</td>\n",
       "      <td>43186.000000</td>\n",
       "    </tr>\n",
       "    <tr>\n",
       "      <th>mean</th>\n",
       "      <td>147.332168</td>\n",
       "      <td>597.363636</td>\n",
       "      <td>410.088652</td>\n",
       "      <td>4.311189</td>\n",
       "      <td>1217.958042</td>\n",
       "      <td>2.0</td>\n",
       "      <td>2025.500000</td>\n",
       "      <td>2.437960e+05</td>\n",
       "      <td>2.440243e+05</td>\n",
       "      <td>1.221311e+05</td>\n",
       "      <td>1.218932e+05</td>\n",
       "      <td>366.399309</td>\n",
       "      <td>99.720321</td>\n",
       "      <td>31.774293</td>\n",
       "      <td>1790.293104</td>\n",
       "      <td>9.716101</td>\n",
       "      <td>1763.489559</td>\n",
       "      <td>0.963947</td>\n",
       "      <td>51.945637</td>\n",
       "      <td>4238.664792</td>\n",
       "      <td>398.786814</td>\n",
       "      <td>20.497577</td>\n",
       "      <td>2.940601</td>\n",
       "      <td>1.259219</td>\n",
       "      <td>29.396990</td>\n",
       "      <td>105.093655</td>\n",
       "      <td>2448.371688</td>\n",
       "      <td>1285.698007</td>\n",
       "      <td>1162.673683</td>\n",
       "      <td>10.781477</td>\n",
       "      <td>71.917822</td>\n",
       "      <td>69.539488</td>\n",
       "      <td>74.364977</td>\n",
       "      <td>60.515184</td>\n",
       "      <td>58.269651</td>\n",
       "      <td>62.808984</td>\n",
       "      <td>17.019007</td>\n",
       "      <td>15.726055</td>\n",
       "      <td>18.186351</td>\n",
       "      <td>7.885991</td>\n",
       "      <td>7.183887</td>\n",
       "      <td>8.402898</td>\n",
       "      <td>186.599028</td>\n",
       "      <td>32.927274</td>\n",
       "      <td>4098.020796</td>\n",
       "      <td>270.009455</td>\n",
       "      <td>48.223941</td>\n",
       "      <td>99.332016</td>\n",
       "      <td>110.554790</td>\n",
       "      <td>87.643852</td>\n",
       "      <td>199.732824</td>\n",
       "      <td>230.672052</td>\n",
       "      <td>167.528194</td>\n",
       "      <td>88.623107</td>\n",
       "      <td>104.664994</td>\n",
       "      <td>72.058302</td>\n",
       "      <td>160.871913</td>\n",
       "      <td>191.272787</td>\n",
       "      <td>129.502431</td>\n",
       "      <td>-26.787488</td>\n",
       "      <td>-0.023250</td>\n",
       "    </tr>\n",
       "    <tr>\n",
       "      <th>std</th>\n",
       "      <td>82.836780</td>\n",
       "      <td>565.624103</td>\n",
       "      <td>268.838375</td>\n",
       "      <td>1.898958</td>\n",
       "      <td>1004.616135</td>\n",
       "      <td>0.0</td>\n",
       "      <td>43.878176</td>\n",
       "      <td>9.533881e+05</td>\n",
       "      <td>9.536740e+05</td>\n",
       "      <td>4.779175e+05</td>\n",
       "      <td>4.757918e+05</td>\n",
       "      <td>2009.824590</td>\n",
       "      <td>11.237884</td>\n",
       "      <td>11.814549</td>\n",
       "      <td>8412.671612</td>\n",
       "      <td>12.257390</td>\n",
       "      <td>8224.091546</td>\n",
       "      <td>1.596821</td>\n",
       "      <td>31.265716</td>\n",
       "      <td>15775.265252</td>\n",
       "      <td>1627.045520</td>\n",
       "      <td>12.884083</td>\n",
       "      <td>1.761519</td>\n",
       "      <td>0.597235</td>\n",
       "      <td>1.584501</td>\n",
       "      <td>1.781850</td>\n",
       "      <td>9587.724975</td>\n",
       "      <td>5017.646595</td>\n",
       "      <td>4572.625982</td>\n",
       "      <td>4.797016</td>\n",
       "      <td>12.815207</td>\n",
       "      <td>12.753288</td>\n",
       "      <td>12.909933</td>\n",
       "      <td>8.555642</td>\n",
       "      <td>8.572166</td>\n",
       "      <td>8.603813</td>\n",
       "      <td>4.553957</td>\n",
       "      <td>4.351095</td>\n",
       "      <td>4.815147</td>\n",
       "      <td>2.555748</td>\n",
       "      <td>2.342584</td>\n",
       "      <td>2.781219</td>\n",
       "      <td>931.157341</td>\n",
       "      <td>45.065120</td>\n",
       "      <td>15254.128194</td>\n",
       "      <td>1368.976695</td>\n",
       "      <td>72.899722</td>\n",
       "      <td>121.060501</td>\n",
       "      <td>125.495588</td>\n",
       "      <td>117.202514</td>\n",
       "      <td>165.617735</td>\n",
       "      <td>173.372260</td>\n",
       "      <td>159.337831</td>\n",
       "      <td>84.139463</td>\n",
       "      <td>91.902748</td>\n",
       "      <td>77.690070</td>\n",
       "      <td>121.131403</td>\n",
       "      <td>131.796086</td>\n",
       "      <td>112.327630</td>\n",
       "      <td>421.691260</td>\n",
       "      <td>10.670331</td>\n",
       "    </tr>\n",
       "    <tr>\n",
       "      <th>min</th>\n",
       "      <td>1.000000</td>\n",
       "      <td>4.000000</td>\n",
       "      <td>1.000000</td>\n",
       "      <td>1.000000</td>\n",
       "      <td>0.000000</td>\n",
       "      <td>2.0</td>\n",
       "      <td>1950.000000</td>\n",
       "      <td>5.080000e-01</td>\n",
       "      <td>5.100000e-01</td>\n",
       "      <td>2.460000e-01</td>\n",
       "      <td>2.650000e-01</td>\n",
       "      <td>0.048800</td>\n",
       "      <td>63.600700</td>\n",
       "      <td>13.078300</td>\n",
       "      <td>-19500.018000</td>\n",
       "      <td>-62.082000</td>\n",
       "      <td>-21146.339000</td>\n",
       "      <td>-71.689000</td>\n",
       "      <td>1.909500</td>\n",
       "      <td>0.002000</td>\n",
       "      <td>0.000000</td>\n",
       "      <td>4.089000</td>\n",
       "      <td>0.745500</td>\n",
       "      <td>0.282300</td>\n",
       "      <td>23.685000</td>\n",
       "      <td>96.700000</td>\n",
       "      <td>0.005000</td>\n",
       "      <td>0.002000</td>\n",
       "      <td>0.002000</td>\n",
       "      <td>0.795000</td>\n",
       "      <td>11.995100</td>\n",
       "      <td>10.053700</td>\n",
       "      <td>12.721000</td>\n",
       "      <td>8.684800</td>\n",
       "      <td>7.062100</td>\n",
       "      <td>11.262900</td>\n",
       "      <td>3.741200</td>\n",
       "      <td>3.200600</td>\n",
       "      <td>4.389600</td>\n",
       "      <td>2.104200</td>\n",
       "      <td>1.846400</td>\n",
       "      <td>2.277600</td>\n",
       "      <td>0.000000</td>\n",
       "      <td>0.091900</td>\n",
       "      <td>0.002000</td>\n",
       "      <td>0.000000</td>\n",
       "      <td>0.125600</td>\n",
       "      <td>1.115200</td>\n",
       "      <td>1.596100</td>\n",
       "      <td>0.610600</td>\n",
       "      <td>5.722800</td>\n",
       "      <td>7.665600</td>\n",
       "      <td>3.686800</td>\n",
       "      <td>2.164700</td>\n",
       "      <td>2.904400</td>\n",
       "      <td>1.328700</td>\n",
       "      <td>5.556600</td>\n",
       "      <td>7.446900</td>\n",
       "      <td>3.576300</td>\n",
       "      <td>-8636.202000</td>\n",
       "      <td>-526.323000</td>\n",
       "    </tr>\n",
       "    <tr>\n",
       "      <th>25%</th>\n",
       "      <td>76.000000</td>\n",
       "      <td>266.000000</td>\n",
       "      <td>158.000000</td>\n",
       "      <td>4.000000</td>\n",
       "      <td>914.000000</td>\n",
       "      <td>2.0</td>\n",
       "      <td>1987.750000</td>\n",
       "      <td>6.073463e+02</td>\n",
       "      <td>6.103307e+02</td>\n",
       "      <td>3.064090e+02</td>\n",
       "      <td>3.038787e+02</td>\n",
       "      <td>26.767400</td>\n",
       "      <td>96.067900</td>\n",
       "      <td>20.413400</td>\n",
       "      <td>-0.037750</td>\n",
       "      <td>-0.532000</td>\n",
       "      <td>-0.021000</td>\n",
       "      <td>-0.032000</td>\n",
       "      <td>27.648500</td>\n",
       "      <td>10.267000</td>\n",
       "      <td>0.439000</td>\n",
       "      <td>10.002000</td>\n",
       "      <td>1.687525</td>\n",
       "      <td>0.816600</td>\n",
       "      <td>28.372250</td>\n",
       "      <td>103.900000</td>\n",
       "      <td>5.728250</td>\n",
       "      <td>3.058250</td>\n",
       "      <td>2.615500</td>\n",
       "      <td>7.526250</td>\n",
       "      <td>65.152725</td>\n",
       "      <td>62.613075</td>\n",
       "      <td>67.833550</td>\n",
       "      <td>54.776200</td>\n",
       "      <td>52.429925</td>\n",
       "      <td>57.176425</td>\n",
       "      <td>13.392625</td>\n",
       "      <td>12.321875</td>\n",
       "      <td>14.282575</td>\n",
       "      <td>5.835650</td>\n",
       "      <td>5.373425</td>\n",
       "      <td>6.139200</td>\n",
       "      <td>0.064000</td>\n",
       "      <td>3.854050</td>\n",
       "      <td>10.078000</td>\n",
       "      <td>0.078000</td>\n",
       "      <td>4.650050</td>\n",
       "      <td>18.041600</td>\n",
       "      <td>22.347825</td>\n",
       "      <td>13.366925</td>\n",
       "      <td>69.387250</td>\n",
       "      <td>88.241775</td>\n",
       "      <td>49.415325</td>\n",
       "      <td>27.297075</td>\n",
       "      <td>35.225125</td>\n",
       "      <td>18.750625</td>\n",
       "      <td>63.509825</td>\n",
       "      <td>81.957125</td>\n",
       "      <td>44.202025</td>\n",
       "      <td>-12.499000</td>\n",
       "      <td>-1.381000</td>\n",
       "    </tr>\n",
       "    <tr>\n",
       "      <th>50%</th>\n",
       "      <td>147.500000</td>\n",
       "      <td>529.500000</td>\n",
       "      <td>415.500000</td>\n",
       "      <td>4.000000</td>\n",
       "      <td>922.000000</td>\n",
       "      <td>2.0</td>\n",
       "      <td>2025.500000</td>\n",
       "      <td>7.227150e+03</td>\n",
       "      <td>7.243970e+03</td>\n",
       "      <td>3.576372e+03</td>\n",
       "      <td>3.631668e+03</td>\n",
       "      <td>80.440900</td>\n",
       "      <td>98.745050</td>\n",
       "      <td>31.097350</td>\n",
       "      <td>16.412500</td>\n",
       "      <td>7.576000</td>\n",
       "      <td>20.018500</td>\n",
       "      <td>0.696000</td>\n",
       "      <td>41.111900</td>\n",
       "      <td>128.541000</td>\n",
       "      <td>7.882500</td>\n",
       "      <td>15.629000</td>\n",
       "      <td>2.099750</td>\n",
       "      <td>0.994900</td>\n",
       "      <td>29.347000</td>\n",
       "      <td>105.100000</td>\n",
       "      <td>77.833500</td>\n",
       "      <td>41.531000</td>\n",
       "      <td>36.273000</td>\n",
       "      <td>9.885500</td>\n",
       "      <td>73.726050</td>\n",
       "      <td>70.763250</td>\n",
       "      <td>76.878050</td>\n",
       "      <td>60.261550</td>\n",
       "      <td>57.531400</td>\n",
       "      <td>63.147400</td>\n",
       "      <td>15.931100</td>\n",
       "      <td>14.352350</td>\n",
       "      <td>17.357750</td>\n",
       "      <td>7.187600</td>\n",
       "      <td>6.357050</td>\n",
       "      <td>7.747700</td>\n",
       "      <td>1.575000</td>\n",
       "      <td>13.102350</td>\n",
       "      <td>123.865500</td>\n",
       "      <td>1.973000</td>\n",
       "      <td>16.262400</td>\n",
       "      <td>49.801250</td>\n",
       "      <td>62.541200</td>\n",
       "      <td>35.903700</td>\n",
       "      <td>152.518950</td>\n",
       "      <td>192.366800</td>\n",
       "      <td>109.848150</td>\n",
       "      <td>61.788700</td>\n",
       "      <td>79.642850</td>\n",
       "      <td>42.674800</td>\n",
       "      <td>133.883450</td>\n",
       "      <td>170.604950</td>\n",
       "      <td>94.268300</td>\n",
       "      <td>-0.500000</td>\n",
       "      <td>-0.168000</td>\n",
       "    </tr>\n",
       "    <tr>\n",
       "      <th>75%</th>\n",
       "      <td>219.000000</td>\n",
       "      <td>792.000000</td>\n",
       "      <td>643.000000</td>\n",
       "      <td>4.000000</td>\n",
       "      <td>931.000000</td>\n",
       "      <td>2.0</td>\n",
       "      <td>2063.250000</td>\n",
       "      <td>4.826893e+04</td>\n",
       "      <td>4.834286e+04</td>\n",
       "      <td>2.392126e+04</td>\n",
       "      <td>2.433757e+04</td>\n",
       "      <td>185.993275</td>\n",
       "      <td>101.196200</td>\n",
       "      <td>41.889175</td>\n",
       "      <td>277.726750</td>\n",
       "      <td>20.036000</td>\n",
       "      <td>303.456500</td>\n",
       "      <td>1.881750</td>\n",
       "      <td>70.085700</td>\n",
       "      <td>837.458500</td>\n",
       "      <td>73.811750</td>\n",
       "      <td>28.568500</td>\n",
       "      <td>3.668375</td>\n",
       "      <td>1.616175</td>\n",
       "      <td>30.515750</td>\n",
       "      <td>106.000000</td>\n",
       "      <td>465.038750</td>\n",
       "      <td>245.078500</td>\n",
       "      <td>219.643250</td>\n",
       "      <td>12.857000</td>\n",
       "      <td>81.729400</td>\n",
       "      <td>79.431725</td>\n",
       "      <td>84.018750</td>\n",
       "      <td>67.240875</td>\n",
       "      <td>65.005925</td>\n",
       "      <td>69.485900</td>\n",
       "      <td>20.421025</td>\n",
       "      <td>18.895750</td>\n",
       "      <td>21.807150</td>\n",
       "      <td>9.663850</td>\n",
       "      <td>8.765625</td>\n",
       "      <td>10.324875</td>\n",
       "      <td>22.049500</td>\n",
       "      <td>41.409425</td>\n",
       "      <td>815.277750</td>\n",
       "      <td>30.127750</td>\n",
       "      <td>55.367275</td>\n",
       "      <td>128.234100</td>\n",
       "      <td>146.315650</td>\n",
       "      <td>108.560575</td>\n",
       "      <td>278.213375</td>\n",
       "      <td>325.327575</td>\n",
       "      <td>230.770550</td>\n",
       "      <td>119.285875</td>\n",
       "      <td>144.534800</td>\n",
       "      <td>93.922775</td>\n",
       "      <td>223.979800</td>\n",
       "      <td>268.038025</td>\n",
       "      <td>178.899825</td>\n",
       "      <td>1.995000</td>\n",
       "      <td>1.074750</td>\n",
       "    </tr>\n",
       "    <tr>\n",
       "      <th>max</th>\n",
       "      <td>290.000000</td>\n",
       "      <td>5501.000000</td>\n",
       "      <td>914.000000</td>\n",
       "      <td>13.000000</td>\n",
       "      <td>5501.000000</td>\n",
       "      <td>2.0</td>\n",
       "      <td>2101.000000</td>\n",
       "      <td>1.043105e+07</td>\n",
       "      <td>1.043093e+07</td>\n",
       "      <td>5.192851e+06</td>\n",
       "      <td>5.238946e+06</td>\n",
       "      <td>34132.550300</td>\n",
       "      <td>327.456200</td>\n",
       "      <td>63.313100</td>\n",
       "      <td>92831.317000</td>\n",
       "      <td>43.707000</td>\n",
       "      <td>92831.020000</td>\n",
       "      <td>36.299000</td>\n",
       "      <td>138.352700</td>\n",
       "      <td>144194.060000</td>\n",
       "      <td>18804.638000</td>\n",
       "      <td>59.416000</td>\n",
       "      <td>8.863700</td>\n",
       "      <td>3.509900</td>\n",
       "      <td>34.843000</td>\n",
       "      <td>128.200000</td>\n",
       "      <td>122811.672000</td>\n",
       "      <td>63255.546000</td>\n",
       "      <td>59556.126000</td>\n",
       "      <td>103.534000</td>\n",
       "      <td>95.755200</td>\n",
       "      <td>93.835700</td>\n",
       "      <td>98.010700</td>\n",
       "      <td>80.847500</td>\n",
       "      <td>78.936400</td>\n",
       "      <td>83.044000</td>\n",
       "      <td>31.261200</td>\n",
       "      <td>29.457900</td>\n",
       "      <td>33.422100</td>\n",
       "      <td>17.355200</td>\n",
       "      <td>15.812600</td>\n",
       "      <td>19.094300</td>\n",
       "      <td>13837.096000</td>\n",
       "      <td>400.643400</td>\n",
       "      <td>140200.448000</td>\n",
       "      <td>22514.700000</td>\n",
       "      <td>659.333800</td>\n",
       "      <td>986.797300</td>\n",
       "      <td>995.660900</td>\n",
       "      <td>962.566000</td>\n",
       "      <td>999.798500</td>\n",
       "      <td>999.971300</td>\n",
       "      <td>998.752100</td>\n",
       "      <td>996.165900</td>\n",
       "      <td>999.101700</td>\n",
       "      <td>985.125500</td>\n",
       "      <td>999.602500</td>\n",
       "      <td>999.941800</td>\n",
       "      <td>997.597100</td>\n",
       "      <td>7674.484000</td>\n",
       "      <td>415.239000</td>\n",
       "    </tr>\n",
       "  </tbody>\n",
       "</table>\n",
       "</div>"
      ],
      "text/plain": [
       "          SortOrder         LocID     SDMX_code     LocTypeID      ParentID  \\\n",
       "count  43472.000000  43472.000000  42864.000000  43472.000000  43472.000000   \n",
       "mean     147.332168    597.363636    410.088652      4.311189   1217.958042   \n",
       "std       82.836780    565.624103    268.838375      1.898958   1004.616135   \n",
       "min        1.000000      4.000000      1.000000      1.000000      0.000000   \n",
       "25%       76.000000    266.000000    158.000000      4.000000    914.000000   \n",
       "50%      147.500000    529.500000    415.500000      4.000000    922.000000   \n",
       "75%      219.000000    792.000000    643.000000      4.000000    931.000000   \n",
       "max      290.000000   5501.000000    914.000000     13.000000   5501.000000   \n",
       "\n",
       "         VarID          Time  TPopulation1Jan  TPopulation1July  \\\n",
       "count  43472.0  43472.000000     4.347200e+04      4.318600e+04   \n",
       "mean       2.0   2025.500000     2.437960e+05      2.440243e+05   \n",
       "std        0.0     43.878176     9.533881e+05      9.536740e+05   \n",
       "min        2.0   1950.000000     5.080000e-01      5.100000e-01   \n",
       "25%        2.0   1987.750000     6.073463e+02      6.103307e+02   \n",
       "50%        2.0   2025.500000     7.227150e+03      7.243970e+03   \n",
       "75%        2.0   2063.250000     4.826893e+04      4.834286e+04   \n",
       "max        2.0   2101.000000     1.043105e+07      1.043093e+07   \n",
       "\n",
       "       TPopulationMale1July  TPopulationFemale1July    PopDensity  \\\n",
       "count          4.318600e+04            4.318600e+04  43186.000000   \n",
       "mean           1.221311e+05            1.218932e+05    366.399309   \n",
       "std            4.779175e+05            4.757918e+05   2009.824590   \n",
       "min            2.460000e-01            2.650000e-01      0.048800   \n",
       "25%            3.064090e+02            3.038787e+02     26.767400   \n",
       "50%            3.576372e+03            3.631668e+03     80.440900   \n",
       "75%            2.392126e+04            2.433757e+04    185.993275   \n",
       "max            5.192851e+06            5.238946e+06  34132.550300   \n",
       "\n",
       "        PopSexRatio  MedianAgePop     NatChange   NatChangeRT     PopChange  \\\n",
       "count  43186.000000  43186.000000  43186.000000  43186.000000  43186.000000   \n",
       "mean      99.720321     31.774293   1790.293104      9.716101   1763.489559   \n",
       "std       11.237884     11.814549   8412.671612     12.257390   8224.091546   \n",
       "min       63.600700     13.078300 -19500.018000    -62.082000 -21146.339000   \n",
       "25%       96.067900     20.413400     -0.037750     -0.532000     -0.021000   \n",
       "50%       98.745050     31.097350     16.412500      7.576000     20.018500   \n",
       "75%      101.196200     41.889175    277.726750     20.036000    303.456500   \n",
       "max      327.456200     63.313100  92831.317000     43.707000  92831.020000   \n",
       "\n",
       "       PopGrowthRate  DoublingTime         Births    Births1519           CBR  \\\n",
       "count   43186.000000  24306.000000   43186.000000  43186.000000  43186.000000   \n",
       "mean        0.963947     51.945637    4238.664792    398.786814     20.497577   \n",
       "std         1.596821     31.265716   15775.265252   1627.045520     12.884083   \n",
       "min       -71.689000      1.909500       0.002000      0.000000      4.089000   \n",
       "25%        -0.032000     27.648500      10.267000      0.439000     10.002000   \n",
       "50%         0.696000     41.111900     128.541000      7.882500     15.629000   \n",
       "75%         1.881750     70.085700     837.458500     73.811750     28.568500   \n",
       "max        36.299000    138.352700  144194.060000  18804.638000     59.416000   \n",
       "\n",
       "                TFR           NRR           MAC           SRB         Deaths  \\\n",
       "count  43186.000000  43186.000000  43186.000000  43186.000000   43186.000000   \n",
       "mean       2.940601      1.259219     29.396990    105.093655    2448.371688   \n",
       "std        1.761519      0.597235      1.584501      1.781850    9587.724975   \n",
       "min        0.745500      0.282300     23.685000     96.700000       0.005000   \n",
       "25%        1.687525      0.816600     28.372250    103.900000       5.728250   \n",
       "50%        2.099750      0.994900     29.347000    105.100000      77.833500   \n",
       "75%        3.668375      1.616175     30.515750    106.000000     465.038750   \n",
       "max        8.863700      3.509900     34.843000    128.200000  122811.672000   \n",
       "\n",
       "         DeathsMale  DeathsFemale           CDR           LEx       LExMale  \\\n",
       "count  43186.000000  43186.000000  43186.000000  43186.000000  43186.000000   \n",
       "mean    1285.698007   1162.673683     10.781477     71.917822     69.539488   \n",
       "std     5017.646595   4572.625982      4.797016     12.815207     12.753288   \n",
       "min        0.002000      0.002000      0.795000     11.995100     10.053700   \n",
       "25%        3.058250      2.615500      7.526250     65.152725     62.613075   \n",
       "50%       41.531000     36.273000      9.885500     73.726050     70.763250   \n",
       "75%      245.078500    219.643250     12.857000     81.729400     79.431725   \n",
       "max    63255.546000  59556.126000    103.534000     95.755200     93.835700   \n",
       "\n",
       "          LExFemale          LE15      LE15Male    LE15Female          LE65  \\\n",
       "count  43186.000000  43186.000000  43186.000000  43186.000000  43186.000000   \n",
       "mean      74.364977     60.515184     58.269651     62.808984     17.019007   \n",
       "std       12.909933      8.555642      8.572166      8.603813      4.553957   \n",
       "min       12.721000      8.684800      7.062100     11.262900      3.741200   \n",
       "25%       67.833550     54.776200     52.429925     57.176425     13.392625   \n",
       "50%       76.878050     60.261550     57.531400     63.147400     15.931100   \n",
       "75%       84.018750     67.240875     65.005925     69.485900     20.421025   \n",
       "max       98.010700     80.847500     78.936400     83.044000     31.261200   \n",
       "\n",
       "           LE65Male    LE65Female          LE80      LE80Male    LE80Female  \\\n",
       "count  43186.000000  43186.000000  43186.000000  43186.000000  43186.000000   \n",
       "mean      15.726055     18.186351      7.885991      7.183887      8.402898   \n",
       "std        4.351095      4.815147      2.555748      2.342584      2.781219   \n",
       "min        3.200600      4.389600      2.104200      1.846400      2.277600   \n",
       "25%       12.321875     14.282575      5.835650      5.373425      6.139200   \n",
       "50%       14.352350     17.357750      7.187600      6.357050      7.747700   \n",
       "75%       18.895750     21.807150      9.663850      8.765625     10.324875   \n",
       "max       29.457900     33.422100     17.355200     15.812600     19.094300   \n",
       "\n",
       "       InfantDeaths           IMR  LBsurvivingAge1  Under5Deaths  \\\n",
       "count  43186.000000  43186.000000     43186.000000  43186.000000   \n",
       "mean     186.599028     32.927274      4098.020796    270.009455   \n",
       "std      931.157341     45.065120     15254.128194   1368.976695   \n",
       "min        0.000000      0.091900         0.002000      0.000000   \n",
       "25%        0.064000      3.854050        10.078000      0.078000   \n",
       "50%        1.575000     13.102350       123.865500      1.973000   \n",
       "75%       22.049500     41.409425       815.277750     30.127750   \n",
       "max    13837.096000    400.643400    140200.448000  22514.700000   \n",
       "\n",
       "                 Q5         Q0040     Q0040Male   Q0040Female         Q0060  \\\n",
       "count  43186.000000  43186.000000  43186.000000  43186.000000  43186.000000   \n",
       "mean      48.223941     99.332016    110.554790     87.643852    199.732824   \n",
       "std       72.899722    121.060501    125.495588    117.202514    165.617735   \n",
       "min        0.125600      1.115200      1.596100      0.610600      5.722800   \n",
       "25%        4.650050     18.041600     22.347825     13.366925     69.387250   \n",
       "50%       16.262400     49.801250     62.541200     35.903700    152.518950   \n",
       "75%       55.367275    128.234100    146.315650    108.560575    278.213375   \n",
       "max      659.333800    986.797300    995.660900    962.566000    999.798500   \n",
       "\n",
       "          Q0060Male   Q0060Female         Q1550     Q1550Male   Q1550Female  \\\n",
       "count  43186.000000  43186.000000  43186.000000  43186.000000  43186.000000   \n",
       "mean     230.672052    167.528194     88.623107    104.664994     72.058302   \n",
       "std      173.372260    159.337831     84.139463     91.902748     77.690070   \n",
       "min        7.665600      3.686800      2.164700      2.904400      1.328700   \n",
       "25%       88.241775     49.415325     27.297075     35.225125     18.750625   \n",
       "50%      192.366800    109.848150     61.788700     79.642850     42.674800   \n",
       "75%      325.327575    230.770550    119.285875    144.534800     93.922775   \n",
       "max      999.971300    998.752100    996.165900    999.101700    985.125500   \n",
       "\n",
       "              Q1560     Q1560Male   Q1560Female  NetMigrations          CNMR  \n",
       "count  43186.000000  43186.000000  43186.000000   43186.000000  43186.000000  \n",
       "mean     160.871913    191.272787    129.502431     -26.787488     -0.023250  \n",
       "std      121.131403    131.796086    112.327630     421.691260     10.670331  \n",
       "min        5.556600      7.446900      3.576300   -8636.202000   -526.323000  \n",
       "25%       63.509825     81.957125     44.202025     -12.499000     -1.381000  \n",
       "50%      133.883450    170.604950     94.268300      -0.500000     -0.168000  \n",
       "75%      223.979800    268.038025    178.899825       1.995000      1.074750  \n",
       "max      999.602500    999.941800    997.597100    7674.484000    415.239000  "
      ]
     },
     "execution_count": 63,
     "metadata": {},
     "output_type": "execute_result"
    }
   ],
   "source": [
    "# Get summary statistics for numerical columns\n",
    "numerical_summary = data.describe()\n",
    "numerical_summary"
   ]
  },
  {
   "cell_type": "code",
   "execution_count": 64,
   "metadata": {
    "colab": {
     "base_uri": "https://localhost:8080/",
     "height": 174
    },
    "id": "vg20VAHX99Jt",
    "outputId": "e163168b-39ad-4583-8108-ae0f7bbc8275"
   },
   "outputs": [
    {
     "data": {
      "text/html": [
       "<div>\n",
       "<style scoped>\n",
       "    .dataframe tbody tr th:only-of-type {\n",
       "        vertical-align: middle;\n",
       "    }\n",
       "\n",
       "    .dataframe tbody tr th {\n",
       "        vertical-align: top;\n",
       "    }\n",
       "\n",
       "    .dataframe thead th {\n",
       "        text-align: right;\n",
       "    }\n",
       "</style>\n",
       "<table border=\"1\" class=\"dataframe\">\n",
       "  <thead>\n",
       "    <tr style=\"text-align: right;\">\n",
       "      <th></th>\n",
       "      <th>Notes</th>\n",
       "      <th>ISO3_code</th>\n",
       "      <th>ISO2_code</th>\n",
       "      <th>LocTypeName</th>\n",
       "      <th>Location</th>\n",
       "      <th>Variant</th>\n",
       "    </tr>\n",
       "  </thead>\n",
       "  <tbody>\n",
       "    <tr>\n",
       "      <th>count</th>\n",
       "      <td>11552</td>\n",
       "      <td>36024</td>\n",
       "      <td>35872</td>\n",
       "      <td>43472</td>\n",
       "      <td>43472</td>\n",
       "      <td>43472</td>\n",
       "    </tr>\n",
       "    <tr>\n",
       "      <th>unique</th>\n",
       "      <td>43</td>\n",
       "      <td>237</td>\n",
       "      <td>236</td>\n",
       "      <td>7</td>\n",
       "      <td>284</td>\n",
       "      <td>1</td>\n",
       "    </tr>\n",
       "    <tr>\n",
       "      <th>top</th>\n",
       "      <td>2</td>\n",
       "      <td>BDI</td>\n",
       "      <td>BI</td>\n",
       "      <td>Country/Area</td>\n",
       "      <td>Latin America and the Caribbean</td>\n",
       "      <td>Medium</td>\n",
       "    </tr>\n",
       "    <tr>\n",
       "      <th>freq</th>\n",
       "      <td>1672</td>\n",
       "      <td>152</td>\n",
       "      <td>152</td>\n",
       "      <td>36024</td>\n",
       "      <td>304</td>\n",
       "      <td>43472</td>\n",
       "    </tr>\n",
       "  </tbody>\n",
       "</table>\n",
       "</div>"
      ],
      "text/plain": [
       "        Notes ISO3_code ISO2_code   LocTypeName  \\\n",
       "count   11552     36024     35872         43472   \n",
       "unique     43       237       236             7   \n",
       "top         2       BDI        BI  Country/Area   \n",
       "freq     1672       152       152         36024   \n",
       "\n",
       "                               Location Variant  \n",
       "count                             43472   43472  \n",
       "unique                              284       1  \n",
       "top     Latin America and the Caribbean  Medium  \n",
       "freq                                304   43472  "
      ]
     },
     "execution_count": 64,
     "metadata": {},
     "output_type": "execute_result"
    }
   ],
   "source": [
    "# Get summary statistics for categorical columns\n",
    "categorical_columns = data.select_dtypes(include=['object']).columns\n",
    "categorical_summary = data[categorical_columns].describe()\n",
    "categorical_summary"
   ]
  },
  {
   "cell_type": "markdown",
   "metadata": {
    "id": "nEDhwyC899Ju"
   },
   "source": [
    "### Data Cleaning"
   ]
  },
  {
   "cell_type": "code",
   "execution_count": 65,
   "metadata": {
    "id": "rPyLgvP7XxFq"
   },
   "outputs": [],
   "source": [
    "pd.set_option('display.max_rows', None)"
   ]
  },
  {
   "cell_type": "code",
   "execution_count": 66,
   "metadata": {
    "colab": {
     "base_uri": "https://localhost:8080/"
    },
    "id": "n3Ubq0fkXJfc",
    "outputId": "93f4392a-e9ec-4cf4-8684-f6820e1b1010"
   },
   "outputs": [
    {
     "name": "stdout",
     "output_type": "stream",
     "text": [
      "SortOrder ----> 0\n",
      "LocID ----> 0\n",
      "Notes ----> 31920\n",
      "ISO3_code ----> 7448\n",
      "ISO2_code ----> 7600\n",
      "SDMX_code ----> 608\n",
      "LocTypeID ----> 0\n",
      "LocTypeName ----> 0\n",
      "ParentID ----> 0\n",
      "Location ----> 0\n",
      "VarID ----> 0\n",
      "Variant ----> 0\n",
      "Time ----> 0\n",
      "TPopulation1Jan ----> 0\n",
      "TPopulation1July ----> 286\n",
      "TPopulationMale1July ----> 286\n",
      "TPopulationFemale1July ----> 286\n",
      "PopDensity ----> 286\n",
      "PopSexRatio ----> 286\n",
      "MedianAgePop ----> 286\n",
      "NatChange ----> 286\n",
      "NatChangeRT ----> 286\n",
      "PopChange ----> 286\n",
      "PopGrowthRate ----> 286\n",
      "DoublingTime ----> 19166\n",
      "Births ----> 286\n",
      "Births1519 ----> 286\n",
      "CBR ----> 286\n",
      "TFR ----> 286\n",
      "NRR ----> 286\n",
      "MAC ----> 286\n",
      "SRB ----> 286\n",
      "Deaths ----> 286\n",
      "DeathsMale ----> 286\n",
      "DeathsFemale ----> 286\n",
      "CDR ----> 286\n",
      "LEx ----> 286\n",
      "LExMale ----> 286\n",
      "LExFemale ----> 286\n",
      "LE15 ----> 286\n",
      "LE15Male ----> 286\n",
      "LE15Female ----> 286\n",
      "LE65 ----> 286\n",
      "LE65Male ----> 286\n",
      "LE65Female ----> 286\n",
      "LE80 ----> 286\n",
      "LE80Male ----> 286\n",
      "LE80Female ----> 286\n",
      "InfantDeaths ----> 286\n",
      "IMR ----> 286\n",
      "LBsurvivingAge1 ----> 286\n",
      "Under5Deaths ----> 286\n",
      "Q5 ----> 286\n",
      "Q0040 ----> 286\n",
      "Q0040Male ----> 286\n",
      "Q0040Female ----> 286\n",
      "Q0060 ----> 286\n",
      "Q0060Male ----> 286\n",
      "Q0060Female ----> 286\n",
      "Q1550 ----> 286\n",
      "Q1550Male ----> 286\n",
      "Q1550Female ----> 286\n",
      "Q1560 ----> 286\n",
      "Q1560Male ----> 286\n",
      "Q1560Female ----> 286\n",
      "NetMigrations ----> 286\n",
      "CNMR ----> 286\n"
     ]
    }
   ],
   "source": [
    "#checking unnecessary columns\n",
    "for idx,val in zip(data.isnull().sum().index,data.isnull().sum().values):\n",
    "  print(idx,\"---->\",val)"
   ]
  },
  {
   "cell_type": "code",
   "execution_count": 67,
   "metadata": {},
   "outputs": [
    {
     "data": {
      "text/html": [
       "<div>\n",
       "<style scoped>\n",
       "    .dataframe tbody tr th:only-of-type {\n",
       "        vertical-align: middle;\n",
       "    }\n",
       "\n",
       "    .dataframe tbody tr th {\n",
       "        vertical-align: top;\n",
       "    }\n",
       "\n",
       "    .dataframe thead th {\n",
       "        text-align: right;\n",
       "    }\n",
       "</style>\n",
       "<table border=\"1\" class=\"dataframe\">\n",
       "  <thead>\n",
       "    <tr style=\"text-align: right;\">\n",
       "      <th></th>\n",
       "      <th>SortOrder</th>\n",
       "      <th>LocID</th>\n",
       "      <th>Notes</th>\n",
       "      <th>ISO3_code</th>\n",
       "      <th>ISO2_code</th>\n",
       "      <th>SDMX_code</th>\n",
       "      <th>LocTypeID</th>\n",
       "      <th>LocTypeName</th>\n",
       "      <th>ParentID</th>\n",
       "      <th>Location</th>\n",
       "      <th>VarID</th>\n",
       "      <th>Variant</th>\n",
       "      <th>Time</th>\n",
       "      <th>TPopulation1Jan</th>\n",
       "      <th>TPopulation1July</th>\n",
       "      <th>TPopulationMale1July</th>\n",
       "      <th>TPopulationFemale1July</th>\n",
       "      <th>PopDensity</th>\n",
       "      <th>PopSexRatio</th>\n",
       "      <th>MedianAgePop</th>\n",
       "      <th>NatChange</th>\n",
       "      <th>NatChangeRT</th>\n",
       "      <th>PopChange</th>\n",
       "      <th>PopGrowthRate</th>\n",
       "      <th>DoublingTime</th>\n",
       "      <th>Births</th>\n",
       "      <th>Births1519</th>\n",
       "      <th>CBR</th>\n",
       "      <th>TFR</th>\n",
       "      <th>NRR</th>\n",
       "      <th>MAC</th>\n",
       "      <th>SRB</th>\n",
       "      <th>Deaths</th>\n",
       "      <th>DeathsMale</th>\n",
       "      <th>DeathsFemale</th>\n",
       "      <th>CDR</th>\n",
       "      <th>LEx</th>\n",
       "      <th>LExMale</th>\n",
       "      <th>LExFemale</th>\n",
       "      <th>LE15</th>\n",
       "      <th>LE15Male</th>\n",
       "      <th>LE15Female</th>\n",
       "      <th>LE65</th>\n",
       "      <th>LE65Male</th>\n",
       "      <th>LE65Female</th>\n",
       "      <th>LE80</th>\n",
       "      <th>LE80Male</th>\n",
       "      <th>LE80Female</th>\n",
       "      <th>InfantDeaths</th>\n",
       "      <th>IMR</th>\n",
       "      <th>LBsurvivingAge1</th>\n",
       "      <th>Under5Deaths</th>\n",
       "      <th>Q5</th>\n",
       "      <th>Q0040</th>\n",
       "      <th>Q0040Male</th>\n",
       "      <th>Q0040Female</th>\n",
       "      <th>Q0060</th>\n",
       "      <th>Q0060Male</th>\n",
       "      <th>Q0060Female</th>\n",
       "      <th>Q1550</th>\n",
       "      <th>Q1550Male</th>\n",
       "      <th>Q1550Female</th>\n",
       "      <th>Q1560</th>\n",
       "      <th>Q1560Male</th>\n",
       "      <th>Q1560Female</th>\n",
       "      <th>NetMigrations</th>\n",
       "      <th>CNMR</th>\n",
       "    </tr>\n",
       "  </thead>\n",
       "  <tbody>\n",
       "    <tr>\n",
       "      <th>0</th>\n",
       "      <td>1</td>\n",
       "      <td>900</td>\n",
       "      <td>NaN</td>\n",
       "      <td>NaN</td>\n",
       "      <td>NaN</td>\n",
       "      <td>1.0</td>\n",
       "      <td>1</td>\n",
       "      <td>World</td>\n",
       "      <td>0</td>\n",
       "      <td>World</td>\n",
       "      <td>2</td>\n",
       "      <td>Medium</td>\n",
       "      <td>1950</td>\n",
       "      <td>2477674.732</td>\n",
       "      <td>2499322.157</td>\n",
       "      <td>1245362.964</td>\n",
       "      <td>1253959.192</td>\n",
       "      <td>19.1661</td>\n",
       "      <td>99.3145</td>\n",
       "      <td>22.2243</td>\n",
       "      <td>43294.722</td>\n",
       "      <td>17.319</td>\n",
       "      <td>43294.850</td>\n",
       "      <td>1.732</td>\n",
       "      <td>40.0200</td>\n",
       "      <td>92083.258</td>\n",
       "      <td>10629.041</td>\n",
       "      <td>36.837</td>\n",
       "      <td>4.8596</td>\n",
       "      <td>1.6382</td>\n",
       "      <td>28.945</td>\n",
       "      <td>105.4</td>\n",
       "      <td>48788.536</td>\n",
       "      <td>25784.509</td>\n",
       "      <td>23004.027</td>\n",
       "      <td>19.518</td>\n",
       "      <td>46.4643</td>\n",
       "      <td>44.5946</td>\n",
       "      <td>48.4411</td>\n",
       "      <td>47.0395</td>\n",
       "      <td>44.8310</td>\n",
       "      <td>49.3734</td>\n",
       "      <td>11.2965</td>\n",
       "      <td>10.4672</td>\n",
       "      <td>12.0390</td>\n",
       "      <td>5.0199</td>\n",
       "      <td>4.7308</td>\n",
       "      <td>5.2236</td>\n",
       "      <td>13109.145</td>\n",
       "      <td>143.3869</td>\n",
       "      <td>82837.349</td>\n",
       "      <td>19780.141</td>\n",
       "      <td>224.0098</td>\n",
       "      <td>371.9932</td>\n",
       "      <td>388.9779</td>\n",
       "      <td>354.7482</td>\n",
       "      <td>540.3848</td>\n",
       "      <td>580.7496</td>\n",
       "      <td>498.0396</td>\n",
       "      <td>240.3164</td>\n",
       "      <td>271.6253</td>\n",
       "      <td>208.1916</td>\n",
       "      <td>378.6968</td>\n",
       "      <td>430.2594</td>\n",
       "      <td>324.9308</td>\n",
       "      <td>0.0</td>\n",
       "      <td>0.0</td>\n",
       "    </tr>\n",
       "    <tr>\n",
       "      <th>1</th>\n",
       "      <td>1</td>\n",
       "      <td>900</td>\n",
       "      <td>NaN</td>\n",
       "      <td>NaN</td>\n",
       "      <td>NaN</td>\n",
       "      <td>1.0</td>\n",
       "      <td>1</td>\n",
       "      <td>World</td>\n",
       "      <td>0</td>\n",
       "      <td>World</td>\n",
       "      <td>2</td>\n",
       "      <td>Medium</td>\n",
       "      <td>1951</td>\n",
       "      <td>2520969.582</td>\n",
       "      <td>2543130.380</td>\n",
       "      <td>1267473.182</td>\n",
       "      <td>1275657.198</td>\n",
       "      <td>19.5020</td>\n",
       "      <td>99.3584</td>\n",
       "      <td>22.1716</td>\n",
       "      <td>44322.348</td>\n",
       "      <td>17.427</td>\n",
       "      <td>44321.597</td>\n",
       "      <td>1.743</td>\n",
       "      <td>39.7675</td>\n",
       "      <td>92836.900</td>\n",
       "      <td>10741.899</td>\n",
       "      <td>36.502</td>\n",
       "      <td>4.8269</td>\n",
       "      <td>1.6430</td>\n",
       "      <td>28.910</td>\n",
       "      <td>105.4</td>\n",
       "      <td>48514.552</td>\n",
       "      <td>25505.184</td>\n",
       "      <td>23009.368</td>\n",
       "      <td>19.075</td>\n",
       "      <td>47.1440</td>\n",
       "      <td>45.4026</td>\n",
       "      <td>48.9655</td>\n",
       "      <td>47.5028</td>\n",
       "      <td>45.4710</td>\n",
       "      <td>49.6263</td>\n",
       "      <td>11.3369</td>\n",
       "      <td>10.5123</td>\n",
       "      <td>12.0705</td>\n",
       "      <td>5.0145</td>\n",
       "      <td>4.7347</td>\n",
       "      <td>5.2121</td>\n",
       "      <td>13086.528</td>\n",
       "      <td>141.3090</td>\n",
       "      <td>83648.709</td>\n",
       "      <td>19825.046</td>\n",
       "      <td>219.1188</td>\n",
       "      <td>361.8185</td>\n",
       "      <td>375.8295</td>\n",
       "      <td>347.6746</td>\n",
       "      <td>529.1551</td>\n",
       "      <td>566.7283</td>\n",
       "      <td>490.1993</td>\n",
       "      <td>231.1772</td>\n",
       "      <td>258.0905</td>\n",
       "      <td>203.7797</td>\n",
       "      <td>368.3186</td>\n",
       "      <td>415.8362</td>\n",
       "      <td>319.3364</td>\n",
       "      <td>0.0</td>\n",
       "      <td>0.0</td>\n",
       "    </tr>\n",
       "    <tr>\n",
       "      <th>2</th>\n",
       "      <td>1</td>\n",
       "      <td>900</td>\n",
       "      <td>NaN</td>\n",
       "      <td>NaN</td>\n",
       "      <td>NaN</td>\n",
       "      <td>1.0</td>\n",
       "      <td>1</td>\n",
       "      <td>World</td>\n",
       "      <td>0</td>\n",
       "      <td>World</td>\n",
       "      <td>2</td>\n",
       "      <td>Medium</td>\n",
       "      <td>1952</td>\n",
       "      <td>2565291.179</td>\n",
       "      <td>2590270.898</td>\n",
       "      <td>1291399.982</td>\n",
       "      <td>1298870.917</td>\n",
       "      <td>19.8635</td>\n",
       "      <td>99.4248</td>\n",
       "      <td>22.1083</td>\n",
       "      <td>49960.072</td>\n",
       "      <td>19.283</td>\n",
       "      <td>49959.439</td>\n",
       "      <td>1.929</td>\n",
       "      <td>35.9330</td>\n",
       "      <td>97606.684</td>\n",
       "      <td>11231.717</td>\n",
       "      <td>37.672</td>\n",
       "      <td>5.0142</td>\n",
       "      <td>1.7300</td>\n",
       "      <td>28.980</td>\n",
       "      <td>105.4</td>\n",
       "      <td>47646.612</td>\n",
       "      <td>24935.224</td>\n",
       "      <td>22711.388</td>\n",
       "      <td>18.389</td>\n",
       "      <td>48.2311</td>\n",
       "      <td>46.6241</td>\n",
       "      <td>49.8908</td>\n",
       "      <td>48.2552</td>\n",
       "      <td>46.4167</td>\n",
       "      <td>50.1512</td>\n",
       "      <td>11.5593</td>\n",
       "      <td>10.7121</td>\n",
       "      <td>12.3094</td>\n",
       "      <td>5.1412</td>\n",
       "      <td>4.8431</td>\n",
       "      <td>5.3525</td>\n",
       "      <td>13215.704</td>\n",
       "      <td>137.2952</td>\n",
       "      <td>88207.529</td>\n",
       "      <td>19875.696</td>\n",
       "      <td>212.1977</td>\n",
       "      <td>347.2697</td>\n",
       "      <td>357.6730</td>\n",
       "      <td>336.8354</td>\n",
       "      <td>512.1586</td>\n",
       "      <td>546.3173</td>\n",
       "      <td>477.2639</td>\n",
       "      <td>218.6745</td>\n",
       "      <td>240.0344</td>\n",
       "      <td>197.1422</td>\n",
       "      <td>353.0546</td>\n",
       "      <td>395.5327</td>\n",
       "      <td>309.9103</td>\n",
       "      <td>0.0</td>\n",
       "      <td>0.0</td>\n",
       "    </tr>\n",
       "    <tr>\n",
       "      <th>3</th>\n",
       "      <td>1</td>\n",
       "      <td>900</td>\n",
       "      <td>NaN</td>\n",
       "      <td>NaN</td>\n",
       "      <td>NaN</td>\n",
       "      <td>1.0</td>\n",
       "      <td>1</td>\n",
       "      <td>World</td>\n",
       "      <td>0</td>\n",
       "      <td>World</td>\n",
       "      <td>2</td>\n",
       "      <td>Medium</td>\n",
       "      <td>1953</td>\n",
       "      <td>2615250.618</td>\n",
       "      <td>2640278.797</td>\n",
       "      <td>1316659.222</td>\n",
       "      <td>1323619.574</td>\n",
       "      <td>20.2470</td>\n",
       "      <td>99.4741</td>\n",
       "      <td>22.0364</td>\n",
       "      <td>50056.756</td>\n",
       "      <td>18.959</td>\n",
       "      <td>50056.357</td>\n",
       "      <td>1.896</td>\n",
       "      <td>36.5584</td>\n",
       "      <td>97555.839</td>\n",
       "      <td>11200.749</td>\n",
       "      <td>36.948</td>\n",
       "      <td>4.9366</td>\n",
       "      <td>1.7170</td>\n",
       "      <td>28.928</td>\n",
       "      <td>105.4</td>\n",
       "      <td>47499.083</td>\n",
       "      <td>24806.138</td>\n",
       "      <td>22692.945</td>\n",
       "      <td>17.989</td>\n",
       "      <td>48.8024</td>\n",
       "      <td>47.2399</td>\n",
       "      <td>50.4067</td>\n",
       "      <td>48.6073</td>\n",
       "      <td>46.8170</td>\n",
       "      <td>50.4431</td>\n",
       "      <td>11.6337</td>\n",
       "      <td>10.7784</td>\n",
       "      <td>12.3878</td>\n",
       "      <td>5.1490</td>\n",
       "      <td>4.8486</td>\n",
       "      <td>5.3625</td>\n",
       "      <td>13117.346</td>\n",
       "      <td>134.4685</td>\n",
       "      <td>88348.382</td>\n",
       "      <td>19780.603</td>\n",
       "      <td>206.9440</td>\n",
       "      <td>339.9678</td>\n",
       "      <td>349.2448</td>\n",
       "      <td>330.6815</td>\n",
       "      <td>502.9323</td>\n",
       "      <td>535.8289</td>\n",
       "      <td>469.5325</td>\n",
       "      <td>212.8720</td>\n",
       "      <td>232.6019</td>\n",
       "      <td>193.0492</td>\n",
       "      <td>345.0826</td>\n",
       "      <td>385.8433</td>\n",
       "      <td>303.9053</td>\n",
       "      <td>0.0</td>\n",
       "      <td>0.0</td>\n",
       "    </tr>\n",
       "    <tr>\n",
       "      <th>4</th>\n",
       "      <td>1</td>\n",
       "      <td>900</td>\n",
       "      <td>NaN</td>\n",
       "      <td>NaN</td>\n",
       "      <td>NaN</td>\n",
       "      <td>1.0</td>\n",
       "      <td>1</td>\n",
       "      <td>World</td>\n",
       "      <td>0</td>\n",
       "      <td>World</td>\n",
       "      <td>2</td>\n",
       "      <td>Medium</td>\n",
       "      <td>1954</td>\n",
       "      <td>2665306.975</td>\n",
       "      <td>2691979.339</td>\n",
       "      <td>1342923.171</td>\n",
       "      <td>1349056.168</td>\n",
       "      <td>20.6435</td>\n",
       "      <td>99.5454</td>\n",
       "      <td>21.9524</td>\n",
       "      <td>53345.249</td>\n",
       "      <td>19.812</td>\n",
       "      <td>53344.728</td>\n",
       "      <td>1.982</td>\n",
       "      <td>34.9721</td>\n",
       "      <td>100348.054</td>\n",
       "      <td>11471.273</td>\n",
       "      <td>37.269</td>\n",
       "      <td>5.0098</td>\n",
       "      <td>1.7626</td>\n",
       "      <td>28.943</td>\n",
       "      <td>105.4</td>\n",
       "      <td>47002.805</td>\n",
       "      <td>24539.831</td>\n",
       "      <td>22462.974</td>\n",
       "      <td>17.457</td>\n",
       "      <td>49.5919</td>\n",
       "      <td>48.0295</td>\n",
       "      <td>51.1894</td>\n",
       "      <td>49.0909</td>\n",
       "      <td>47.3293</td>\n",
       "      <td>50.8869</td>\n",
       "      <td>11.8152</td>\n",
       "      <td>10.9386</td>\n",
       "      <td>12.5849</td>\n",
       "      <td>5.2582</td>\n",
       "      <td>4.9476</td>\n",
       "      <td>5.4785</td>\n",
       "      <td>13122.414</td>\n",
       "      <td>131.7228</td>\n",
       "      <td>91065.389</td>\n",
       "      <td>19781.855</td>\n",
       "      <td>202.1803</td>\n",
       "      <td>330.1323</td>\n",
       "      <td>338.8165</td>\n",
       "      <td>321.4258</td>\n",
       "      <td>490.9939</td>\n",
       "      <td>523.1236</td>\n",
       "      <td>458.4842</td>\n",
       "      <td>205.7622</td>\n",
       "      <td>224.0498</td>\n",
       "      <td>187.4439</td>\n",
       "      <td>335.4420</td>\n",
       "      <td>374.6576</td>\n",
       "      <td>295.9944</td>\n",
       "      <td>0.0</td>\n",
       "      <td>0.0</td>\n",
       "    </tr>\n",
       "  </tbody>\n",
       "</table>\n",
       "</div>"
      ],
      "text/plain": [
       "   SortOrder  LocID Notes ISO3_code ISO2_code  SDMX_code  LocTypeID  \\\n",
       "0          1    900   NaN       NaN       NaN        1.0          1   \n",
       "1          1    900   NaN       NaN       NaN        1.0          1   \n",
       "2          1    900   NaN       NaN       NaN        1.0          1   \n",
       "3          1    900   NaN       NaN       NaN        1.0          1   \n",
       "4          1    900   NaN       NaN       NaN        1.0          1   \n",
       "\n",
       "  LocTypeName  ParentID Location  VarID Variant  Time  TPopulation1Jan  \\\n",
       "0       World         0    World      2  Medium  1950      2477674.732   \n",
       "1       World         0    World      2  Medium  1951      2520969.582   \n",
       "2       World         0    World      2  Medium  1952      2565291.179   \n",
       "3       World         0    World      2  Medium  1953      2615250.618   \n",
       "4       World         0    World      2  Medium  1954      2665306.975   \n",
       "\n",
       "   TPopulation1July  TPopulationMale1July  TPopulationFemale1July  PopDensity  \\\n",
       "0       2499322.157           1245362.964             1253959.192     19.1661   \n",
       "1       2543130.380           1267473.182             1275657.198     19.5020   \n",
       "2       2590270.898           1291399.982             1298870.917     19.8635   \n",
       "3       2640278.797           1316659.222             1323619.574     20.2470   \n",
       "4       2691979.339           1342923.171             1349056.168     20.6435   \n",
       "\n",
       "   PopSexRatio  MedianAgePop  NatChange  NatChangeRT  PopChange  \\\n",
       "0      99.3145       22.2243  43294.722       17.319  43294.850   \n",
       "1      99.3584       22.1716  44322.348       17.427  44321.597   \n",
       "2      99.4248       22.1083  49960.072       19.283  49959.439   \n",
       "3      99.4741       22.0364  50056.756       18.959  50056.357   \n",
       "4      99.5454       21.9524  53345.249       19.812  53344.728   \n",
       "\n",
       "   PopGrowthRate  DoublingTime      Births  Births1519     CBR     TFR  \\\n",
       "0          1.732       40.0200   92083.258   10629.041  36.837  4.8596   \n",
       "1          1.743       39.7675   92836.900   10741.899  36.502  4.8269   \n",
       "2          1.929       35.9330   97606.684   11231.717  37.672  5.0142   \n",
       "3          1.896       36.5584   97555.839   11200.749  36.948  4.9366   \n",
       "4          1.982       34.9721  100348.054   11471.273  37.269  5.0098   \n",
       "\n",
       "      NRR     MAC    SRB     Deaths  DeathsMale  DeathsFemale     CDR  \\\n",
       "0  1.6382  28.945  105.4  48788.536   25784.509     23004.027  19.518   \n",
       "1  1.6430  28.910  105.4  48514.552   25505.184     23009.368  19.075   \n",
       "2  1.7300  28.980  105.4  47646.612   24935.224     22711.388  18.389   \n",
       "3  1.7170  28.928  105.4  47499.083   24806.138     22692.945  17.989   \n",
       "4  1.7626  28.943  105.4  47002.805   24539.831     22462.974  17.457   \n",
       "\n",
       "       LEx  LExMale  LExFemale     LE15  LE15Male  LE15Female     LE65  \\\n",
       "0  46.4643  44.5946    48.4411  47.0395   44.8310     49.3734  11.2965   \n",
       "1  47.1440  45.4026    48.9655  47.5028   45.4710     49.6263  11.3369   \n",
       "2  48.2311  46.6241    49.8908  48.2552   46.4167     50.1512  11.5593   \n",
       "3  48.8024  47.2399    50.4067  48.6073   46.8170     50.4431  11.6337   \n",
       "4  49.5919  48.0295    51.1894  49.0909   47.3293     50.8869  11.8152   \n",
       "\n",
       "   LE65Male  LE65Female    LE80  LE80Male  LE80Female  InfantDeaths       IMR  \\\n",
       "0   10.4672     12.0390  5.0199    4.7308      5.2236     13109.145  143.3869   \n",
       "1   10.5123     12.0705  5.0145    4.7347      5.2121     13086.528  141.3090   \n",
       "2   10.7121     12.3094  5.1412    4.8431      5.3525     13215.704  137.2952   \n",
       "3   10.7784     12.3878  5.1490    4.8486      5.3625     13117.346  134.4685   \n",
       "4   10.9386     12.5849  5.2582    4.9476      5.4785     13122.414  131.7228   \n",
       "\n",
       "   LBsurvivingAge1  Under5Deaths        Q5     Q0040  Q0040Male  Q0040Female  \\\n",
       "0        82837.349     19780.141  224.0098  371.9932   388.9779     354.7482   \n",
       "1        83648.709     19825.046  219.1188  361.8185   375.8295     347.6746   \n",
       "2        88207.529     19875.696  212.1977  347.2697   357.6730     336.8354   \n",
       "3        88348.382     19780.603  206.9440  339.9678   349.2448     330.6815   \n",
       "4        91065.389     19781.855  202.1803  330.1323   338.8165     321.4258   \n",
       "\n",
       "      Q0060  Q0060Male  Q0060Female     Q1550  Q1550Male  Q1550Female  \\\n",
       "0  540.3848   580.7496     498.0396  240.3164   271.6253     208.1916   \n",
       "1  529.1551   566.7283     490.1993  231.1772   258.0905     203.7797   \n",
       "2  512.1586   546.3173     477.2639  218.6745   240.0344     197.1422   \n",
       "3  502.9323   535.8289     469.5325  212.8720   232.6019     193.0492   \n",
       "4  490.9939   523.1236     458.4842  205.7622   224.0498     187.4439   \n",
       "\n",
       "      Q1560  Q1560Male  Q1560Female  NetMigrations  CNMR  \n",
       "0  378.6968   430.2594     324.9308            0.0   0.0  \n",
       "1  368.3186   415.8362     319.3364            0.0   0.0  \n",
       "2  353.0546   395.5327     309.9103            0.0   0.0  \n",
       "3  345.0826   385.8433     303.9053            0.0   0.0  \n",
       "4  335.4420   374.6576     295.9944            0.0   0.0  "
      ]
     },
     "execution_count": 67,
     "metadata": {},
     "output_type": "execute_result"
    }
   ],
   "source": [
    "data.head()"
   ]
  },
  {
   "cell_type": "code",
   "execution_count": 68,
   "metadata": {
    "colab": {
     "base_uri": "https://localhost:8080/"
    },
    "id": "hhZ2XKu6iJ_D",
    "outputId": "b7f808a5-99e5-42c0-ba61-e65eabf75598"
   },
   "outputs": [],
   "source": [
    "#dropping unnecessary columns(Not because of missing but based on relevancy)\n",
    "new_data=data.drop([\"SortOrder\",\"ISO2_code\",\"Notes\",\"ISO3_code\",\"SDMX_code\",\"LocID\",\"LocTypeID\",\"ParentID\",\"VarID\"],axis=1)"
   ]
  },
  {
   "cell_type": "code",
   "execution_count": 69,
   "metadata": {},
   "outputs": [],
   "source": [
    "#Filling missing values of DoublingTime based on different location's median DoublingTime value\n",
    "new_data[\"DoublingTime\"]=new_data[\"DoublingTime\"].fillna(value=new_data.groupby(\"Location\")[\"DoublingTime\"].transform('median'))"
   ]
  },
  {
   "cell_type": "code",
   "execution_count": 70,
   "metadata": {},
   "outputs": [
    {
     "name": "stdout",
     "output_type": "stream",
     "text": [
      "Number of rows before dropping missing values 43472 columns 58\n"
     ]
    }
   ],
   "source": [
    "#Calculating number of rows before dropping\n",
    "print(\"Number of rows before dropping missing values\",new_data.shape[0],\"columns\",new_data.shape[1])"
   ]
  },
  {
   "cell_type": "code",
   "execution_count": 71,
   "metadata": {},
   "outputs": [],
   "source": [
    "#Dropping rest of null values as there are very few missing values\n",
    "new_data=new_data.dropna()"
   ]
  },
  {
   "cell_type": "code",
   "execution_count": 72,
   "metadata": {},
   "outputs": [
    {
     "name": "stdout",
     "output_type": "stream",
     "text": [
      "Number of rows before dropping missing values 43186 columns 58\n"
     ]
    }
   ],
   "source": [
    "#Calculating number of rows before dropping\n",
    "print(\"Number of rows before dropping missing values\",new_data.shape[0],\"columns\",new_data.shape[1])"
   ]
  },
  {
   "cell_type": "code",
   "execution_count": 73,
   "metadata": {},
   "outputs": [
    {
     "name": "stdout",
     "output_type": "stream",
     "text": [
      "LocTypeName ----> 0\n",
      "Location ----> 0\n",
      "Variant ----> 0\n",
      "Time ----> 0\n",
      "TPopulation1Jan ----> 0\n",
      "TPopulation1July ----> 0\n",
      "TPopulationMale1July ----> 0\n",
      "TPopulationFemale1July ----> 0\n",
      "PopDensity ----> 0\n",
      "PopSexRatio ----> 0\n",
      "MedianAgePop ----> 0\n",
      "NatChange ----> 0\n",
      "NatChangeRT ----> 0\n",
      "PopChange ----> 0\n",
      "PopGrowthRate ----> 0\n",
      "DoublingTime ----> 0\n",
      "Births ----> 0\n",
      "Births1519 ----> 0\n",
      "CBR ----> 0\n",
      "TFR ----> 0\n",
      "NRR ----> 0\n",
      "MAC ----> 0\n",
      "SRB ----> 0\n",
      "Deaths ----> 0\n",
      "DeathsMale ----> 0\n",
      "DeathsFemale ----> 0\n",
      "CDR ----> 0\n",
      "LEx ----> 0\n",
      "LExMale ----> 0\n",
      "LExFemale ----> 0\n",
      "LE15 ----> 0\n",
      "LE15Male ----> 0\n",
      "LE15Female ----> 0\n",
      "LE65 ----> 0\n",
      "LE65Male ----> 0\n",
      "LE65Female ----> 0\n",
      "LE80 ----> 0\n",
      "LE80Male ----> 0\n",
      "LE80Female ----> 0\n",
      "InfantDeaths ----> 0\n",
      "IMR ----> 0\n",
      "LBsurvivingAge1 ----> 0\n",
      "Under5Deaths ----> 0\n",
      "Q5 ----> 0\n",
      "Q0040 ----> 0\n",
      "Q0040Male ----> 0\n",
      "Q0040Female ----> 0\n",
      "Q0060 ----> 0\n",
      "Q0060Male ----> 0\n",
      "Q0060Female ----> 0\n",
      "Q1550 ----> 0\n",
      "Q1550Male ----> 0\n",
      "Q1550Female ----> 0\n",
      "Q1560 ----> 0\n",
      "Q1560Male ----> 0\n",
      "Q1560Female ----> 0\n",
      "NetMigrations ----> 0\n",
      "CNMR ----> 0\n"
     ]
    }
   ],
   "source": [
    "#rechecking number of missing values\n",
    "#checking unnecessary columns\n",
    "for idx,val in zip(new_data.isnull().sum().index,new_data.isnull().sum().values):\n",
    "  print(idx,\"---->\",val)"
   ]
  },
  {
   "cell_type": "code",
   "execution_count": 74,
   "metadata": {},
   "outputs": [],
   "source": [
    "#Filtering the data till present year\n",
    "new_data=new_data[new_data[\"Time\"]<=2023]"
   ]
  },
  {
   "cell_type": "code",
   "execution_count": 75,
   "metadata": {},
   "outputs": [
    {
     "data": {
      "text/html": [
       "<div>\n",
       "<style scoped>\n",
       "    .dataframe tbody tr th:only-of-type {\n",
       "        vertical-align: middle;\n",
       "    }\n",
       "\n",
       "    .dataframe tbody tr th {\n",
       "        vertical-align: top;\n",
       "    }\n",
       "\n",
       "    .dataframe thead th {\n",
       "        text-align: right;\n",
       "    }\n",
       "</style>\n",
       "<table border=\"1\" class=\"dataframe\">\n",
       "  <thead>\n",
       "    <tr style=\"text-align: right;\">\n",
       "      <th></th>\n",
       "      <th>Column</th>\n",
       "      <th>Dtype</th>\n",
       "    </tr>\n",
       "  </thead>\n",
       "  <tbody>\n",
       "    <tr>\n",
       "      <th>0</th>\n",
       "      <td>LocTypeName</td>\n",
       "      <td>object</td>\n",
       "    </tr>\n",
       "    <tr>\n",
       "      <th>1</th>\n",
       "      <td>Location</td>\n",
       "      <td>object</td>\n",
       "    </tr>\n",
       "    <tr>\n",
       "      <th>2</th>\n",
       "      <td>Variant</td>\n",
       "      <td>object</td>\n",
       "    </tr>\n",
       "    <tr>\n",
       "      <th>3</th>\n",
       "      <td>Time</td>\n",
       "      <td>int64</td>\n",
       "    </tr>\n",
       "    <tr>\n",
       "      <th>4</th>\n",
       "      <td>TPopulation1Jan</td>\n",
       "      <td>float64</td>\n",
       "    </tr>\n",
       "    <tr>\n",
       "      <th>5</th>\n",
       "      <td>TPopulation1July</td>\n",
       "      <td>float64</td>\n",
       "    </tr>\n",
       "    <tr>\n",
       "      <th>6</th>\n",
       "      <td>TPopulationMale1July</td>\n",
       "      <td>float64</td>\n",
       "    </tr>\n",
       "    <tr>\n",
       "      <th>7</th>\n",
       "      <td>TPopulationFemale1July</td>\n",
       "      <td>float64</td>\n",
       "    </tr>\n",
       "    <tr>\n",
       "      <th>8</th>\n",
       "      <td>PopDensity</td>\n",
       "      <td>float64</td>\n",
       "    </tr>\n",
       "    <tr>\n",
       "      <th>9</th>\n",
       "      <td>PopSexRatio</td>\n",
       "      <td>float64</td>\n",
       "    </tr>\n",
       "    <tr>\n",
       "      <th>10</th>\n",
       "      <td>MedianAgePop</td>\n",
       "      <td>float64</td>\n",
       "    </tr>\n",
       "    <tr>\n",
       "      <th>11</th>\n",
       "      <td>NatChange</td>\n",
       "      <td>float64</td>\n",
       "    </tr>\n",
       "    <tr>\n",
       "      <th>12</th>\n",
       "      <td>NatChangeRT</td>\n",
       "      <td>float64</td>\n",
       "    </tr>\n",
       "    <tr>\n",
       "      <th>13</th>\n",
       "      <td>PopChange</td>\n",
       "      <td>float64</td>\n",
       "    </tr>\n",
       "    <tr>\n",
       "      <th>14</th>\n",
       "      <td>PopGrowthRate</td>\n",
       "      <td>float64</td>\n",
       "    </tr>\n",
       "    <tr>\n",
       "      <th>15</th>\n",
       "      <td>DoublingTime</td>\n",
       "      <td>float64</td>\n",
       "    </tr>\n",
       "    <tr>\n",
       "      <th>16</th>\n",
       "      <td>Births</td>\n",
       "      <td>float64</td>\n",
       "    </tr>\n",
       "    <tr>\n",
       "      <th>17</th>\n",
       "      <td>Births1519</td>\n",
       "      <td>float64</td>\n",
       "    </tr>\n",
       "    <tr>\n",
       "      <th>18</th>\n",
       "      <td>CBR</td>\n",
       "      <td>float64</td>\n",
       "    </tr>\n",
       "    <tr>\n",
       "      <th>19</th>\n",
       "      <td>TFR</td>\n",
       "      <td>float64</td>\n",
       "    </tr>\n",
       "    <tr>\n",
       "      <th>20</th>\n",
       "      <td>NRR</td>\n",
       "      <td>float64</td>\n",
       "    </tr>\n",
       "    <tr>\n",
       "      <th>21</th>\n",
       "      <td>MAC</td>\n",
       "      <td>float64</td>\n",
       "    </tr>\n",
       "    <tr>\n",
       "      <th>22</th>\n",
       "      <td>SRB</td>\n",
       "      <td>float64</td>\n",
       "    </tr>\n",
       "    <tr>\n",
       "      <th>23</th>\n",
       "      <td>Deaths</td>\n",
       "      <td>float64</td>\n",
       "    </tr>\n",
       "    <tr>\n",
       "      <th>24</th>\n",
       "      <td>DeathsMale</td>\n",
       "      <td>float64</td>\n",
       "    </tr>\n",
       "    <tr>\n",
       "      <th>25</th>\n",
       "      <td>DeathsFemale</td>\n",
       "      <td>float64</td>\n",
       "    </tr>\n",
       "    <tr>\n",
       "      <th>26</th>\n",
       "      <td>CDR</td>\n",
       "      <td>float64</td>\n",
       "    </tr>\n",
       "    <tr>\n",
       "      <th>27</th>\n",
       "      <td>LEx</td>\n",
       "      <td>float64</td>\n",
       "    </tr>\n",
       "    <tr>\n",
       "      <th>28</th>\n",
       "      <td>LExMale</td>\n",
       "      <td>float64</td>\n",
       "    </tr>\n",
       "    <tr>\n",
       "      <th>29</th>\n",
       "      <td>LExFemale</td>\n",
       "      <td>float64</td>\n",
       "    </tr>\n",
       "    <tr>\n",
       "      <th>30</th>\n",
       "      <td>LE15</td>\n",
       "      <td>float64</td>\n",
       "    </tr>\n",
       "    <tr>\n",
       "      <th>31</th>\n",
       "      <td>LE15Male</td>\n",
       "      <td>float64</td>\n",
       "    </tr>\n",
       "    <tr>\n",
       "      <th>32</th>\n",
       "      <td>LE15Female</td>\n",
       "      <td>float64</td>\n",
       "    </tr>\n",
       "    <tr>\n",
       "      <th>33</th>\n",
       "      <td>LE65</td>\n",
       "      <td>float64</td>\n",
       "    </tr>\n",
       "    <tr>\n",
       "      <th>34</th>\n",
       "      <td>LE65Male</td>\n",
       "      <td>float64</td>\n",
       "    </tr>\n",
       "    <tr>\n",
       "      <th>35</th>\n",
       "      <td>LE65Female</td>\n",
       "      <td>float64</td>\n",
       "    </tr>\n",
       "    <tr>\n",
       "      <th>36</th>\n",
       "      <td>LE80</td>\n",
       "      <td>float64</td>\n",
       "    </tr>\n",
       "    <tr>\n",
       "      <th>37</th>\n",
       "      <td>LE80Male</td>\n",
       "      <td>float64</td>\n",
       "    </tr>\n",
       "    <tr>\n",
       "      <th>38</th>\n",
       "      <td>LE80Female</td>\n",
       "      <td>float64</td>\n",
       "    </tr>\n",
       "    <tr>\n",
       "      <th>39</th>\n",
       "      <td>InfantDeaths</td>\n",
       "      <td>float64</td>\n",
       "    </tr>\n",
       "    <tr>\n",
       "      <th>40</th>\n",
       "      <td>IMR</td>\n",
       "      <td>float64</td>\n",
       "    </tr>\n",
       "    <tr>\n",
       "      <th>41</th>\n",
       "      <td>LBsurvivingAge1</td>\n",
       "      <td>float64</td>\n",
       "    </tr>\n",
       "    <tr>\n",
       "      <th>42</th>\n",
       "      <td>Under5Deaths</td>\n",
       "      <td>float64</td>\n",
       "    </tr>\n",
       "    <tr>\n",
       "      <th>43</th>\n",
       "      <td>Q5</td>\n",
       "      <td>float64</td>\n",
       "    </tr>\n",
       "    <tr>\n",
       "      <th>44</th>\n",
       "      <td>Q0040</td>\n",
       "      <td>float64</td>\n",
       "    </tr>\n",
       "    <tr>\n",
       "      <th>45</th>\n",
       "      <td>Q0040Male</td>\n",
       "      <td>float64</td>\n",
       "    </tr>\n",
       "    <tr>\n",
       "      <th>46</th>\n",
       "      <td>Q0040Female</td>\n",
       "      <td>float64</td>\n",
       "    </tr>\n",
       "    <tr>\n",
       "      <th>47</th>\n",
       "      <td>Q0060</td>\n",
       "      <td>float64</td>\n",
       "    </tr>\n",
       "    <tr>\n",
       "      <th>48</th>\n",
       "      <td>Q0060Male</td>\n",
       "      <td>float64</td>\n",
       "    </tr>\n",
       "    <tr>\n",
       "      <th>49</th>\n",
       "      <td>Q0060Female</td>\n",
       "      <td>float64</td>\n",
       "    </tr>\n",
       "    <tr>\n",
       "      <th>50</th>\n",
       "      <td>Q1550</td>\n",
       "      <td>float64</td>\n",
       "    </tr>\n",
       "    <tr>\n",
       "      <th>51</th>\n",
       "      <td>Q1550Male</td>\n",
       "      <td>float64</td>\n",
       "    </tr>\n",
       "    <tr>\n",
       "      <th>52</th>\n",
       "      <td>Q1550Female</td>\n",
       "      <td>float64</td>\n",
       "    </tr>\n",
       "    <tr>\n",
       "      <th>53</th>\n",
       "      <td>Q1560</td>\n",
       "      <td>float64</td>\n",
       "    </tr>\n",
       "    <tr>\n",
       "      <th>54</th>\n",
       "      <td>Q1560Male</td>\n",
       "      <td>float64</td>\n",
       "    </tr>\n",
       "    <tr>\n",
       "      <th>55</th>\n",
       "      <td>Q1560Female</td>\n",
       "      <td>float64</td>\n",
       "    </tr>\n",
       "    <tr>\n",
       "      <th>56</th>\n",
       "      <td>NetMigrations</td>\n",
       "      <td>float64</td>\n",
       "    </tr>\n",
       "    <tr>\n",
       "      <th>57</th>\n",
       "      <td>CNMR</td>\n",
       "      <td>float64</td>\n",
       "    </tr>\n",
       "  </tbody>\n",
       "</table>\n",
       "</div>"
      ],
      "text/plain": [
       "                    Column    Dtype\n",
       "0              LocTypeName   object\n",
       "1                 Location   object\n",
       "2                  Variant   object\n",
       "3                     Time    int64\n",
       "4          TPopulation1Jan  float64\n",
       "5         TPopulation1July  float64\n",
       "6     TPopulationMale1July  float64\n",
       "7   TPopulationFemale1July  float64\n",
       "8               PopDensity  float64\n",
       "9              PopSexRatio  float64\n",
       "10            MedianAgePop  float64\n",
       "11               NatChange  float64\n",
       "12             NatChangeRT  float64\n",
       "13               PopChange  float64\n",
       "14           PopGrowthRate  float64\n",
       "15            DoublingTime  float64\n",
       "16                  Births  float64\n",
       "17              Births1519  float64\n",
       "18                     CBR  float64\n",
       "19                     TFR  float64\n",
       "20                     NRR  float64\n",
       "21                     MAC  float64\n",
       "22                     SRB  float64\n",
       "23                  Deaths  float64\n",
       "24              DeathsMale  float64\n",
       "25            DeathsFemale  float64\n",
       "26                     CDR  float64\n",
       "27                     LEx  float64\n",
       "28                 LExMale  float64\n",
       "29               LExFemale  float64\n",
       "30                    LE15  float64\n",
       "31                LE15Male  float64\n",
       "32              LE15Female  float64\n",
       "33                    LE65  float64\n",
       "34                LE65Male  float64\n",
       "35              LE65Female  float64\n",
       "36                    LE80  float64\n",
       "37                LE80Male  float64\n",
       "38              LE80Female  float64\n",
       "39            InfantDeaths  float64\n",
       "40                     IMR  float64\n",
       "41         LBsurvivingAge1  float64\n",
       "42            Under5Deaths  float64\n",
       "43                      Q5  float64\n",
       "44                   Q0040  float64\n",
       "45               Q0040Male  float64\n",
       "46             Q0040Female  float64\n",
       "47                   Q0060  float64\n",
       "48               Q0060Male  float64\n",
       "49             Q0060Female  float64\n",
       "50                   Q1550  float64\n",
       "51               Q1550Male  float64\n",
       "52             Q1550Female  float64\n",
       "53                   Q1560  float64\n",
       "54               Q1560Male  float64\n",
       "55             Q1560Female  float64\n",
       "56           NetMigrations  float64\n",
       "57                    CNMR  float64"
      ]
     },
     "execution_count": 75,
     "metadata": {},
     "output_type": "execute_result"
    }
   ],
   "source": [
    "#Chcking data dtypes of all columns\n",
    "indexes=new_data.dtypes.index\n",
    "values=new_data.dtypes.values\n",
    "#creating dataframe of datatypes of columns\n",
    "dtype_data=pd.concat([pd.DataFrame(indexes),pd.DataFrame(values)],axis=1)\n",
    "dtype_data.columns=[\"Column\",\"Dtype\"]\n",
    "dtype_data"
   ]
  },
  {
   "cell_type": "code",
   "execution_count": 76,
   "metadata": {
    "id": "U3ErFxrS99Jz"
   },
   "outputs": [],
   "source": [
    "# Identifying and removing duplicate rows\n",
    "new_data = new_data.drop_duplicates()"
   ]
  },
  {
   "cell_type": "code",
   "execution_count": 22,
   "metadata": {},
   "outputs": [],
   "source": [
    "#convert dataframe into csv\n",
    "new_data.to_csv(\"dataaa.csv\",index=False)"
   ]
  },
  {
   "cell_type": "code",
   "execution_count": 80,
   "metadata": {},
   "outputs": [
    {
     "data": {
      "application/vnd.plotly.v1+json": {
       "config": {
        "plotlyServerURL": "https://plot.ly"
       },
       "data": [
        {
         "alignmentgroup": "True",
         "hovertemplate": "Location=%{x}<br>Frequency=%{y}<extra></extra>",
         "legendgroup": "",
         "marker": {
          "color": "#636efa",
          "pattern": {
           "shape": ""
          }
         },
         "name": "",
         "offsetgroup": "",
         "orientation": "v",
         "showlegend": false,
         "textposition": "auto",
         "texttemplate": "%{y}",
         "type": "bar",
         "x": [
          "Country/Area",
          "Subregion",
          "SDG region",
          "Development group",
          "Income group",
          "Geographic region",
          "World"
         ],
         "xaxis": "x",
         "y": [
          17538,
          1554,
          592,
          518,
          444,
          444,
          74
         ],
         "yaxis": "y"
        }
       ],
       "layout": {
        "barmode": "relative",
        "legend": {
         "tracegroupgap": 0
        },
        "template": {
         "data": {
          "bar": [
           {
            "error_x": {
             "color": "#2a3f5f"
            },
            "error_y": {
             "color": "#2a3f5f"
            },
            "marker": {
             "line": {
              "color": "#E5ECF6",
              "width": 0.5
             },
             "pattern": {
              "fillmode": "overlay",
              "size": 10,
              "solidity": 0.2
             }
            },
            "type": "bar"
           }
          ],
          "barpolar": [
           {
            "marker": {
             "line": {
              "color": "#E5ECF6",
              "width": 0.5
             },
             "pattern": {
              "fillmode": "overlay",
              "size": 10,
              "solidity": 0.2
             }
            },
            "type": "barpolar"
           }
          ],
          "carpet": [
           {
            "aaxis": {
             "endlinecolor": "#2a3f5f",
             "gridcolor": "white",
             "linecolor": "white",
             "minorgridcolor": "white",
             "startlinecolor": "#2a3f5f"
            },
            "baxis": {
             "endlinecolor": "#2a3f5f",
             "gridcolor": "white",
             "linecolor": "white",
             "minorgridcolor": "white",
             "startlinecolor": "#2a3f5f"
            },
            "type": "carpet"
           }
          ],
          "choropleth": [
           {
            "colorbar": {
             "outlinewidth": 0,
             "ticks": ""
            },
            "type": "choropleth"
           }
          ],
          "contour": [
           {
            "colorbar": {
             "outlinewidth": 0,
             "ticks": ""
            },
            "colorscale": [
             [
              0,
              "#0d0887"
             ],
             [
              0.1111111111111111,
              "#46039f"
             ],
             [
              0.2222222222222222,
              "#7201a8"
             ],
             [
              0.3333333333333333,
              "#9c179e"
             ],
             [
              0.4444444444444444,
              "#bd3786"
             ],
             [
              0.5555555555555556,
              "#d8576b"
             ],
             [
              0.6666666666666666,
              "#ed7953"
             ],
             [
              0.7777777777777778,
              "#fb9f3a"
             ],
             [
              0.8888888888888888,
              "#fdca26"
             ],
             [
              1,
              "#f0f921"
             ]
            ],
            "type": "contour"
           }
          ],
          "contourcarpet": [
           {
            "colorbar": {
             "outlinewidth": 0,
             "ticks": ""
            },
            "type": "contourcarpet"
           }
          ],
          "heatmap": [
           {
            "colorbar": {
             "outlinewidth": 0,
             "ticks": ""
            },
            "colorscale": [
             [
              0,
              "#0d0887"
             ],
             [
              0.1111111111111111,
              "#46039f"
             ],
             [
              0.2222222222222222,
              "#7201a8"
             ],
             [
              0.3333333333333333,
              "#9c179e"
             ],
             [
              0.4444444444444444,
              "#bd3786"
             ],
             [
              0.5555555555555556,
              "#d8576b"
             ],
             [
              0.6666666666666666,
              "#ed7953"
             ],
             [
              0.7777777777777778,
              "#fb9f3a"
             ],
             [
              0.8888888888888888,
              "#fdca26"
             ],
             [
              1,
              "#f0f921"
             ]
            ],
            "type": "heatmap"
           }
          ],
          "heatmapgl": [
           {
            "colorbar": {
             "outlinewidth": 0,
             "ticks": ""
            },
            "colorscale": [
             [
              0,
              "#0d0887"
             ],
             [
              0.1111111111111111,
              "#46039f"
             ],
             [
              0.2222222222222222,
              "#7201a8"
             ],
             [
              0.3333333333333333,
              "#9c179e"
             ],
             [
              0.4444444444444444,
              "#bd3786"
             ],
             [
              0.5555555555555556,
              "#d8576b"
             ],
             [
              0.6666666666666666,
              "#ed7953"
             ],
             [
              0.7777777777777778,
              "#fb9f3a"
             ],
             [
              0.8888888888888888,
              "#fdca26"
             ],
             [
              1,
              "#f0f921"
             ]
            ],
            "type": "heatmapgl"
           }
          ],
          "histogram": [
           {
            "marker": {
             "pattern": {
              "fillmode": "overlay",
              "size": 10,
              "solidity": 0.2
             }
            },
            "type": "histogram"
           }
          ],
          "histogram2d": [
           {
            "colorbar": {
             "outlinewidth": 0,
             "ticks": ""
            },
            "colorscale": [
             [
              0,
              "#0d0887"
             ],
             [
              0.1111111111111111,
              "#46039f"
             ],
             [
              0.2222222222222222,
              "#7201a8"
             ],
             [
              0.3333333333333333,
              "#9c179e"
             ],
             [
              0.4444444444444444,
              "#bd3786"
             ],
             [
              0.5555555555555556,
              "#d8576b"
             ],
             [
              0.6666666666666666,
              "#ed7953"
             ],
             [
              0.7777777777777778,
              "#fb9f3a"
             ],
             [
              0.8888888888888888,
              "#fdca26"
             ],
             [
              1,
              "#f0f921"
             ]
            ],
            "type": "histogram2d"
           }
          ],
          "histogram2dcontour": [
           {
            "colorbar": {
             "outlinewidth": 0,
             "ticks": ""
            },
            "colorscale": [
             [
              0,
              "#0d0887"
             ],
             [
              0.1111111111111111,
              "#46039f"
             ],
             [
              0.2222222222222222,
              "#7201a8"
             ],
             [
              0.3333333333333333,
              "#9c179e"
             ],
             [
              0.4444444444444444,
              "#bd3786"
             ],
             [
              0.5555555555555556,
              "#d8576b"
             ],
             [
              0.6666666666666666,
              "#ed7953"
             ],
             [
              0.7777777777777778,
              "#fb9f3a"
             ],
             [
              0.8888888888888888,
              "#fdca26"
             ],
             [
              1,
              "#f0f921"
             ]
            ],
            "type": "histogram2dcontour"
           }
          ],
          "mesh3d": [
           {
            "colorbar": {
             "outlinewidth": 0,
             "ticks": ""
            },
            "type": "mesh3d"
           }
          ],
          "parcoords": [
           {
            "line": {
             "colorbar": {
              "outlinewidth": 0,
              "ticks": ""
             }
            },
            "type": "parcoords"
           }
          ],
          "pie": [
           {
            "automargin": true,
            "type": "pie"
           }
          ],
          "scatter": [
           {
            "fillpattern": {
             "fillmode": "overlay",
             "size": 10,
             "solidity": 0.2
            },
            "type": "scatter"
           }
          ],
          "scatter3d": [
           {
            "line": {
             "colorbar": {
              "outlinewidth": 0,
              "ticks": ""
             }
            },
            "marker": {
             "colorbar": {
              "outlinewidth": 0,
              "ticks": ""
             }
            },
            "type": "scatter3d"
           }
          ],
          "scattercarpet": [
           {
            "marker": {
             "colorbar": {
              "outlinewidth": 0,
              "ticks": ""
             }
            },
            "type": "scattercarpet"
           }
          ],
          "scattergeo": [
           {
            "marker": {
             "colorbar": {
              "outlinewidth": 0,
              "ticks": ""
             }
            },
            "type": "scattergeo"
           }
          ],
          "scattergl": [
           {
            "marker": {
             "colorbar": {
              "outlinewidth": 0,
              "ticks": ""
             }
            },
            "type": "scattergl"
           }
          ],
          "scattermapbox": [
           {
            "marker": {
             "colorbar": {
              "outlinewidth": 0,
              "ticks": ""
             }
            },
            "type": "scattermapbox"
           }
          ],
          "scatterpolar": [
           {
            "marker": {
             "colorbar": {
              "outlinewidth": 0,
              "ticks": ""
             }
            },
            "type": "scatterpolar"
           }
          ],
          "scatterpolargl": [
           {
            "marker": {
             "colorbar": {
              "outlinewidth": 0,
              "ticks": ""
             }
            },
            "type": "scatterpolargl"
           }
          ],
          "scatterternary": [
           {
            "marker": {
             "colorbar": {
              "outlinewidth": 0,
              "ticks": ""
             }
            },
            "type": "scatterternary"
           }
          ],
          "surface": [
           {
            "colorbar": {
             "outlinewidth": 0,
             "ticks": ""
            },
            "colorscale": [
             [
              0,
              "#0d0887"
             ],
             [
              0.1111111111111111,
              "#46039f"
             ],
             [
              0.2222222222222222,
              "#7201a8"
             ],
             [
              0.3333333333333333,
              "#9c179e"
             ],
             [
              0.4444444444444444,
              "#bd3786"
             ],
             [
              0.5555555555555556,
              "#d8576b"
             ],
             [
              0.6666666666666666,
              "#ed7953"
             ],
             [
              0.7777777777777778,
              "#fb9f3a"
             ],
             [
              0.8888888888888888,
              "#fdca26"
             ],
             [
              1,
              "#f0f921"
             ]
            ],
            "type": "surface"
           }
          ],
          "table": [
           {
            "cells": {
             "fill": {
              "color": "#EBF0F8"
             },
             "line": {
              "color": "white"
             }
            },
            "header": {
             "fill": {
              "color": "#C8D4E3"
             },
             "line": {
              "color": "white"
             }
            },
            "type": "table"
           }
          ]
         },
         "layout": {
          "annotationdefaults": {
           "arrowcolor": "#2a3f5f",
           "arrowhead": 0,
           "arrowwidth": 1
          },
          "autotypenumbers": "strict",
          "coloraxis": {
           "colorbar": {
            "outlinewidth": 0,
            "ticks": ""
           }
          },
          "colorscale": {
           "diverging": [
            [
             0,
             "#8e0152"
            ],
            [
             0.1,
             "#c51b7d"
            ],
            [
             0.2,
             "#de77ae"
            ],
            [
             0.3,
             "#f1b6da"
            ],
            [
             0.4,
             "#fde0ef"
            ],
            [
             0.5,
             "#f7f7f7"
            ],
            [
             0.6,
             "#e6f5d0"
            ],
            [
             0.7,
             "#b8e186"
            ],
            [
             0.8,
             "#7fbc41"
            ],
            [
             0.9,
             "#4d9221"
            ],
            [
             1,
             "#276419"
            ]
           ],
           "sequential": [
            [
             0,
             "#0d0887"
            ],
            [
             0.1111111111111111,
             "#46039f"
            ],
            [
             0.2222222222222222,
             "#7201a8"
            ],
            [
             0.3333333333333333,
             "#9c179e"
            ],
            [
             0.4444444444444444,
             "#bd3786"
            ],
            [
             0.5555555555555556,
             "#d8576b"
            ],
            [
             0.6666666666666666,
             "#ed7953"
            ],
            [
             0.7777777777777778,
             "#fb9f3a"
            ],
            [
             0.8888888888888888,
             "#fdca26"
            ],
            [
             1,
             "#f0f921"
            ]
           ],
           "sequentialminus": [
            [
             0,
             "#0d0887"
            ],
            [
             0.1111111111111111,
             "#46039f"
            ],
            [
             0.2222222222222222,
             "#7201a8"
            ],
            [
             0.3333333333333333,
             "#9c179e"
            ],
            [
             0.4444444444444444,
             "#bd3786"
            ],
            [
             0.5555555555555556,
             "#d8576b"
            ],
            [
             0.6666666666666666,
             "#ed7953"
            ],
            [
             0.7777777777777778,
             "#fb9f3a"
            ],
            [
             0.8888888888888888,
             "#fdca26"
            ],
            [
             1,
             "#f0f921"
            ]
           ]
          },
          "colorway": [
           "#636efa",
           "#EF553B",
           "#00cc96",
           "#ab63fa",
           "#FFA15A",
           "#19d3f3",
           "#FF6692",
           "#B6E880",
           "#FF97FF",
           "#FECB52"
          ],
          "font": {
           "color": "#2a3f5f"
          },
          "geo": {
           "bgcolor": "white",
           "lakecolor": "white",
           "landcolor": "#E5ECF6",
           "showlakes": true,
           "showland": true,
           "subunitcolor": "white"
          },
          "hoverlabel": {
           "align": "left"
          },
          "hovermode": "closest",
          "mapbox": {
           "style": "light"
          },
          "paper_bgcolor": "white",
          "plot_bgcolor": "#E5ECF6",
          "polar": {
           "angularaxis": {
            "gridcolor": "white",
            "linecolor": "white",
            "ticks": ""
           },
           "bgcolor": "#E5ECF6",
           "radialaxis": {
            "gridcolor": "white",
            "linecolor": "white",
            "ticks": ""
           }
          },
          "scene": {
           "xaxis": {
            "backgroundcolor": "#E5ECF6",
            "gridcolor": "white",
            "gridwidth": 2,
            "linecolor": "white",
            "showbackground": true,
            "ticks": "",
            "zerolinecolor": "white"
           },
           "yaxis": {
            "backgroundcolor": "#E5ECF6",
            "gridcolor": "white",
            "gridwidth": 2,
            "linecolor": "white",
            "showbackground": true,
            "ticks": "",
            "zerolinecolor": "white"
           },
           "zaxis": {
            "backgroundcolor": "#E5ECF6",
            "gridcolor": "white",
            "gridwidth": 2,
            "linecolor": "white",
            "showbackground": true,
            "ticks": "",
            "zerolinecolor": "white"
           }
          },
          "shapedefaults": {
           "line": {
            "color": "#2a3f5f"
           }
          },
          "ternary": {
           "aaxis": {
            "gridcolor": "white",
            "linecolor": "white",
            "ticks": ""
           },
           "baxis": {
            "gridcolor": "white",
            "linecolor": "white",
            "ticks": ""
           },
           "bgcolor": "#E5ECF6",
           "caxis": {
            "gridcolor": "white",
            "linecolor": "white",
            "ticks": ""
           }
          },
          "title": {
           "x": 0.05
          },
          "xaxis": {
           "automargin": true,
           "gridcolor": "white",
           "linecolor": "white",
           "ticks": "",
           "title": {
            "standoff": 15
           },
           "zerolinecolor": "white",
           "zerolinewidth": 2
          },
          "yaxis": {
           "automargin": true,
           "gridcolor": "white",
           "linecolor": "white",
           "ticks": "",
           "title": {
            "standoff": 15
           },
           "zerolinecolor": "white",
           "zerolinewidth": 2
          }
         }
        },
        "title": {
         "text": "Frequency Distribution of Location Types"
        },
        "xaxis": {
         "anchor": "y",
         "domain": [
          0,
          1
         ],
         "title": {
          "text": "Location"
         }
        },
        "yaxis": {
         "anchor": "x",
         "domain": [
          0,
          1
         ],
         "title": {
          "text": "Frequency"
         }
        }
       }
      },
      "text/html": [
       "<div>                            <div id=\"e150c6a0-536b-488d-a7d8-c0271356344f\" class=\"plotly-graph-div\" style=\"height:525px; width:100%;\"></div>            <script type=\"text/javascript\">                require([\"plotly\"], function(Plotly) {                    window.PLOTLYENV=window.PLOTLYENV || {};                                    if (document.getElementById(\"e150c6a0-536b-488d-a7d8-c0271356344f\")) {                    Plotly.newPlot(                        \"e150c6a0-536b-488d-a7d8-c0271356344f\",                        [{\"alignmentgroup\":\"True\",\"hovertemplate\":\"Location=%{x}<br>Frequency=%{y}<extra></extra>\",\"legendgroup\":\"\",\"marker\":{\"color\":\"#636efa\",\"pattern\":{\"shape\":\"\"}},\"name\":\"\",\"offsetgroup\":\"\",\"orientation\":\"v\",\"showlegend\":false,\"textposition\":\"auto\",\"texttemplate\":\"%{y}\",\"x\":[\"Country/Area\",\"Subregion\",\"SDG region\",\"Development group\",\"Income group\",\"Geographic region\",\"World\"],\"xaxis\":\"x\",\"y\":[17538,1554,592,518,444,444,74],\"yaxis\":\"y\",\"type\":\"bar\"}],                        {\"template\":{\"data\":{\"histogram2dcontour\":[{\"type\":\"histogram2dcontour\",\"colorbar\":{\"outlinewidth\":0,\"ticks\":\"\"},\"colorscale\":[[0.0,\"#0d0887\"],[0.1111111111111111,\"#46039f\"],[0.2222222222222222,\"#7201a8\"],[0.3333333333333333,\"#9c179e\"],[0.4444444444444444,\"#bd3786\"],[0.5555555555555556,\"#d8576b\"],[0.6666666666666666,\"#ed7953\"],[0.7777777777777778,\"#fb9f3a\"],[0.8888888888888888,\"#fdca26\"],[1.0,\"#f0f921\"]]}],\"choropleth\":[{\"type\":\"choropleth\",\"colorbar\":{\"outlinewidth\":0,\"ticks\":\"\"}}],\"histogram2d\":[{\"type\":\"histogram2d\",\"colorbar\":{\"outlinewidth\":0,\"ticks\":\"\"},\"colorscale\":[[0.0,\"#0d0887\"],[0.1111111111111111,\"#46039f\"],[0.2222222222222222,\"#7201a8\"],[0.3333333333333333,\"#9c179e\"],[0.4444444444444444,\"#bd3786\"],[0.5555555555555556,\"#d8576b\"],[0.6666666666666666,\"#ed7953\"],[0.7777777777777778,\"#fb9f3a\"],[0.8888888888888888,\"#fdca26\"],[1.0,\"#f0f921\"]]}],\"heatmap\":[{\"type\":\"heatmap\",\"colorbar\":{\"outlinewidth\":0,\"ticks\":\"\"},\"colorscale\":[[0.0,\"#0d0887\"],[0.1111111111111111,\"#46039f\"],[0.2222222222222222,\"#7201a8\"],[0.3333333333333333,\"#9c179e\"],[0.4444444444444444,\"#bd3786\"],[0.5555555555555556,\"#d8576b\"],[0.6666666666666666,\"#ed7953\"],[0.7777777777777778,\"#fb9f3a\"],[0.8888888888888888,\"#fdca26\"],[1.0,\"#f0f921\"]]}],\"heatmapgl\":[{\"type\":\"heatmapgl\",\"colorbar\":{\"outlinewidth\":0,\"ticks\":\"\"},\"colorscale\":[[0.0,\"#0d0887\"],[0.1111111111111111,\"#46039f\"],[0.2222222222222222,\"#7201a8\"],[0.3333333333333333,\"#9c179e\"],[0.4444444444444444,\"#bd3786\"],[0.5555555555555556,\"#d8576b\"],[0.6666666666666666,\"#ed7953\"],[0.7777777777777778,\"#fb9f3a\"],[0.8888888888888888,\"#fdca26\"],[1.0,\"#f0f921\"]]}],\"contourcarpet\":[{\"type\":\"contourcarpet\",\"colorbar\":{\"outlinewidth\":0,\"ticks\":\"\"}}],\"contour\":[{\"type\":\"contour\",\"colorbar\":{\"outlinewidth\":0,\"ticks\":\"\"},\"colorscale\":[[0.0,\"#0d0887\"],[0.1111111111111111,\"#46039f\"],[0.2222222222222222,\"#7201a8\"],[0.3333333333333333,\"#9c179e\"],[0.4444444444444444,\"#bd3786\"],[0.5555555555555556,\"#d8576b\"],[0.6666666666666666,\"#ed7953\"],[0.7777777777777778,\"#fb9f3a\"],[0.8888888888888888,\"#fdca26\"],[1.0,\"#f0f921\"]]}],\"surface\":[{\"type\":\"surface\",\"colorbar\":{\"outlinewidth\":0,\"ticks\":\"\"},\"colorscale\":[[0.0,\"#0d0887\"],[0.1111111111111111,\"#46039f\"],[0.2222222222222222,\"#7201a8\"],[0.3333333333333333,\"#9c179e\"],[0.4444444444444444,\"#bd3786\"],[0.5555555555555556,\"#d8576b\"],[0.6666666666666666,\"#ed7953\"],[0.7777777777777778,\"#fb9f3a\"],[0.8888888888888888,\"#fdca26\"],[1.0,\"#f0f921\"]]}],\"mesh3d\":[{\"type\":\"mesh3d\",\"colorbar\":{\"outlinewidth\":0,\"ticks\":\"\"}}],\"scatter\":[{\"fillpattern\":{\"fillmode\":\"overlay\",\"size\":10,\"solidity\":0.2},\"type\":\"scatter\"}],\"parcoords\":[{\"type\":\"parcoords\",\"line\":{\"colorbar\":{\"outlinewidth\":0,\"ticks\":\"\"}}}],\"scatterpolargl\":[{\"type\":\"scatterpolargl\",\"marker\":{\"colorbar\":{\"outlinewidth\":0,\"ticks\":\"\"}}}],\"bar\":[{\"error_x\":{\"color\":\"#2a3f5f\"},\"error_y\":{\"color\":\"#2a3f5f\"},\"marker\":{\"line\":{\"color\":\"#E5ECF6\",\"width\":0.5},\"pattern\":{\"fillmode\":\"overlay\",\"size\":10,\"solidity\":0.2}},\"type\":\"bar\"}],\"scattergeo\":[{\"type\":\"scattergeo\",\"marker\":{\"colorbar\":{\"outlinewidth\":0,\"ticks\":\"\"}}}],\"scatterpolar\":[{\"type\":\"scatterpolar\",\"marker\":{\"colorbar\":{\"outlinewidth\":0,\"ticks\":\"\"}}}],\"histogram\":[{\"marker\":{\"pattern\":{\"fillmode\":\"overlay\",\"size\":10,\"solidity\":0.2}},\"type\":\"histogram\"}],\"scattergl\":[{\"type\":\"scattergl\",\"marker\":{\"colorbar\":{\"outlinewidth\":0,\"ticks\":\"\"}}}],\"scatter3d\":[{\"type\":\"scatter3d\",\"line\":{\"colorbar\":{\"outlinewidth\":0,\"ticks\":\"\"}},\"marker\":{\"colorbar\":{\"outlinewidth\":0,\"ticks\":\"\"}}}],\"scattermapbox\":[{\"type\":\"scattermapbox\",\"marker\":{\"colorbar\":{\"outlinewidth\":0,\"ticks\":\"\"}}}],\"scatterternary\":[{\"type\":\"scatterternary\",\"marker\":{\"colorbar\":{\"outlinewidth\":0,\"ticks\":\"\"}}}],\"scattercarpet\":[{\"type\":\"scattercarpet\",\"marker\":{\"colorbar\":{\"outlinewidth\":0,\"ticks\":\"\"}}}],\"carpet\":[{\"aaxis\":{\"endlinecolor\":\"#2a3f5f\",\"gridcolor\":\"white\",\"linecolor\":\"white\",\"minorgridcolor\":\"white\",\"startlinecolor\":\"#2a3f5f\"},\"baxis\":{\"endlinecolor\":\"#2a3f5f\",\"gridcolor\":\"white\",\"linecolor\":\"white\",\"minorgridcolor\":\"white\",\"startlinecolor\":\"#2a3f5f\"},\"type\":\"carpet\"}],\"table\":[{\"cells\":{\"fill\":{\"color\":\"#EBF0F8\"},\"line\":{\"color\":\"white\"}},\"header\":{\"fill\":{\"color\":\"#C8D4E3\"},\"line\":{\"color\":\"white\"}},\"type\":\"table\"}],\"barpolar\":[{\"marker\":{\"line\":{\"color\":\"#E5ECF6\",\"width\":0.5},\"pattern\":{\"fillmode\":\"overlay\",\"size\":10,\"solidity\":0.2}},\"type\":\"barpolar\"}],\"pie\":[{\"automargin\":true,\"type\":\"pie\"}]},\"layout\":{\"autotypenumbers\":\"strict\",\"colorway\":[\"#636efa\",\"#EF553B\",\"#00cc96\",\"#ab63fa\",\"#FFA15A\",\"#19d3f3\",\"#FF6692\",\"#B6E880\",\"#FF97FF\",\"#FECB52\"],\"font\":{\"color\":\"#2a3f5f\"},\"hovermode\":\"closest\",\"hoverlabel\":{\"align\":\"left\"},\"paper_bgcolor\":\"white\",\"plot_bgcolor\":\"#E5ECF6\",\"polar\":{\"bgcolor\":\"#E5ECF6\",\"angularaxis\":{\"gridcolor\":\"white\",\"linecolor\":\"white\",\"ticks\":\"\"},\"radialaxis\":{\"gridcolor\":\"white\",\"linecolor\":\"white\",\"ticks\":\"\"}},\"ternary\":{\"bgcolor\":\"#E5ECF6\",\"aaxis\":{\"gridcolor\":\"white\",\"linecolor\":\"white\",\"ticks\":\"\"},\"baxis\":{\"gridcolor\":\"white\",\"linecolor\":\"white\",\"ticks\":\"\"},\"caxis\":{\"gridcolor\":\"white\",\"linecolor\":\"white\",\"ticks\":\"\"}},\"coloraxis\":{\"colorbar\":{\"outlinewidth\":0,\"ticks\":\"\"}},\"colorscale\":{\"sequential\":[[0.0,\"#0d0887\"],[0.1111111111111111,\"#46039f\"],[0.2222222222222222,\"#7201a8\"],[0.3333333333333333,\"#9c179e\"],[0.4444444444444444,\"#bd3786\"],[0.5555555555555556,\"#d8576b\"],[0.6666666666666666,\"#ed7953\"],[0.7777777777777778,\"#fb9f3a\"],[0.8888888888888888,\"#fdca26\"],[1.0,\"#f0f921\"]],\"sequentialminus\":[[0.0,\"#0d0887\"],[0.1111111111111111,\"#46039f\"],[0.2222222222222222,\"#7201a8\"],[0.3333333333333333,\"#9c179e\"],[0.4444444444444444,\"#bd3786\"],[0.5555555555555556,\"#d8576b\"],[0.6666666666666666,\"#ed7953\"],[0.7777777777777778,\"#fb9f3a\"],[0.8888888888888888,\"#fdca26\"],[1.0,\"#f0f921\"]],\"diverging\":[[0,\"#8e0152\"],[0.1,\"#c51b7d\"],[0.2,\"#de77ae\"],[0.3,\"#f1b6da\"],[0.4,\"#fde0ef\"],[0.5,\"#f7f7f7\"],[0.6,\"#e6f5d0\"],[0.7,\"#b8e186\"],[0.8,\"#7fbc41\"],[0.9,\"#4d9221\"],[1,\"#276419\"]]},\"xaxis\":{\"gridcolor\":\"white\",\"linecolor\":\"white\",\"ticks\":\"\",\"title\":{\"standoff\":15},\"zerolinecolor\":\"white\",\"automargin\":true,\"zerolinewidth\":2},\"yaxis\":{\"gridcolor\":\"white\",\"linecolor\":\"white\",\"ticks\":\"\",\"title\":{\"standoff\":15},\"zerolinecolor\":\"white\",\"automargin\":true,\"zerolinewidth\":2},\"scene\":{\"xaxis\":{\"backgroundcolor\":\"#E5ECF6\",\"gridcolor\":\"white\",\"linecolor\":\"white\",\"showbackground\":true,\"ticks\":\"\",\"zerolinecolor\":\"white\",\"gridwidth\":2},\"yaxis\":{\"backgroundcolor\":\"#E5ECF6\",\"gridcolor\":\"white\",\"linecolor\":\"white\",\"showbackground\":true,\"ticks\":\"\",\"zerolinecolor\":\"white\",\"gridwidth\":2},\"zaxis\":{\"backgroundcolor\":\"#E5ECF6\",\"gridcolor\":\"white\",\"linecolor\":\"white\",\"showbackground\":true,\"ticks\":\"\",\"zerolinecolor\":\"white\",\"gridwidth\":2}},\"shapedefaults\":{\"line\":{\"color\":\"#2a3f5f\"}},\"annotationdefaults\":{\"arrowcolor\":\"#2a3f5f\",\"arrowhead\":0,\"arrowwidth\":1},\"geo\":{\"bgcolor\":\"white\",\"landcolor\":\"#E5ECF6\",\"subunitcolor\":\"white\",\"showland\":true,\"showlakes\":true,\"lakecolor\":\"white\"},\"title\":{\"x\":0.05},\"mapbox\":{\"style\":\"light\"}}},\"xaxis\":{\"anchor\":\"y\",\"domain\":[0.0,1.0],\"title\":{\"text\":\"Location\"}},\"yaxis\":{\"anchor\":\"x\",\"domain\":[0.0,1.0],\"title\":{\"text\":\"Frequency\"}},\"legend\":{\"tracegroupgap\":0},\"title\":{\"text\":\"Frequency Distribution of Location Types\"},\"barmode\":\"relative\"},                        {\"responsive\": true}                    ).then(function(){\n",
       "                            \n",
       "var gd = document.getElementById('e150c6a0-536b-488d-a7d8-c0271356344f');\n",
       "var x = new MutationObserver(function (mutations, observer) {{\n",
       "        var display = window.getComputedStyle(gd).display;\n",
       "        if (!display || display === 'none') {{\n",
       "            console.log([gd, 'removed!']);\n",
       "            Plotly.purge(gd);\n",
       "            observer.disconnect();\n",
       "        }}\n",
       "}});\n",
       "\n",
       "// Listen for the removal of the full notebook cells\n",
       "var notebookContainer = gd.closest('#notebook-container');\n",
       "if (notebookContainer) {{\n",
       "    x.observe(notebookContainer, {childList: true});\n",
       "}}\n",
       "\n",
       "// Listen for the clearing of the current output cell\n",
       "var outputEl = gd.closest('.output');\n",
       "if (outputEl) {{\n",
       "    x.observe(outputEl, {childList: true});\n",
       "}}\n",
       "\n",
       "                        })                };                });            </script>        </div>"
      ]
     },
     "metadata": {},
     "output_type": "display_data"
    }
   ],
   "source": [
    "#Frequency of Locations in this dataset\n",
    "indexes=new_data[\"LocTypeName\"].value_counts().index\n",
    "values=new_data[\"LocTypeName\"].value_counts().values\n",
    "#creating dataframe of loctype of columns\n",
    "LocationType_data=pd.concat([pd.DataFrame(indexes),pd.DataFrame(values)],axis=1)\n",
    "LocationType_data.columns=[\"Location\",\"Occ\"]\n",
    "px.bar(LocationType_data,x='Location',y='Occ',text_auto=True,title=\"Frequency Distribution of Location Types\",labels={\n",
    "    \"Occ\":\"Frequency\"\n",
    "})"
   ]
  },
  {
   "cell_type": "markdown",
   "metadata": {},
   "source": [
    "- We can see that `Country/Area` location is in the highest frequency compare with others. "
   ]
  },
  {
   "cell_type": "code",
   "execution_count": 82,
   "metadata": {},
   "outputs": [
    {
     "data": {
      "application/vnd.plotly.v1+json": {
       "config": {
        "plotlyServerURL": "https://plot.ly"
       },
       "data": [
        {
         "hovertemplate": "Time=%{x}<br>TPopulation1Jan=%{y}<extra></extra>",
         "legendgroup": "",
         "line": {
          "color": "#636efa",
          "dash": "solid"
         },
         "marker": {
          "symbol": "circle"
         },
         "mode": "lines",
         "name": "",
         "orientation": "v",
         "showlegend": false,
         "type": "scatter",
         "x": [
          1950,
          1951,
          1952,
          1953,
          1954,
          1955,
          1956,
          1957,
          1958,
          1959,
          1960,
          1961,
          1962,
          1963,
          1964,
          1965,
          1966,
          1967,
          1968,
          1969,
          1970,
          1971,
          1972,
          1973,
          1974,
          1975,
          1976,
          1977,
          1978,
          1979,
          1980,
          1981,
          1982,
          1983,
          1984,
          1985,
          1986,
          1987,
          1988,
          1989,
          1990,
          1991,
          1992,
          1993,
          1994,
          1995,
          1996,
          1997,
          1998,
          1999,
          2000,
          2001,
          2002,
          2003,
          2004,
          2005,
          2006,
          2007,
          2008,
          2009,
          2010,
          2011,
          2012,
          2013,
          2014,
          2015,
          2016,
          2017,
          2018,
          2019,
          2020,
          2021,
          2022,
          2023
         ],
         "xaxis": "x",
         "y": [
          21784091.537,
          22179414.054,
          22585068.41,
          23041572.659,
          23498651.854,
          23985992.403,
          24487653.487,
          24992498.633,
          25531403.61,
          26059741.323,
          26527970.218,
          26967337.958,
          27440406.493,
          28047717.584,
          28717943.585,
          29369235.63,
          30013777.367,
          30658073.709,
          31301053.191999998,
          31990037.047,
          32680017.118,
          33383952.328,
          34072022.555,
          34776620.244,
          35486325.304,
          36190962.227,
          36879102.888000004,
          37572319.266,
          38266354.844,
          38971766.36,
          39704460.999,
          40458094.231,
          41236355.254,
          42044490.379,
          42834815.802,
          43646324.552,
          44473684.438,
          45330439.637,
          46205548.73,
          47070017.278,
          47947136.139,
          48829754.281,
          49663081.061,
          50480540.573,
          51283069.68,
          52073194.505,
          52863813.969,
          53647478.613,
          54427068.896,
          55201734.972,
          55976227.816,
          56764034.724,
          57552641.877,
          58338050.68,
          59122700.686,
          59913435.871,
          60707387.591,
          61510887.804,
          62323663.374,
          63147968.397,
          63985326.041,
          64825395.828,
          65669316.722,
          66529546.469,
          67382943.878,
          68236558.181,
          69073561.03999999,
          69911259.706,
          70737623.719,
          71534342.707,
          72310190.862,
          73019684.275,
          73659204.687,
          74312426.804
         ],
         "yaxis": "y"
        }
       ],
       "layout": {
        "legend": {
         "tracegroupgap": 0
        },
        "template": {
         "data": {
          "bar": [
           {
            "error_x": {
             "color": "#2a3f5f"
            },
            "error_y": {
             "color": "#2a3f5f"
            },
            "marker": {
             "line": {
              "color": "#E5ECF6",
              "width": 0.5
             },
             "pattern": {
              "fillmode": "overlay",
              "size": 10,
              "solidity": 0.2
             }
            },
            "type": "bar"
           }
          ],
          "barpolar": [
           {
            "marker": {
             "line": {
              "color": "#E5ECF6",
              "width": 0.5
             },
             "pattern": {
              "fillmode": "overlay",
              "size": 10,
              "solidity": 0.2
             }
            },
            "type": "barpolar"
           }
          ],
          "carpet": [
           {
            "aaxis": {
             "endlinecolor": "#2a3f5f",
             "gridcolor": "white",
             "linecolor": "white",
             "minorgridcolor": "white",
             "startlinecolor": "#2a3f5f"
            },
            "baxis": {
             "endlinecolor": "#2a3f5f",
             "gridcolor": "white",
             "linecolor": "white",
             "minorgridcolor": "white",
             "startlinecolor": "#2a3f5f"
            },
            "type": "carpet"
           }
          ],
          "choropleth": [
           {
            "colorbar": {
             "outlinewidth": 0,
             "ticks": ""
            },
            "type": "choropleth"
           }
          ],
          "contour": [
           {
            "colorbar": {
             "outlinewidth": 0,
             "ticks": ""
            },
            "colorscale": [
             [
              0,
              "#0d0887"
             ],
             [
              0.1111111111111111,
              "#46039f"
             ],
             [
              0.2222222222222222,
              "#7201a8"
             ],
             [
              0.3333333333333333,
              "#9c179e"
             ],
             [
              0.4444444444444444,
              "#bd3786"
             ],
             [
              0.5555555555555556,
              "#d8576b"
             ],
             [
              0.6666666666666666,
              "#ed7953"
             ],
             [
              0.7777777777777778,
              "#fb9f3a"
             ],
             [
              0.8888888888888888,
              "#fdca26"
             ],
             [
              1,
              "#f0f921"
             ]
            ],
            "type": "contour"
           }
          ],
          "contourcarpet": [
           {
            "colorbar": {
             "outlinewidth": 0,
             "ticks": ""
            },
            "type": "contourcarpet"
           }
          ],
          "heatmap": [
           {
            "colorbar": {
             "outlinewidth": 0,
             "ticks": ""
            },
            "colorscale": [
             [
              0,
              "#0d0887"
             ],
             [
              0.1111111111111111,
              "#46039f"
             ],
             [
              0.2222222222222222,
              "#7201a8"
             ],
             [
              0.3333333333333333,
              "#9c179e"
             ],
             [
              0.4444444444444444,
              "#bd3786"
             ],
             [
              0.5555555555555556,
              "#d8576b"
             ],
             [
              0.6666666666666666,
              "#ed7953"
             ],
             [
              0.7777777777777778,
              "#fb9f3a"
             ],
             [
              0.8888888888888888,
              "#fdca26"
             ],
             [
              1,
              "#f0f921"
             ]
            ],
            "type": "heatmap"
           }
          ],
          "heatmapgl": [
           {
            "colorbar": {
             "outlinewidth": 0,
             "ticks": ""
            },
            "colorscale": [
             [
              0,
              "#0d0887"
             ],
             [
              0.1111111111111111,
              "#46039f"
             ],
             [
              0.2222222222222222,
              "#7201a8"
             ],
             [
              0.3333333333333333,
              "#9c179e"
             ],
             [
              0.4444444444444444,
              "#bd3786"
             ],
             [
              0.5555555555555556,
              "#d8576b"
             ],
             [
              0.6666666666666666,
              "#ed7953"
             ],
             [
              0.7777777777777778,
              "#fb9f3a"
             ],
             [
              0.8888888888888888,
              "#fdca26"
             ],
             [
              1,
              "#f0f921"
             ]
            ],
            "type": "heatmapgl"
           }
          ],
          "histogram": [
           {
            "marker": {
             "pattern": {
              "fillmode": "overlay",
              "size": 10,
              "solidity": 0.2
             }
            },
            "type": "histogram"
           }
          ],
          "histogram2d": [
           {
            "colorbar": {
             "outlinewidth": 0,
             "ticks": ""
            },
            "colorscale": [
             [
              0,
              "#0d0887"
             ],
             [
              0.1111111111111111,
              "#46039f"
             ],
             [
              0.2222222222222222,
              "#7201a8"
             ],
             [
              0.3333333333333333,
              "#9c179e"
             ],
             [
              0.4444444444444444,
              "#bd3786"
             ],
             [
              0.5555555555555556,
              "#d8576b"
             ],
             [
              0.6666666666666666,
              "#ed7953"
             ],
             [
              0.7777777777777778,
              "#fb9f3a"
             ],
             [
              0.8888888888888888,
              "#fdca26"
             ],
             [
              1,
              "#f0f921"
             ]
            ],
            "type": "histogram2d"
           }
          ],
          "histogram2dcontour": [
           {
            "colorbar": {
             "outlinewidth": 0,
             "ticks": ""
            },
            "colorscale": [
             [
              0,
              "#0d0887"
             ],
             [
              0.1111111111111111,
              "#46039f"
             ],
             [
              0.2222222222222222,
              "#7201a8"
             ],
             [
              0.3333333333333333,
              "#9c179e"
             ],
             [
              0.4444444444444444,
              "#bd3786"
             ],
             [
              0.5555555555555556,
              "#d8576b"
             ],
             [
              0.6666666666666666,
              "#ed7953"
             ],
             [
              0.7777777777777778,
              "#fb9f3a"
             ],
             [
              0.8888888888888888,
              "#fdca26"
             ],
             [
              1,
              "#f0f921"
             ]
            ],
            "type": "histogram2dcontour"
           }
          ],
          "mesh3d": [
           {
            "colorbar": {
             "outlinewidth": 0,
             "ticks": ""
            },
            "type": "mesh3d"
           }
          ],
          "parcoords": [
           {
            "line": {
             "colorbar": {
              "outlinewidth": 0,
              "ticks": ""
             }
            },
            "type": "parcoords"
           }
          ],
          "pie": [
           {
            "automargin": true,
            "type": "pie"
           }
          ],
          "scatter": [
           {
            "fillpattern": {
             "fillmode": "overlay",
             "size": 10,
             "solidity": 0.2
            },
            "type": "scatter"
           }
          ],
          "scatter3d": [
           {
            "line": {
             "colorbar": {
              "outlinewidth": 0,
              "ticks": ""
             }
            },
            "marker": {
             "colorbar": {
              "outlinewidth": 0,
              "ticks": ""
             }
            },
            "type": "scatter3d"
           }
          ],
          "scattercarpet": [
           {
            "marker": {
             "colorbar": {
              "outlinewidth": 0,
              "ticks": ""
             }
            },
            "type": "scattercarpet"
           }
          ],
          "scattergeo": [
           {
            "marker": {
             "colorbar": {
              "outlinewidth": 0,
              "ticks": ""
             }
            },
            "type": "scattergeo"
           }
          ],
          "scattergl": [
           {
            "marker": {
             "colorbar": {
              "outlinewidth": 0,
              "ticks": ""
             }
            },
            "type": "scattergl"
           }
          ],
          "scattermapbox": [
           {
            "marker": {
             "colorbar": {
              "outlinewidth": 0,
              "ticks": ""
             }
            },
            "type": "scattermapbox"
           }
          ],
          "scatterpolar": [
           {
            "marker": {
             "colorbar": {
              "outlinewidth": 0,
              "ticks": ""
             }
            },
            "type": "scatterpolar"
           }
          ],
          "scatterpolargl": [
           {
            "marker": {
             "colorbar": {
              "outlinewidth": 0,
              "ticks": ""
             }
            },
            "type": "scatterpolargl"
           }
          ],
          "scatterternary": [
           {
            "marker": {
             "colorbar": {
              "outlinewidth": 0,
              "ticks": ""
             }
            },
            "type": "scatterternary"
           }
          ],
          "surface": [
           {
            "colorbar": {
             "outlinewidth": 0,
             "ticks": ""
            },
            "colorscale": [
             [
              0,
              "#0d0887"
             ],
             [
              0.1111111111111111,
              "#46039f"
             ],
             [
              0.2222222222222222,
              "#7201a8"
             ],
             [
              0.3333333333333333,
              "#9c179e"
             ],
             [
              0.4444444444444444,
              "#bd3786"
             ],
             [
              0.5555555555555556,
              "#d8576b"
             ],
             [
              0.6666666666666666,
              "#ed7953"
             ],
             [
              0.7777777777777778,
              "#fb9f3a"
             ],
             [
              0.8888888888888888,
              "#fdca26"
             ],
             [
              1,
              "#f0f921"
             ]
            ],
            "type": "surface"
           }
          ],
          "table": [
           {
            "cells": {
             "fill": {
              "color": "#EBF0F8"
             },
             "line": {
              "color": "white"
             }
            },
            "header": {
             "fill": {
              "color": "#C8D4E3"
             },
             "line": {
              "color": "white"
             }
            },
            "type": "table"
           }
          ]
         },
         "layout": {
          "annotationdefaults": {
           "arrowcolor": "#2a3f5f",
           "arrowhead": 0,
           "arrowwidth": 1
          },
          "autotypenumbers": "strict",
          "coloraxis": {
           "colorbar": {
            "outlinewidth": 0,
            "ticks": ""
           }
          },
          "colorscale": {
           "diverging": [
            [
             0,
             "#8e0152"
            ],
            [
             0.1,
             "#c51b7d"
            ],
            [
             0.2,
             "#de77ae"
            ],
            [
             0.3,
             "#f1b6da"
            ],
            [
             0.4,
             "#fde0ef"
            ],
            [
             0.5,
             "#f7f7f7"
            ],
            [
             0.6,
             "#e6f5d0"
            ],
            [
             0.7,
             "#b8e186"
            ],
            [
             0.8,
             "#7fbc41"
            ],
            [
             0.9,
             "#4d9221"
            ],
            [
             1,
             "#276419"
            ]
           ],
           "sequential": [
            [
             0,
             "#0d0887"
            ],
            [
             0.1111111111111111,
             "#46039f"
            ],
            [
             0.2222222222222222,
             "#7201a8"
            ],
            [
             0.3333333333333333,
             "#9c179e"
            ],
            [
             0.4444444444444444,
             "#bd3786"
            ],
            [
             0.5555555555555556,
             "#d8576b"
            ],
            [
             0.6666666666666666,
             "#ed7953"
            ],
            [
             0.7777777777777778,
             "#fb9f3a"
            ],
            [
             0.8888888888888888,
             "#fdca26"
            ],
            [
             1,
             "#f0f921"
            ]
           ],
           "sequentialminus": [
            [
             0,
             "#0d0887"
            ],
            [
             0.1111111111111111,
             "#46039f"
            ],
            [
             0.2222222222222222,
             "#7201a8"
            ],
            [
             0.3333333333333333,
             "#9c179e"
            ],
            [
             0.4444444444444444,
             "#bd3786"
            ],
            [
             0.5555555555555556,
             "#d8576b"
            ],
            [
             0.6666666666666666,
             "#ed7953"
            ],
            [
             0.7777777777777778,
             "#fb9f3a"
            ],
            [
             0.8888888888888888,
             "#fdca26"
            ],
            [
             1,
             "#f0f921"
            ]
           ]
          },
          "colorway": [
           "#636efa",
           "#EF553B",
           "#00cc96",
           "#ab63fa",
           "#FFA15A",
           "#19d3f3",
           "#FF6692",
           "#B6E880",
           "#FF97FF",
           "#FECB52"
          ],
          "font": {
           "color": "#2a3f5f"
          },
          "geo": {
           "bgcolor": "white",
           "lakecolor": "white",
           "landcolor": "#E5ECF6",
           "showlakes": true,
           "showland": true,
           "subunitcolor": "white"
          },
          "hoverlabel": {
           "align": "left"
          },
          "hovermode": "closest",
          "mapbox": {
           "style": "light"
          },
          "paper_bgcolor": "white",
          "plot_bgcolor": "#E5ECF6",
          "polar": {
           "angularaxis": {
            "gridcolor": "white",
            "linecolor": "white",
            "ticks": ""
           },
           "bgcolor": "#E5ECF6",
           "radialaxis": {
            "gridcolor": "white",
            "linecolor": "white",
            "ticks": ""
           }
          },
          "scene": {
           "xaxis": {
            "backgroundcolor": "#E5ECF6",
            "gridcolor": "white",
            "gridwidth": 2,
            "linecolor": "white",
            "showbackground": true,
            "ticks": "",
            "zerolinecolor": "white"
           },
           "yaxis": {
            "backgroundcolor": "#E5ECF6",
            "gridcolor": "white",
            "gridwidth": 2,
            "linecolor": "white",
            "showbackground": true,
            "ticks": "",
            "zerolinecolor": "white"
           },
           "zaxis": {
            "backgroundcolor": "#E5ECF6",
            "gridcolor": "white",
            "gridwidth": 2,
            "linecolor": "white",
            "showbackground": true,
            "ticks": "",
            "zerolinecolor": "white"
           }
          },
          "shapedefaults": {
           "line": {
            "color": "#2a3f5f"
           }
          },
          "ternary": {
           "aaxis": {
            "gridcolor": "white",
            "linecolor": "white",
            "ticks": ""
           },
           "baxis": {
            "gridcolor": "white",
            "linecolor": "white",
            "ticks": ""
           },
           "bgcolor": "#E5ECF6",
           "caxis": {
            "gridcolor": "white",
            "linecolor": "white",
            "ticks": ""
           }
          },
          "title": {
           "x": 0.05
          },
          "xaxis": {
           "automargin": true,
           "gridcolor": "white",
           "linecolor": "white",
           "ticks": "",
           "title": {
            "standoff": 15
           },
           "zerolinecolor": "white",
           "zerolinewidth": 2
          },
          "yaxis": {
           "automargin": true,
           "gridcolor": "white",
           "linecolor": "white",
           "ticks": "",
           "title": {
            "standoff": 15
           },
           "zerolinecolor": "white",
           "zerolinewidth": 2
          }
         }
        },
        "title": {
         "text": "Population Yearly Growth till each Jan Month"
        },
        "xaxis": {
         "anchor": "y",
         "domain": [
          0,
          1
         ],
         "title": {
          "text": "Time"
         }
        },
        "yaxis": {
         "anchor": "x",
         "domain": [
          0,
          1
         ],
         "title": {
          "text": "TPopulation1Jan"
         }
        }
       }
      },
      "text/html": [
       "<div>                            <div id=\"60bf865a-f974-4a00-bf50-140147b3e137\" class=\"plotly-graph-div\" style=\"height:525px; width:100%;\"></div>            <script type=\"text/javascript\">                require([\"plotly\"], function(Plotly) {                    window.PLOTLYENV=window.PLOTLYENV || {};                                    if (document.getElementById(\"60bf865a-f974-4a00-bf50-140147b3e137\")) {                    Plotly.newPlot(                        \"60bf865a-f974-4a00-bf50-140147b3e137\",                        [{\"hovertemplate\":\"Time=%{x}<br>TPopulation1Jan=%{y}<extra></extra>\",\"legendgroup\":\"\",\"line\":{\"color\":\"#636efa\",\"dash\":\"solid\"},\"marker\":{\"symbol\":\"circle\"},\"mode\":\"lines\",\"name\":\"\",\"orientation\":\"v\",\"showlegend\":false,\"x\":[1950,1951,1952,1953,1954,1955,1956,1957,1958,1959,1960,1961,1962,1963,1964,1965,1966,1967,1968,1969,1970,1971,1972,1973,1974,1975,1976,1977,1978,1979,1980,1981,1982,1983,1984,1985,1986,1987,1988,1989,1990,1991,1992,1993,1994,1995,1996,1997,1998,1999,2000,2001,2002,2003,2004,2005,2006,2007,2008,2009,2010,2011,2012,2013,2014,2015,2016,2017,2018,2019,2020,2021,2022,2023],\"xaxis\":\"x\",\"y\":[21784091.537,22179414.054,22585068.41,23041572.659,23498651.854,23985992.403,24487653.487,24992498.633,25531403.61,26059741.323,26527970.218,26967337.958,27440406.493,28047717.584,28717943.585,29369235.63,30013777.367,30658073.709,31301053.191999998,31990037.047,32680017.118,33383952.328,34072022.555,34776620.244,35486325.304,36190962.227,36879102.888000004,37572319.266,38266354.844,38971766.36,39704460.999,40458094.231,41236355.254,42044490.379,42834815.802,43646324.552,44473684.438,45330439.637,46205548.73,47070017.278,47947136.139,48829754.281,49663081.061,50480540.573,51283069.68,52073194.505,52863813.969,53647478.613,54427068.896,55201734.972,55976227.816,56764034.724,57552641.877,58338050.68,59122700.686,59913435.871,60707387.591,61510887.804,62323663.374,63147968.397,63985326.041,64825395.828,65669316.722,66529546.469,67382943.878,68236558.181,69073561.03999999,69911259.706,70737623.719,71534342.707,72310190.862,73019684.275,73659204.687,74312426.804],\"yaxis\":\"y\",\"type\":\"scatter\"}],                        {\"template\":{\"data\":{\"histogram2dcontour\":[{\"type\":\"histogram2dcontour\",\"colorbar\":{\"outlinewidth\":0,\"ticks\":\"\"},\"colorscale\":[[0.0,\"#0d0887\"],[0.1111111111111111,\"#46039f\"],[0.2222222222222222,\"#7201a8\"],[0.3333333333333333,\"#9c179e\"],[0.4444444444444444,\"#bd3786\"],[0.5555555555555556,\"#d8576b\"],[0.6666666666666666,\"#ed7953\"],[0.7777777777777778,\"#fb9f3a\"],[0.8888888888888888,\"#fdca26\"],[1.0,\"#f0f921\"]]}],\"choropleth\":[{\"type\":\"choropleth\",\"colorbar\":{\"outlinewidth\":0,\"ticks\":\"\"}}],\"histogram2d\":[{\"type\":\"histogram2d\",\"colorbar\":{\"outlinewidth\":0,\"ticks\":\"\"},\"colorscale\":[[0.0,\"#0d0887\"],[0.1111111111111111,\"#46039f\"],[0.2222222222222222,\"#7201a8\"],[0.3333333333333333,\"#9c179e\"],[0.4444444444444444,\"#bd3786\"],[0.5555555555555556,\"#d8576b\"],[0.6666666666666666,\"#ed7953\"],[0.7777777777777778,\"#fb9f3a\"],[0.8888888888888888,\"#fdca26\"],[1.0,\"#f0f921\"]]}],\"heatmap\":[{\"type\":\"heatmap\",\"colorbar\":{\"outlinewidth\":0,\"ticks\":\"\"},\"colorscale\":[[0.0,\"#0d0887\"],[0.1111111111111111,\"#46039f\"],[0.2222222222222222,\"#7201a8\"],[0.3333333333333333,\"#9c179e\"],[0.4444444444444444,\"#bd3786\"],[0.5555555555555556,\"#d8576b\"],[0.6666666666666666,\"#ed7953\"],[0.7777777777777778,\"#fb9f3a\"],[0.8888888888888888,\"#fdca26\"],[1.0,\"#f0f921\"]]}],\"heatmapgl\":[{\"type\":\"heatmapgl\",\"colorbar\":{\"outlinewidth\":0,\"ticks\":\"\"},\"colorscale\":[[0.0,\"#0d0887\"],[0.1111111111111111,\"#46039f\"],[0.2222222222222222,\"#7201a8\"],[0.3333333333333333,\"#9c179e\"],[0.4444444444444444,\"#bd3786\"],[0.5555555555555556,\"#d8576b\"],[0.6666666666666666,\"#ed7953\"],[0.7777777777777778,\"#fb9f3a\"],[0.8888888888888888,\"#fdca26\"],[1.0,\"#f0f921\"]]}],\"contourcarpet\":[{\"type\":\"contourcarpet\",\"colorbar\":{\"outlinewidth\":0,\"ticks\":\"\"}}],\"contour\":[{\"type\":\"contour\",\"colorbar\":{\"outlinewidth\":0,\"ticks\":\"\"},\"colorscale\":[[0.0,\"#0d0887\"],[0.1111111111111111,\"#46039f\"],[0.2222222222222222,\"#7201a8\"],[0.3333333333333333,\"#9c179e\"],[0.4444444444444444,\"#bd3786\"],[0.5555555555555556,\"#d8576b\"],[0.6666666666666666,\"#ed7953\"],[0.7777777777777778,\"#fb9f3a\"],[0.8888888888888888,\"#fdca26\"],[1.0,\"#f0f921\"]]}],\"surface\":[{\"type\":\"surface\",\"colorbar\":{\"outlinewidth\":0,\"ticks\":\"\"},\"colorscale\":[[0.0,\"#0d0887\"],[0.1111111111111111,\"#46039f\"],[0.2222222222222222,\"#7201a8\"],[0.3333333333333333,\"#9c179e\"],[0.4444444444444444,\"#bd3786\"],[0.5555555555555556,\"#d8576b\"],[0.6666666666666666,\"#ed7953\"],[0.7777777777777778,\"#fb9f3a\"],[0.8888888888888888,\"#fdca26\"],[1.0,\"#f0f921\"]]}],\"mesh3d\":[{\"type\":\"mesh3d\",\"colorbar\":{\"outlinewidth\":0,\"ticks\":\"\"}}],\"scatter\":[{\"fillpattern\":{\"fillmode\":\"overlay\",\"size\":10,\"solidity\":0.2},\"type\":\"scatter\"}],\"parcoords\":[{\"type\":\"parcoords\",\"line\":{\"colorbar\":{\"outlinewidth\":0,\"ticks\":\"\"}}}],\"scatterpolargl\":[{\"type\":\"scatterpolargl\",\"marker\":{\"colorbar\":{\"outlinewidth\":0,\"ticks\":\"\"}}}],\"bar\":[{\"error_x\":{\"color\":\"#2a3f5f\"},\"error_y\":{\"color\":\"#2a3f5f\"},\"marker\":{\"line\":{\"color\":\"#E5ECF6\",\"width\":0.5},\"pattern\":{\"fillmode\":\"overlay\",\"size\":10,\"solidity\":0.2}},\"type\":\"bar\"}],\"scattergeo\":[{\"type\":\"scattergeo\",\"marker\":{\"colorbar\":{\"outlinewidth\":0,\"ticks\":\"\"}}}],\"scatterpolar\":[{\"type\":\"scatterpolar\",\"marker\":{\"colorbar\":{\"outlinewidth\":0,\"ticks\":\"\"}}}],\"histogram\":[{\"marker\":{\"pattern\":{\"fillmode\":\"overlay\",\"size\":10,\"solidity\":0.2}},\"type\":\"histogram\"}],\"scattergl\":[{\"type\":\"scattergl\",\"marker\":{\"colorbar\":{\"outlinewidth\":0,\"ticks\":\"\"}}}],\"scatter3d\":[{\"type\":\"scatter3d\",\"line\":{\"colorbar\":{\"outlinewidth\":0,\"ticks\":\"\"}},\"marker\":{\"colorbar\":{\"outlinewidth\":0,\"ticks\":\"\"}}}],\"scattermapbox\":[{\"type\":\"scattermapbox\",\"marker\":{\"colorbar\":{\"outlinewidth\":0,\"ticks\":\"\"}}}],\"scatterternary\":[{\"type\":\"scatterternary\",\"marker\":{\"colorbar\":{\"outlinewidth\":0,\"ticks\":\"\"}}}],\"scattercarpet\":[{\"type\":\"scattercarpet\",\"marker\":{\"colorbar\":{\"outlinewidth\":0,\"ticks\":\"\"}}}],\"carpet\":[{\"aaxis\":{\"endlinecolor\":\"#2a3f5f\",\"gridcolor\":\"white\",\"linecolor\":\"white\",\"minorgridcolor\":\"white\",\"startlinecolor\":\"#2a3f5f\"},\"baxis\":{\"endlinecolor\":\"#2a3f5f\",\"gridcolor\":\"white\",\"linecolor\":\"white\",\"minorgridcolor\":\"white\",\"startlinecolor\":\"#2a3f5f\"},\"type\":\"carpet\"}],\"table\":[{\"cells\":{\"fill\":{\"color\":\"#EBF0F8\"},\"line\":{\"color\":\"white\"}},\"header\":{\"fill\":{\"color\":\"#C8D4E3\"},\"line\":{\"color\":\"white\"}},\"type\":\"table\"}],\"barpolar\":[{\"marker\":{\"line\":{\"color\":\"#E5ECF6\",\"width\":0.5},\"pattern\":{\"fillmode\":\"overlay\",\"size\":10,\"solidity\":0.2}},\"type\":\"barpolar\"}],\"pie\":[{\"automargin\":true,\"type\":\"pie\"}]},\"layout\":{\"autotypenumbers\":\"strict\",\"colorway\":[\"#636efa\",\"#EF553B\",\"#00cc96\",\"#ab63fa\",\"#FFA15A\",\"#19d3f3\",\"#FF6692\",\"#B6E880\",\"#FF97FF\",\"#FECB52\"],\"font\":{\"color\":\"#2a3f5f\"},\"hovermode\":\"closest\",\"hoverlabel\":{\"align\":\"left\"},\"paper_bgcolor\":\"white\",\"plot_bgcolor\":\"#E5ECF6\",\"polar\":{\"bgcolor\":\"#E5ECF6\",\"angularaxis\":{\"gridcolor\":\"white\",\"linecolor\":\"white\",\"ticks\":\"\"},\"radialaxis\":{\"gridcolor\":\"white\",\"linecolor\":\"white\",\"ticks\":\"\"}},\"ternary\":{\"bgcolor\":\"#E5ECF6\",\"aaxis\":{\"gridcolor\":\"white\",\"linecolor\":\"white\",\"ticks\":\"\"},\"baxis\":{\"gridcolor\":\"white\",\"linecolor\":\"white\",\"ticks\":\"\"},\"caxis\":{\"gridcolor\":\"white\",\"linecolor\":\"white\",\"ticks\":\"\"}},\"coloraxis\":{\"colorbar\":{\"outlinewidth\":0,\"ticks\":\"\"}},\"colorscale\":{\"sequential\":[[0.0,\"#0d0887\"],[0.1111111111111111,\"#46039f\"],[0.2222222222222222,\"#7201a8\"],[0.3333333333333333,\"#9c179e\"],[0.4444444444444444,\"#bd3786\"],[0.5555555555555556,\"#d8576b\"],[0.6666666666666666,\"#ed7953\"],[0.7777777777777778,\"#fb9f3a\"],[0.8888888888888888,\"#fdca26\"],[1.0,\"#f0f921\"]],\"sequentialminus\":[[0.0,\"#0d0887\"],[0.1111111111111111,\"#46039f\"],[0.2222222222222222,\"#7201a8\"],[0.3333333333333333,\"#9c179e\"],[0.4444444444444444,\"#bd3786\"],[0.5555555555555556,\"#d8576b\"],[0.6666666666666666,\"#ed7953\"],[0.7777777777777778,\"#fb9f3a\"],[0.8888888888888888,\"#fdca26\"],[1.0,\"#f0f921\"]],\"diverging\":[[0,\"#8e0152\"],[0.1,\"#c51b7d\"],[0.2,\"#de77ae\"],[0.3,\"#f1b6da\"],[0.4,\"#fde0ef\"],[0.5,\"#f7f7f7\"],[0.6,\"#e6f5d0\"],[0.7,\"#b8e186\"],[0.8,\"#7fbc41\"],[0.9,\"#4d9221\"],[1,\"#276419\"]]},\"xaxis\":{\"gridcolor\":\"white\",\"linecolor\":\"white\",\"ticks\":\"\",\"title\":{\"standoff\":15},\"zerolinecolor\":\"white\",\"automargin\":true,\"zerolinewidth\":2},\"yaxis\":{\"gridcolor\":\"white\",\"linecolor\":\"white\",\"ticks\":\"\",\"title\":{\"standoff\":15},\"zerolinecolor\":\"white\",\"automargin\":true,\"zerolinewidth\":2},\"scene\":{\"xaxis\":{\"backgroundcolor\":\"#E5ECF6\",\"gridcolor\":\"white\",\"linecolor\":\"white\",\"showbackground\":true,\"ticks\":\"\",\"zerolinecolor\":\"white\",\"gridwidth\":2},\"yaxis\":{\"backgroundcolor\":\"#E5ECF6\",\"gridcolor\":\"white\",\"linecolor\":\"white\",\"showbackground\":true,\"ticks\":\"\",\"zerolinecolor\":\"white\",\"gridwidth\":2},\"zaxis\":{\"backgroundcolor\":\"#E5ECF6\",\"gridcolor\":\"white\",\"linecolor\":\"white\",\"showbackground\":true,\"ticks\":\"\",\"zerolinecolor\":\"white\",\"gridwidth\":2}},\"shapedefaults\":{\"line\":{\"color\":\"#2a3f5f\"}},\"annotationdefaults\":{\"arrowcolor\":\"#2a3f5f\",\"arrowhead\":0,\"arrowwidth\":1},\"geo\":{\"bgcolor\":\"white\",\"landcolor\":\"#E5ECF6\",\"subunitcolor\":\"white\",\"showland\":true,\"showlakes\":true,\"lakecolor\":\"white\"},\"title\":{\"x\":0.05},\"mapbox\":{\"style\":\"light\"}}},\"xaxis\":{\"anchor\":\"y\",\"domain\":[0.0,1.0],\"title\":{\"text\":\"Time\"}},\"yaxis\":{\"anchor\":\"x\",\"domain\":[0.0,1.0],\"title\":{\"text\":\"TPopulation1Jan\"}},\"legend\":{\"tracegroupgap\":0},\"title\":{\"text\":\"Population Yearly Growth till each Jan Month\"}},                        {\"responsive\": true}                    ).then(function(){\n",
       "                            \n",
       "var gd = document.getElementById('60bf865a-f974-4a00-bf50-140147b3e137');\n",
       "var x = new MutationObserver(function (mutations, observer) {{\n",
       "        var display = window.getComputedStyle(gd).display;\n",
       "        if (!display || display === 'none') {{\n",
       "            console.log([gd, 'removed!']);\n",
       "            Plotly.purge(gd);\n",
       "            observer.disconnect();\n",
       "        }}\n",
       "}});\n",
       "\n",
       "// Listen for the removal of the full notebook cells\n",
       "var notebookContainer = gd.closest('#notebook-container');\n",
       "if (notebookContainer) {{\n",
       "    x.observe(notebookContainer, {childList: true});\n",
       "}}\n",
       "\n",
       "// Listen for the clearing of the current output cell\n",
       "var outputEl = gd.closest('.output');\n",
       "if (outputEl) {{\n",
       "    x.observe(outputEl, {childList: true});\n",
       "}}\n",
       "\n",
       "                        })                };                });            </script>        </div>"
      ]
     },
     "metadata": {},
     "output_type": "display_data"
    }
   ],
   "source": [
    "# Total Population Trends Over Time\n",
    "\n",
    "# Grouping by Time and summing up the total population till january for each year\n",
    "population_trends_jan = new_data.groupby('Time')['TPopulation1Jan'].sum().reset_index()\n",
    "\n",
    "#drawing plot based on years\n",
    "px.line(population_trends_jan, x=\"Time\", y=\"TPopulation1Jan\",title=\"Population Yearly Growth till each Jan Month\")"
   ]
  },
  {
   "cell_type": "markdown",
   "metadata": {},
   "source": [
    "- We can see a straight growth of population till each january month"
   ]
  },
  {
   "cell_type": "code",
   "execution_count": 83,
   "metadata": {},
   "outputs": [
    {
     "data": {
      "text/plain": [
       "Index(['LocTypeName', 'Location', 'Variant', 'Time', 'TPopulation1Jan',\n",
       "       'TPopulation1July', 'TPopulationMale1July', 'TPopulationFemale1July',\n",
       "       'PopDensity', 'PopSexRatio', 'MedianAgePop', 'NatChange', 'NatChangeRT',\n",
       "       'PopChange', 'PopGrowthRate', 'DoublingTime', 'Births', 'Births1519',\n",
       "       'CBR', 'TFR', 'NRR', 'MAC', 'SRB', 'Deaths', 'DeathsMale',\n",
       "       'DeathsFemale', 'CDR', 'LEx', 'LExMale', 'LExFemale', 'LE15',\n",
       "       'LE15Male', 'LE15Female', 'LE65', 'LE65Male', 'LE65Female', 'LE80',\n",
       "       'LE80Male', 'LE80Female', 'InfantDeaths', 'IMR', 'LBsurvivingAge1',\n",
       "       'Under5Deaths', 'Q5', 'Q0040', 'Q0040Male', 'Q0040Female', 'Q0060',\n",
       "       'Q0060Male', 'Q0060Female', 'Q1550', 'Q1550Male', 'Q1550Female',\n",
       "       'Q1560', 'Q1560Male', 'Q1560Female', 'NetMigrations', 'CNMR'],\n",
       "      dtype='object')"
      ]
     },
     "execution_count": 83,
     "metadata": {},
     "output_type": "execute_result"
    }
   ],
   "source": [
    "new_data.columns"
   ]
  },
  {
   "cell_type": "code",
   "execution_count": 26,
   "metadata": {},
   "outputs": [
    {
     "data": {
      "application/vnd.plotly.v1+json": {
       "config": {
        "plotlyServerURL": "https://plot.ly"
       },
       "data": [
        {
         "hovertemplate": "Gender=Male<br>Time=%{x}<br>Population=%{y}<extra></extra>",
         "legendgroup": "Male",
         "line": {
          "color": "#636efa",
          "dash": "solid"
         },
         "marker": {
          "symbol": "circle"
         },
         "mode": "lines",
         "name": "Male",
         "orientation": "v",
         "showlegend": true,
         "type": "scatter",
         "x": [
          1950,
          1951,
          1952,
          1953,
          1954,
          1955,
          1956,
          1957,
          1958,
          1959,
          1960,
          1961,
          1962,
          1963,
          1964,
          1965,
          1966,
          1967,
          1968,
          1969,
          1970,
          1971,
          1972,
          1973,
          1974,
          1975,
          1976,
          1977,
          1978,
          1979,
          1980,
          1981,
          1982,
          1983,
          1984,
          1985,
          1986,
          1987,
          1988,
          1989,
          1990,
          1991,
          1992,
          1993,
          1994,
          1995,
          1996,
          1997,
          1998,
          1999,
          2000,
          2001,
          2002,
          2003,
          2004,
          2005,
          2006,
          2007,
          2008,
          2009,
          2010,
          2011,
          2012,
          2013,
          2014,
          2015,
          2016,
          2017,
          2018,
          2019,
          2020,
          2021,
          2022,
          2023
         ],
         "xaxis": "x",
         "y": [
          10989914.747,
          11191416.844,
          11409556.268000001,
          11640492.05,
          11880376.848,
          12131374.458,
          12386216.911,
          12650243.867,
          12921257.217,
          13173695.862,
          13401663.991,
          13630603.747,
          13902873.049999999,
          14226036.444,
          14560422.334,
          14887323.97,
          15211537.171,
          15535288.693,
          15870968.336000001,
          16219407.979,
          16571809.216,
          16923422.387,
          17276522.151,
          17636482.167,
          17996312.785,
          18349598.786,
          18698272.015,
          19048189.924,
          19401042.852,
          19762847.654,
          20138530.899,
          20526629.845,
          20926423.355,
          21327777.234,
          21729533.269,
          22140543.138,
          22565009.705000002,
          23003868.701,
          23444640.399,
          23886738.615,
          24334149.098,
          24770552.991,
          25189558.888,
          25599379.738,
          26002474.022,
          26402434.008,
          26800615.991,
          27197192.132,
          27591920.081,
          27985129.445,
          28382318.096,
          28782172.718,
          29180059.438,
          29576791.831,
          29974676.975,
          30375128.3,
          30779704.993,
          31189815.917,
          31604655.987999998,
          32024464.173,
          32447169.345,
          32871741.05,
          33302215.319000002,
          33734769.47,
          34165578.903,
          34592178.898,
          35012341.67,
          35427550.923,
          35831704.226,
          36221444.653,
          36585219.622,
          36912063.043,
          37226239.041,
          37563513.009
         ],
         "yaxis": "y"
        },
        {
         "hovertemplate": "Gender=Female<br>Time=%{x}<br>Population=%{y}<extra></extra>",
         "legendgroup": "Female",
         "line": {
          "color": "#EF553B",
          "dash": "solid"
         },
         "marker": {
          "symbol": "circle"
         },
         "mode": "lines",
         "name": "Female",
         "orientation": "v",
         "showlegend": true,
         "type": "scatter",
         "x": [
          1950,
          1951,
          1952,
          1953,
          1954,
          1955,
          1956,
          1957,
          1958,
          1959,
          1960,
          1961,
          1962,
          1963,
          1964,
          1965,
          1966,
          1967,
          1968,
          1969,
          1970,
          1971,
          1972,
          1973,
          1974,
          1975,
          1976,
          1977,
          1978,
          1979,
          1980,
          1981,
          1982,
          1983,
          1984,
          1985,
          1986,
          1987,
          1988,
          1989,
          1990,
          1991,
          1992,
          1993,
          1994,
          1995,
          1996,
          1997,
          1998,
          1999,
          2000,
          2001,
          2002,
          2003,
          2004,
          2005,
          2006,
          2007,
          2008,
          2009,
          2010,
          2011,
          2012,
          2013,
          2014,
          2015,
          2016,
          2017,
          2018,
          2019,
          2020,
          2021,
          2022,
          2023
         ],
         "xaxis": "x",
         "y": [
          10991838.048,
          11190824.401,
          11403764.28,
          11629620.205,
          11861945.278,
          12105448.491,
          12353859.138,
          12611707.255,
          12874315.257,
          13120159.902,
          13345990.101,
          13573268.484,
          13841188.989,
          14156794.141,
          14483167.274,
          14804182.524,
          15124388.373,
          15444274.76,
          15774576.771,
          16115619.098,
          16460175.501,
          16804565.053,
          17147799.248,
          17494990.598,
          17842330.994,
          18185433.775,
          18527439.069000002,
          18871147.138,
          19218017.749,
          19575266.019,
          19942746.718,
          20320594.905,
          20713999.462,
          21111875.862,
          21511036.908,
          21919461.358,
          22337052.329,
          22764125.488,
          23193142.6,
          23621838.085,
          24054296.117,
          24475864.680999998,
          24882251.938,
          25282425.391,
          25675658.104,
          26066070.235,
          26455030.31,
          26840081.618,
          27222481.861,
          27603851.946,
          27987813.179,
          28376165.577999998,
          28765286.84,
          29153583.845,
          29543391.318,
          29935283.438,
          30329432.703,
          30727459.682,
          31131159.885,
          31542183.048,
          31958191.591000002,
          32375615.225,
          32797216.263,
          33221475.702999998,
          33644172.121,
          34062880.702,
          34480068.715,
          34896890.785,
          35304278.994,
          35700822.14,
          36079717.941,
          36427381.434,
          36759576.698,
          37109874.356
         ],
         "yaxis": "y"
        }
       ],
       "layout": {
        "legend": {
         "title": {
          "text": "Gender"
         },
         "tracegroupgap": 0
        },
        "template": {
         "data": {
          "bar": [
           {
            "error_x": {
             "color": "#2a3f5f"
            },
            "error_y": {
             "color": "#2a3f5f"
            },
            "marker": {
             "line": {
              "color": "#E5ECF6",
              "width": 0.5
             },
             "pattern": {
              "fillmode": "overlay",
              "size": 10,
              "solidity": 0.2
             }
            },
            "type": "bar"
           }
          ],
          "barpolar": [
           {
            "marker": {
             "line": {
              "color": "#E5ECF6",
              "width": 0.5
             },
             "pattern": {
              "fillmode": "overlay",
              "size": 10,
              "solidity": 0.2
             }
            },
            "type": "barpolar"
           }
          ],
          "carpet": [
           {
            "aaxis": {
             "endlinecolor": "#2a3f5f",
             "gridcolor": "white",
             "linecolor": "white",
             "minorgridcolor": "white",
             "startlinecolor": "#2a3f5f"
            },
            "baxis": {
             "endlinecolor": "#2a3f5f",
             "gridcolor": "white",
             "linecolor": "white",
             "minorgridcolor": "white",
             "startlinecolor": "#2a3f5f"
            },
            "type": "carpet"
           }
          ],
          "choropleth": [
           {
            "colorbar": {
             "outlinewidth": 0,
             "ticks": ""
            },
            "type": "choropleth"
           }
          ],
          "contour": [
           {
            "colorbar": {
             "outlinewidth": 0,
             "ticks": ""
            },
            "colorscale": [
             [
              0,
              "#0d0887"
             ],
             [
              0.1111111111111111,
              "#46039f"
             ],
             [
              0.2222222222222222,
              "#7201a8"
             ],
             [
              0.3333333333333333,
              "#9c179e"
             ],
             [
              0.4444444444444444,
              "#bd3786"
             ],
             [
              0.5555555555555556,
              "#d8576b"
             ],
             [
              0.6666666666666666,
              "#ed7953"
             ],
             [
              0.7777777777777778,
              "#fb9f3a"
             ],
             [
              0.8888888888888888,
              "#fdca26"
             ],
             [
              1,
              "#f0f921"
             ]
            ],
            "type": "contour"
           }
          ],
          "contourcarpet": [
           {
            "colorbar": {
             "outlinewidth": 0,
             "ticks": ""
            },
            "type": "contourcarpet"
           }
          ],
          "heatmap": [
           {
            "colorbar": {
             "outlinewidth": 0,
             "ticks": ""
            },
            "colorscale": [
             [
              0,
              "#0d0887"
             ],
             [
              0.1111111111111111,
              "#46039f"
             ],
             [
              0.2222222222222222,
              "#7201a8"
             ],
             [
              0.3333333333333333,
              "#9c179e"
             ],
             [
              0.4444444444444444,
              "#bd3786"
             ],
             [
              0.5555555555555556,
              "#d8576b"
             ],
             [
              0.6666666666666666,
              "#ed7953"
             ],
             [
              0.7777777777777778,
              "#fb9f3a"
             ],
             [
              0.8888888888888888,
              "#fdca26"
             ],
             [
              1,
              "#f0f921"
             ]
            ],
            "type": "heatmap"
           }
          ],
          "heatmapgl": [
           {
            "colorbar": {
             "outlinewidth": 0,
             "ticks": ""
            },
            "colorscale": [
             [
              0,
              "#0d0887"
             ],
             [
              0.1111111111111111,
              "#46039f"
             ],
             [
              0.2222222222222222,
              "#7201a8"
             ],
             [
              0.3333333333333333,
              "#9c179e"
             ],
             [
              0.4444444444444444,
              "#bd3786"
             ],
             [
              0.5555555555555556,
              "#d8576b"
             ],
             [
              0.6666666666666666,
              "#ed7953"
             ],
             [
              0.7777777777777778,
              "#fb9f3a"
             ],
             [
              0.8888888888888888,
              "#fdca26"
             ],
             [
              1,
              "#f0f921"
             ]
            ],
            "type": "heatmapgl"
           }
          ],
          "histogram": [
           {
            "marker": {
             "pattern": {
              "fillmode": "overlay",
              "size": 10,
              "solidity": 0.2
             }
            },
            "type": "histogram"
           }
          ],
          "histogram2d": [
           {
            "colorbar": {
             "outlinewidth": 0,
             "ticks": ""
            },
            "colorscale": [
             [
              0,
              "#0d0887"
             ],
             [
              0.1111111111111111,
              "#46039f"
             ],
             [
              0.2222222222222222,
              "#7201a8"
             ],
             [
              0.3333333333333333,
              "#9c179e"
             ],
             [
              0.4444444444444444,
              "#bd3786"
             ],
             [
              0.5555555555555556,
              "#d8576b"
             ],
             [
              0.6666666666666666,
              "#ed7953"
             ],
             [
              0.7777777777777778,
              "#fb9f3a"
             ],
             [
              0.8888888888888888,
              "#fdca26"
             ],
             [
              1,
              "#f0f921"
             ]
            ],
            "type": "histogram2d"
           }
          ],
          "histogram2dcontour": [
           {
            "colorbar": {
             "outlinewidth": 0,
             "ticks": ""
            },
            "colorscale": [
             [
              0,
              "#0d0887"
             ],
             [
              0.1111111111111111,
              "#46039f"
             ],
             [
              0.2222222222222222,
              "#7201a8"
             ],
             [
              0.3333333333333333,
              "#9c179e"
             ],
             [
              0.4444444444444444,
              "#bd3786"
             ],
             [
              0.5555555555555556,
              "#d8576b"
             ],
             [
              0.6666666666666666,
              "#ed7953"
             ],
             [
              0.7777777777777778,
              "#fb9f3a"
             ],
             [
              0.8888888888888888,
              "#fdca26"
             ],
             [
              1,
              "#f0f921"
             ]
            ],
            "type": "histogram2dcontour"
           }
          ],
          "mesh3d": [
           {
            "colorbar": {
             "outlinewidth": 0,
             "ticks": ""
            },
            "type": "mesh3d"
           }
          ],
          "parcoords": [
           {
            "line": {
             "colorbar": {
              "outlinewidth": 0,
              "ticks": ""
             }
            },
            "type": "parcoords"
           }
          ],
          "pie": [
           {
            "automargin": true,
            "type": "pie"
           }
          ],
          "scatter": [
           {
            "fillpattern": {
             "fillmode": "overlay",
             "size": 10,
             "solidity": 0.2
            },
            "type": "scatter"
           }
          ],
          "scatter3d": [
           {
            "line": {
             "colorbar": {
              "outlinewidth": 0,
              "ticks": ""
             }
            },
            "marker": {
             "colorbar": {
              "outlinewidth": 0,
              "ticks": ""
             }
            },
            "type": "scatter3d"
           }
          ],
          "scattercarpet": [
           {
            "marker": {
             "colorbar": {
              "outlinewidth": 0,
              "ticks": ""
             }
            },
            "type": "scattercarpet"
           }
          ],
          "scattergeo": [
           {
            "marker": {
             "colorbar": {
              "outlinewidth": 0,
              "ticks": ""
             }
            },
            "type": "scattergeo"
           }
          ],
          "scattergl": [
           {
            "marker": {
             "colorbar": {
              "outlinewidth": 0,
              "ticks": ""
             }
            },
            "type": "scattergl"
           }
          ],
          "scattermapbox": [
           {
            "marker": {
             "colorbar": {
              "outlinewidth": 0,
              "ticks": ""
             }
            },
            "type": "scattermapbox"
           }
          ],
          "scatterpolar": [
           {
            "marker": {
             "colorbar": {
              "outlinewidth": 0,
              "ticks": ""
             }
            },
            "type": "scatterpolar"
           }
          ],
          "scatterpolargl": [
           {
            "marker": {
             "colorbar": {
              "outlinewidth": 0,
              "ticks": ""
             }
            },
            "type": "scatterpolargl"
           }
          ],
          "scatterternary": [
           {
            "marker": {
             "colorbar": {
              "outlinewidth": 0,
              "ticks": ""
             }
            },
            "type": "scatterternary"
           }
          ],
          "surface": [
           {
            "colorbar": {
             "outlinewidth": 0,
             "ticks": ""
            },
            "colorscale": [
             [
              0,
              "#0d0887"
             ],
             [
              0.1111111111111111,
              "#46039f"
             ],
             [
              0.2222222222222222,
              "#7201a8"
             ],
             [
              0.3333333333333333,
              "#9c179e"
             ],
             [
              0.4444444444444444,
              "#bd3786"
             ],
             [
              0.5555555555555556,
              "#d8576b"
             ],
             [
              0.6666666666666666,
              "#ed7953"
             ],
             [
              0.7777777777777778,
              "#fb9f3a"
             ],
             [
              0.8888888888888888,
              "#fdca26"
             ],
             [
              1,
              "#f0f921"
             ]
            ],
            "type": "surface"
           }
          ],
          "table": [
           {
            "cells": {
             "fill": {
              "color": "#EBF0F8"
             },
             "line": {
              "color": "white"
             }
            },
            "header": {
             "fill": {
              "color": "#C8D4E3"
             },
             "line": {
              "color": "white"
             }
            },
            "type": "table"
           }
          ]
         },
         "layout": {
          "annotationdefaults": {
           "arrowcolor": "#2a3f5f",
           "arrowhead": 0,
           "arrowwidth": 1
          },
          "autotypenumbers": "strict",
          "coloraxis": {
           "colorbar": {
            "outlinewidth": 0,
            "ticks": ""
           }
          },
          "colorscale": {
           "diverging": [
            [
             0,
             "#8e0152"
            ],
            [
             0.1,
             "#c51b7d"
            ],
            [
             0.2,
             "#de77ae"
            ],
            [
             0.3,
             "#f1b6da"
            ],
            [
             0.4,
             "#fde0ef"
            ],
            [
             0.5,
             "#f7f7f7"
            ],
            [
             0.6,
             "#e6f5d0"
            ],
            [
             0.7,
             "#b8e186"
            ],
            [
             0.8,
             "#7fbc41"
            ],
            [
             0.9,
             "#4d9221"
            ],
            [
             1,
             "#276419"
            ]
           ],
           "sequential": [
            [
             0,
             "#0d0887"
            ],
            [
             0.1111111111111111,
             "#46039f"
            ],
            [
             0.2222222222222222,
             "#7201a8"
            ],
            [
             0.3333333333333333,
             "#9c179e"
            ],
            [
             0.4444444444444444,
             "#bd3786"
            ],
            [
             0.5555555555555556,
             "#d8576b"
            ],
            [
             0.6666666666666666,
             "#ed7953"
            ],
            [
             0.7777777777777778,
             "#fb9f3a"
            ],
            [
             0.8888888888888888,
             "#fdca26"
            ],
            [
             1,
             "#f0f921"
            ]
           ],
           "sequentialminus": [
            [
             0,
             "#0d0887"
            ],
            [
             0.1111111111111111,
             "#46039f"
            ],
            [
             0.2222222222222222,
             "#7201a8"
            ],
            [
             0.3333333333333333,
             "#9c179e"
            ],
            [
             0.4444444444444444,
             "#bd3786"
            ],
            [
             0.5555555555555556,
             "#d8576b"
            ],
            [
             0.6666666666666666,
             "#ed7953"
            ],
            [
             0.7777777777777778,
             "#fb9f3a"
            ],
            [
             0.8888888888888888,
             "#fdca26"
            ],
            [
             1,
             "#f0f921"
            ]
           ]
          },
          "colorway": [
           "#636efa",
           "#EF553B",
           "#00cc96",
           "#ab63fa",
           "#FFA15A",
           "#19d3f3",
           "#FF6692",
           "#B6E880",
           "#FF97FF",
           "#FECB52"
          ],
          "font": {
           "color": "#2a3f5f"
          },
          "geo": {
           "bgcolor": "white",
           "lakecolor": "white",
           "landcolor": "#E5ECF6",
           "showlakes": true,
           "showland": true,
           "subunitcolor": "white"
          },
          "hoverlabel": {
           "align": "left"
          },
          "hovermode": "closest",
          "mapbox": {
           "style": "light"
          },
          "paper_bgcolor": "white",
          "plot_bgcolor": "#E5ECF6",
          "polar": {
           "angularaxis": {
            "gridcolor": "white",
            "linecolor": "white",
            "ticks": ""
           },
           "bgcolor": "#E5ECF6",
           "radialaxis": {
            "gridcolor": "white",
            "linecolor": "white",
            "ticks": ""
           }
          },
          "scene": {
           "xaxis": {
            "backgroundcolor": "#E5ECF6",
            "gridcolor": "white",
            "gridwidth": 2,
            "linecolor": "white",
            "showbackground": true,
            "ticks": "",
            "zerolinecolor": "white"
           },
           "yaxis": {
            "backgroundcolor": "#E5ECF6",
            "gridcolor": "white",
            "gridwidth": 2,
            "linecolor": "white",
            "showbackground": true,
            "ticks": "",
            "zerolinecolor": "white"
           },
           "zaxis": {
            "backgroundcolor": "#E5ECF6",
            "gridcolor": "white",
            "gridwidth": 2,
            "linecolor": "white",
            "showbackground": true,
            "ticks": "",
            "zerolinecolor": "white"
           }
          },
          "shapedefaults": {
           "line": {
            "color": "#2a3f5f"
           }
          },
          "ternary": {
           "aaxis": {
            "gridcolor": "white",
            "linecolor": "white",
            "ticks": ""
           },
           "baxis": {
            "gridcolor": "white",
            "linecolor": "white",
            "ticks": ""
           },
           "bgcolor": "#E5ECF6",
           "caxis": {
            "gridcolor": "white",
            "linecolor": "white",
            "ticks": ""
           }
          },
          "title": {
           "x": 0.05
          },
          "xaxis": {
           "automargin": true,
           "gridcolor": "white",
           "linecolor": "white",
           "ticks": "",
           "title": {
            "standoff": 15
           },
           "zerolinecolor": "white",
           "zerolinewidth": 2
          },
          "yaxis": {
           "automargin": true,
           "gridcolor": "white",
           "linecolor": "white",
           "ticks": "",
           "title": {
            "standoff": 15
           },
           "zerolinecolor": "white",
           "zerolinewidth": 2
          }
         }
        },
        "title": {
         "text": "Population Yearly Growth till each July Month For Male and Female"
        },
        "xaxis": {
         "anchor": "y",
         "domain": [
          0,
          1
         ],
         "title": {
          "text": "Time"
         }
        },
        "yaxis": {
         "anchor": "x",
         "domain": [
          0,
          1
         ],
         "title": {
          "text": "Population"
         }
        }
       }
      },
      "text/html": [
       "<div>                            <div id=\"c6b89f20-cdea-4f28-8dd6-262cc088c7a8\" class=\"plotly-graph-div\" style=\"height:525px; width:100%;\"></div>            <script type=\"text/javascript\">                require([\"plotly\"], function(Plotly) {                    window.PLOTLYENV=window.PLOTLYENV || {};                                    if (document.getElementById(\"c6b89f20-cdea-4f28-8dd6-262cc088c7a8\")) {                    Plotly.newPlot(                        \"c6b89f20-cdea-4f28-8dd6-262cc088c7a8\",                        [{\"hovertemplate\":\"Gender=Male<br>Time=%{x}<br>Population=%{y}<extra></extra>\",\"legendgroup\":\"Male\",\"line\":{\"color\":\"#636efa\",\"dash\":\"solid\"},\"marker\":{\"symbol\":\"circle\"},\"mode\":\"lines\",\"name\":\"Male\",\"orientation\":\"v\",\"showlegend\":true,\"x\":[1950,1951,1952,1953,1954,1955,1956,1957,1958,1959,1960,1961,1962,1963,1964,1965,1966,1967,1968,1969,1970,1971,1972,1973,1974,1975,1976,1977,1978,1979,1980,1981,1982,1983,1984,1985,1986,1987,1988,1989,1990,1991,1992,1993,1994,1995,1996,1997,1998,1999,2000,2001,2002,2003,2004,2005,2006,2007,2008,2009,2010,2011,2012,2013,2014,2015,2016,2017,2018,2019,2020,2021,2022,2023],\"xaxis\":\"x\",\"y\":[10989914.747,11191416.844,11409556.268000001,11640492.05,11880376.848,12131374.458,12386216.911,12650243.867,12921257.217,13173695.862,13401663.991,13630603.747,13902873.049999999,14226036.444,14560422.334,14887323.97,15211537.171,15535288.693,15870968.336000001,16219407.979,16571809.216,16923422.387,17276522.151,17636482.167,17996312.785,18349598.786,18698272.015,19048189.924,19401042.852,19762847.654,20138530.899,20526629.845,20926423.355,21327777.234,21729533.269,22140543.138,22565009.705000002,23003868.701,23444640.399,23886738.615,24334149.098,24770552.991,25189558.888,25599379.738,26002474.022,26402434.008,26800615.991,27197192.132,27591920.081,27985129.445,28382318.096,28782172.718,29180059.438,29576791.831,29974676.975,30375128.3,30779704.993,31189815.917,31604655.987999998,32024464.173,32447169.345,32871741.05,33302215.319000002,33734769.47,34165578.903,34592178.898,35012341.67,35427550.923,35831704.226,36221444.653,36585219.622,36912063.043,37226239.041,37563513.009],\"yaxis\":\"y\",\"type\":\"scatter\"},{\"hovertemplate\":\"Gender=Female<br>Time=%{x}<br>Population=%{y}<extra></extra>\",\"legendgroup\":\"Female\",\"line\":{\"color\":\"#EF553B\",\"dash\":\"solid\"},\"marker\":{\"symbol\":\"circle\"},\"mode\":\"lines\",\"name\":\"Female\",\"orientation\":\"v\",\"showlegend\":true,\"x\":[1950,1951,1952,1953,1954,1955,1956,1957,1958,1959,1960,1961,1962,1963,1964,1965,1966,1967,1968,1969,1970,1971,1972,1973,1974,1975,1976,1977,1978,1979,1980,1981,1982,1983,1984,1985,1986,1987,1988,1989,1990,1991,1992,1993,1994,1995,1996,1997,1998,1999,2000,2001,2002,2003,2004,2005,2006,2007,2008,2009,2010,2011,2012,2013,2014,2015,2016,2017,2018,2019,2020,2021,2022,2023],\"xaxis\":\"x\",\"y\":[10991838.048,11190824.401,11403764.28,11629620.205,11861945.278,12105448.491,12353859.138,12611707.255,12874315.257,13120159.902,13345990.101,13573268.484,13841188.989,14156794.141,14483167.274,14804182.524,15124388.373,15444274.76,15774576.771,16115619.098,16460175.501,16804565.053,17147799.248,17494990.598,17842330.994,18185433.775,18527439.069000002,18871147.138,19218017.749,19575266.019,19942746.718,20320594.905,20713999.462,21111875.862,21511036.908,21919461.358,22337052.329,22764125.488,23193142.6,23621838.085,24054296.117,24475864.680999998,24882251.938,25282425.391,25675658.104,26066070.235,26455030.31,26840081.618,27222481.861,27603851.946,27987813.179,28376165.577999998,28765286.84,29153583.845,29543391.318,29935283.438,30329432.703,30727459.682,31131159.885,31542183.048,31958191.591000002,32375615.225,32797216.263,33221475.702999998,33644172.121,34062880.702,34480068.715,34896890.785,35304278.994,35700822.14,36079717.941,36427381.434,36759576.698,37109874.356],\"yaxis\":\"y\",\"type\":\"scatter\"}],                        {\"template\":{\"data\":{\"histogram2dcontour\":[{\"type\":\"histogram2dcontour\",\"colorbar\":{\"outlinewidth\":0,\"ticks\":\"\"},\"colorscale\":[[0.0,\"#0d0887\"],[0.1111111111111111,\"#46039f\"],[0.2222222222222222,\"#7201a8\"],[0.3333333333333333,\"#9c179e\"],[0.4444444444444444,\"#bd3786\"],[0.5555555555555556,\"#d8576b\"],[0.6666666666666666,\"#ed7953\"],[0.7777777777777778,\"#fb9f3a\"],[0.8888888888888888,\"#fdca26\"],[1.0,\"#f0f921\"]]}],\"choropleth\":[{\"type\":\"choropleth\",\"colorbar\":{\"outlinewidth\":0,\"ticks\":\"\"}}],\"histogram2d\":[{\"type\":\"histogram2d\",\"colorbar\":{\"outlinewidth\":0,\"ticks\":\"\"},\"colorscale\":[[0.0,\"#0d0887\"],[0.1111111111111111,\"#46039f\"],[0.2222222222222222,\"#7201a8\"],[0.3333333333333333,\"#9c179e\"],[0.4444444444444444,\"#bd3786\"],[0.5555555555555556,\"#d8576b\"],[0.6666666666666666,\"#ed7953\"],[0.7777777777777778,\"#fb9f3a\"],[0.8888888888888888,\"#fdca26\"],[1.0,\"#f0f921\"]]}],\"heatmap\":[{\"type\":\"heatmap\",\"colorbar\":{\"outlinewidth\":0,\"ticks\":\"\"},\"colorscale\":[[0.0,\"#0d0887\"],[0.1111111111111111,\"#46039f\"],[0.2222222222222222,\"#7201a8\"],[0.3333333333333333,\"#9c179e\"],[0.4444444444444444,\"#bd3786\"],[0.5555555555555556,\"#d8576b\"],[0.6666666666666666,\"#ed7953\"],[0.7777777777777778,\"#fb9f3a\"],[0.8888888888888888,\"#fdca26\"],[1.0,\"#f0f921\"]]}],\"heatmapgl\":[{\"type\":\"heatmapgl\",\"colorbar\":{\"outlinewidth\":0,\"ticks\":\"\"},\"colorscale\":[[0.0,\"#0d0887\"],[0.1111111111111111,\"#46039f\"],[0.2222222222222222,\"#7201a8\"],[0.3333333333333333,\"#9c179e\"],[0.4444444444444444,\"#bd3786\"],[0.5555555555555556,\"#d8576b\"],[0.6666666666666666,\"#ed7953\"],[0.7777777777777778,\"#fb9f3a\"],[0.8888888888888888,\"#fdca26\"],[1.0,\"#f0f921\"]]}],\"contourcarpet\":[{\"type\":\"contourcarpet\",\"colorbar\":{\"outlinewidth\":0,\"ticks\":\"\"}}],\"contour\":[{\"type\":\"contour\",\"colorbar\":{\"outlinewidth\":0,\"ticks\":\"\"},\"colorscale\":[[0.0,\"#0d0887\"],[0.1111111111111111,\"#46039f\"],[0.2222222222222222,\"#7201a8\"],[0.3333333333333333,\"#9c179e\"],[0.4444444444444444,\"#bd3786\"],[0.5555555555555556,\"#d8576b\"],[0.6666666666666666,\"#ed7953\"],[0.7777777777777778,\"#fb9f3a\"],[0.8888888888888888,\"#fdca26\"],[1.0,\"#f0f921\"]]}],\"surface\":[{\"type\":\"surface\",\"colorbar\":{\"outlinewidth\":0,\"ticks\":\"\"},\"colorscale\":[[0.0,\"#0d0887\"],[0.1111111111111111,\"#46039f\"],[0.2222222222222222,\"#7201a8\"],[0.3333333333333333,\"#9c179e\"],[0.4444444444444444,\"#bd3786\"],[0.5555555555555556,\"#d8576b\"],[0.6666666666666666,\"#ed7953\"],[0.7777777777777778,\"#fb9f3a\"],[0.8888888888888888,\"#fdca26\"],[1.0,\"#f0f921\"]]}],\"mesh3d\":[{\"type\":\"mesh3d\",\"colorbar\":{\"outlinewidth\":0,\"ticks\":\"\"}}],\"scatter\":[{\"fillpattern\":{\"fillmode\":\"overlay\",\"size\":10,\"solidity\":0.2},\"type\":\"scatter\"}],\"parcoords\":[{\"type\":\"parcoords\",\"line\":{\"colorbar\":{\"outlinewidth\":0,\"ticks\":\"\"}}}],\"scatterpolargl\":[{\"type\":\"scatterpolargl\",\"marker\":{\"colorbar\":{\"outlinewidth\":0,\"ticks\":\"\"}}}],\"bar\":[{\"error_x\":{\"color\":\"#2a3f5f\"},\"error_y\":{\"color\":\"#2a3f5f\"},\"marker\":{\"line\":{\"color\":\"#E5ECF6\",\"width\":0.5},\"pattern\":{\"fillmode\":\"overlay\",\"size\":10,\"solidity\":0.2}},\"type\":\"bar\"}],\"scattergeo\":[{\"type\":\"scattergeo\",\"marker\":{\"colorbar\":{\"outlinewidth\":0,\"ticks\":\"\"}}}],\"scatterpolar\":[{\"type\":\"scatterpolar\",\"marker\":{\"colorbar\":{\"outlinewidth\":0,\"ticks\":\"\"}}}],\"histogram\":[{\"marker\":{\"pattern\":{\"fillmode\":\"overlay\",\"size\":10,\"solidity\":0.2}},\"type\":\"histogram\"}],\"scattergl\":[{\"type\":\"scattergl\",\"marker\":{\"colorbar\":{\"outlinewidth\":0,\"ticks\":\"\"}}}],\"scatter3d\":[{\"type\":\"scatter3d\",\"line\":{\"colorbar\":{\"outlinewidth\":0,\"ticks\":\"\"}},\"marker\":{\"colorbar\":{\"outlinewidth\":0,\"ticks\":\"\"}}}],\"scattermapbox\":[{\"type\":\"scattermapbox\",\"marker\":{\"colorbar\":{\"outlinewidth\":0,\"ticks\":\"\"}}}],\"scatterternary\":[{\"type\":\"scatterternary\",\"marker\":{\"colorbar\":{\"outlinewidth\":0,\"ticks\":\"\"}}}],\"scattercarpet\":[{\"type\":\"scattercarpet\",\"marker\":{\"colorbar\":{\"outlinewidth\":0,\"ticks\":\"\"}}}],\"carpet\":[{\"aaxis\":{\"endlinecolor\":\"#2a3f5f\",\"gridcolor\":\"white\",\"linecolor\":\"white\",\"minorgridcolor\":\"white\",\"startlinecolor\":\"#2a3f5f\"},\"baxis\":{\"endlinecolor\":\"#2a3f5f\",\"gridcolor\":\"white\",\"linecolor\":\"white\",\"minorgridcolor\":\"white\",\"startlinecolor\":\"#2a3f5f\"},\"type\":\"carpet\"}],\"table\":[{\"cells\":{\"fill\":{\"color\":\"#EBF0F8\"},\"line\":{\"color\":\"white\"}},\"header\":{\"fill\":{\"color\":\"#C8D4E3\"},\"line\":{\"color\":\"white\"}},\"type\":\"table\"}],\"barpolar\":[{\"marker\":{\"line\":{\"color\":\"#E5ECF6\",\"width\":0.5},\"pattern\":{\"fillmode\":\"overlay\",\"size\":10,\"solidity\":0.2}},\"type\":\"barpolar\"}],\"pie\":[{\"automargin\":true,\"type\":\"pie\"}]},\"layout\":{\"autotypenumbers\":\"strict\",\"colorway\":[\"#636efa\",\"#EF553B\",\"#00cc96\",\"#ab63fa\",\"#FFA15A\",\"#19d3f3\",\"#FF6692\",\"#B6E880\",\"#FF97FF\",\"#FECB52\"],\"font\":{\"color\":\"#2a3f5f\"},\"hovermode\":\"closest\",\"hoverlabel\":{\"align\":\"left\"},\"paper_bgcolor\":\"white\",\"plot_bgcolor\":\"#E5ECF6\",\"polar\":{\"bgcolor\":\"#E5ECF6\",\"angularaxis\":{\"gridcolor\":\"white\",\"linecolor\":\"white\",\"ticks\":\"\"},\"radialaxis\":{\"gridcolor\":\"white\",\"linecolor\":\"white\",\"ticks\":\"\"}},\"ternary\":{\"bgcolor\":\"#E5ECF6\",\"aaxis\":{\"gridcolor\":\"white\",\"linecolor\":\"white\",\"ticks\":\"\"},\"baxis\":{\"gridcolor\":\"white\",\"linecolor\":\"white\",\"ticks\":\"\"},\"caxis\":{\"gridcolor\":\"white\",\"linecolor\":\"white\",\"ticks\":\"\"}},\"coloraxis\":{\"colorbar\":{\"outlinewidth\":0,\"ticks\":\"\"}},\"colorscale\":{\"sequential\":[[0.0,\"#0d0887\"],[0.1111111111111111,\"#46039f\"],[0.2222222222222222,\"#7201a8\"],[0.3333333333333333,\"#9c179e\"],[0.4444444444444444,\"#bd3786\"],[0.5555555555555556,\"#d8576b\"],[0.6666666666666666,\"#ed7953\"],[0.7777777777777778,\"#fb9f3a\"],[0.8888888888888888,\"#fdca26\"],[1.0,\"#f0f921\"]],\"sequentialminus\":[[0.0,\"#0d0887\"],[0.1111111111111111,\"#46039f\"],[0.2222222222222222,\"#7201a8\"],[0.3333333333333333,\"#9c179e\"],[0.4444444444444444,\"#bd3786\"],[0.5555555555555556,\"#d8576b\"],[0.6666666666666666,\"#ed7953\"],[0.7777777777777778,\"#fb9f3a\"],[0.8888888888888888,\"#fdca26\"],[1.0,\"#f0f921\"]],\"diverging\":[[0,\"#8e0152\"],[0.1,\"#c51b7d\"],[0.2,\"#de77ae\"],[0.3,\"#f1b6da\"],[0.4,\"#fde0ef\"],[0.5,\"#f7f7f7\"],[0.6,\"#e6f5d0\"],[0.7,\"#b8e186\"],[0.8,\"#7fbc41\"],[0.9,\"#4d9221\"],[1,\"#276419\"]]},\"xaxis\":{\"gridcolor\":\"white\",\"linecolor\":\"white\",\"ticks\":\"\",\"title\":{\"standoff\":15},\"zerolinecolor\":\"white\",\"automargin\":true,\"zerolinewidth\":2},\"yaxis\":{\"gridcolor\":\"white\",\"linecolor\":\"white\",\"ticks\":\"\",\"title\":{\"standoff\":15},\"zerolinecolor\":\"white\",\"automargin\":true,\"zerolinewidth\":2},\"scene\":{\"xaxis\":{\"backgroundcolor\":\"#E5ECF6\",\"gridcolor\":\"white\",\"linecolor\":\"white\",\"showbackground\":true,\"ticks\":\"\",\"zerolinecolor\":\"white\",\"gridwidth\":2},\"yaxis\":{\"backgroundcolor\":\"#E5ECF6\",\"gridcolor\":\"white\",\"linecolor\":\"white\",\"showbackground\":true,\"ticks\":\"\",\"zerolinecolor\":\"white\",\"gridwidth\":2},\"zaxis\":{\"backgroundcolor\":\"#E5ECF6\",\"gridcolor\":\"white\",\"linecolor\":\"white\",\"showbackground\":true,\"ticks\":\"\",\"zerolinecolor\":\"white\",\"gridwidth\":2}},\"shapedefaults\":{\"line\":{\"color\":\"#2a3f5f\"}},\"annotationdefaults\":{\"arrowcolor\":\"#2a3f5f\",\"arrowhead\":0,\"arrowwidth\":1},\"geo\":{\"bgcolor\":\"white\",\"landcolor\":\"#E5ECF6\",\"subunitcolor\":\"white\",\"showland\":true,\"showlakes\":true,\"lakecolor\":\"white\"},\"title\":{\"x\":0.05},\"mapbox\":{\"style\":\"light\"}}},\"xaxis\":{\"anchor\":\"y\",\"domain\":[0.0,1.0],\"title\":{\"text\":\"Time\"}},\"yaxis\":{\"anchor\":\"x\",\"domain\":[0.0,1.0],\"title\":{\"text\":\"Population\"}},\"legend\":{\"title\":{\"text\":\"Gender\"},\"tracegroupgap\":0},\"title\":{\"text\":\"Population Yearly Growth till each July Month For Male and Female\"}},                        {\"responsive\": true}                    ).then(function(){\n",
       "                            \n",
       "var gd = document.getElementById('c6b89f20-cdea-4f28-8dd6-262cc088c7a8');\n",
       "var x = new MutationObserver(function (mutations, observer) {{\n",
       "        var display = window.getComputedStyle(gd).display;\n",
       "        if (!display || display === 'none') {{\n",
       "            console.log([gd, 'removed!']);\n",
       "            Plotly.purge(gd);\n",
       "            observer.disconnect();\n",
       "        }}\n",
       "}});\n",
       "\n",
       "// Listen for the removal of the full notebook cells\n",
       "var notebookContainer = gd.closest('#notebook-container');\n",
       "if (notebookContainer) {{\n",
       "    x.observe(notebookContainer, {childList: true});\n",
       "}}\n",
       "\n",
       "// Listen for the clearing of the current output cell\n",
       "var outputEl = gd.closest('.output');\n",
       "if (outputEl) {{\n",
       "    x.observe(outputEl, {childList: true});\n",
       "}}\n",
       "\n",
       "                        })                };                });            </script>        </div>"
      ]
     },
     "metadata": {},
     "output_type": "display_data"
    }
   ],
   "source": [
    "# Total Population Trends Over Time(Male and Female)\n",
    "\n",
    "# Grouping by Time and summing up the total population till july for each year for male\n",
    "population_trends_male_jul = new_data.groupby('Time')['TPopulationMale1July'].sum().reset_index()\n",
    "#adding gender name column\n",
    "population_trends_male_jul[\"Gender\"]=\"Male\"\n",
    "# Grouping by Time and summing up the total population till july for each year for female\n",
    "population_trends_female_jul = new_data.groupby('Time')['TPopulationFemale1July'].sum().reset_index()\n",
    "#adding gender name column\n",
    "population_trends_female_jul[\"Gender\"]=\"Female\"\n",
    "\n",
    "#Renaming columns\n",
    "population_trends_male_jul=population_trends_male_jul.rename(columns={\"TPopulationMale1July\":\"Population\"})\n",
    "#Renaming columns\n",
    "population_trends_female_jul=population_trends_female_jul.rename(columns={\"TPopulationFemale1July\":\"Population\"})\n",
    "\n",
    "population_trends_jul=pd.concat([population_trends_male_jul,population_trends_female_jul])\n",
    "\n",
    "#drawing plot based on years\n",
    "px.line(population_trends_jul, x=\"Time\", y=\"Population\",color=\"Gender\",title=\"Population Yearly Growth till each July Month For Male and Female\")"
   ]
  },
  {
   "cell_type": "code",
   "execution_count": 27,
   "metadata": {},
   "outputs": [
    {
     "data": {
      "application/vnd.plotly.v1+json": {
       "config": {
        "plotlyServerURL": "https://plot.ly"
       },
       "data": [
        {
         "alignmentgroup": "True",
         "hovertemplate": "PopDensity=%{x}<br>Location=%{y}<extra></extra>",
         "legendgroup": "",
         "marker": {
          "color": "#636efa",
          "pattern": {
           "shape": ""
          }
         },
         "name": "",
         "offsetgroup": "",
         "orientation": "h",
         "showlegend": false,
         "textposition": "auto",
         "texttemplate": "%{x}",
         "type": "bar",
         "x": [
          0.138,
          0.3115,
          2.2077,
          2.2133,
          3.1631,
          3.4416,
          3.7441,
          3.7975,
          3.9847,
          3.9951
         ],
         "xaxis": "x",
         "y": [
          "Greenland",
          "Falkland Islands (Malvinas)",
          "Western Sahara",
          "Mongolia",
          "Namibia",
          "Australia",
          "Iceland",
          "French Guiana",
          "Australia/New Zealand",
          "Suriname"
         ],
         "yaxis": "y"
        }
       ],
       "layout": {
        "barmode": "relative",
        "legend": {
         "tracegroupgap": 0
        },
        "template": {
         "data": {
          "bar": [
           {
            "error_x": {
             "color": "#2a3f5f"
            },
            "error_y": {
             "color": "#2a3f5f"
            },
            "marker": {
             "line": {
              "color": "#E5ECF6",
              "width": 0.5
             },
             "pattern": {
              "fillmode": "overlay",
              "size": 10,
              "solidity": 0.2
             }
            },
            "type": "bar"
           }
          ],
          "barpolar": [
           {
            "marker": {
             "line": {
              "color": "#E5ECF6",
              "width": 0.5
             },
             "pattern": {
              "fillmode": "overlay",
              "size": 10,
              "solidity": 0.2
             }
            },
            "type": "barpolar"
           }
          ],
          "carpet": [
           {
            "aaxis": {
             "endlinecolor": "#2a3f5f",
             "gridcolor": "white",
             "linecolor": "white",
             "minorgridcolor": "white",
             "startlinecolor": "#2a3f5f"
            },
            "baxis": {
             "endlinecolor": "#2a3f5f",
             "gridcolor": "white",
             "linecolor": "white",
             "minorgridcolor": "white",
             "startlinecolor": "#2a3f5f"
            },
            "type": "carpet"
           }
          ],
          "choropleth": [
           {
            "colorbar": {
             "outlinewidth": 0,
             "ticks": ""
            },
            "type": "choropleth"
           }
          ],
          "contour": [
           {
            "colorbar": {
             "outlinewidth": 0,
             "ticks": ""
            },
            "colorscale": [
             [
              0,
              "#0d0887"
             ],
             [
              0.1111111111111111,
              "#46039f"
             ],
             [
              0.2222222222222222,
              "#7201a8"
             ],
             [
              0.3333333333333333,
              "#9c179e"
             ],
             [
              0.4444444444444444,
              "#bd3786"
             ],
             [
              0.5555555555555556,
              "#d8576b"
             ],
             [
              0.6666666666666666,
              "#ed7953"
             ],
             [
              0.7777777777777778,
              "#fb9f3a"
             ],
             [
              0.8888888888888888,
              "#fdca26"
             ],
             [
              1,
              "#f0f921"
             ]
            ],
            "type": "contour"
           }
          ],
          "contourcarpet": [
           {
            "colorbar": {
             "outlinewidth": 0,
             "ticks": ""
            },
            "type": "contourcarpet"
           }
          ],
          "heatmap": [
           {
            "colorbar": {
             "outlinewidth": 0,
             "ticks": ""
            },
            "colorscale": [
             [
              0,
              "#0d0887"
             ],
             [
              0.1111111111111111,
              "#46039f"
             ],
             [
              0.2222222222222222,
              "#7201a8"
             ],
             [
              0.3333333333333333,
              "#9c179e"
             ],
             [
              0.4444444444444444,
              "#bd3786"
             ],
             [
              0.5555555555555556,
              "#d8576b"
             ],
             [
              0.6666666666666666,
              "#ed7953"
             ],
             [
              0.7777777777777778,
              "#fb9f3a"
             ],
             [
              0.8888888888888888,
              "#fdca26"
             ],
             [
              1,
              "#f0f921"
             ]
            ],
            "type": "heatmap"
           }
          ],
          "heatmapgl": [
           {
            "colorbar": {
             "outlinewidth": 0,
             "ticks": ""
            },
            "colorscale": [
             [
              0,
              "#0d0887"
             ],
             [
              0.1111111111111111,
              "#46039f"
             ],
             [
              0.2222222222222222,
              "#7201a8"
             ],
             [
              0.3333333333333333,
              "#9c179e"
             ],
             [
              0.4444444444444444,
              "#bd3786"
             ],
             [
              0.5555555555555556,
              "#d8576b"
             ],
             [
              0.6666666666666666,
              "#ed7953"
             ],
             [
              0.7777777777777778,
              "#fb9f3a"
             ],
             [
              0.8888888888888888,
              "#fdca26"
             ],
             [
              1,
              "#f0f921"
             ]
            ],
            "type": "heatmapgl"
           }
          ],
          "histogram": [
           {
            "marker": {
             "pattern": {
              "fillmode": "overlay",
              "size": 10,
              "solidity": 0.2
             }
            },
            "type": "histogram"
           }
          ],
          "histogram2d": [
           {
            "colorbar": {
             "outlinewidth": 0,
             "ticks": ""
            },
            "colorscale": [
             [
              0,
              "#0d0887"
             ],
             [
              0.1111111111111111,
              "#46039f"
             ],
             [
              0.2222222222222222,
              "#7201a8"
             ],
             [
              0.3333333333333333,
              "#9c179e"
             ],
             [
              0.4444444444444444,
              "#bd3786"
             ],
             [
              0.5555555555555556,
              "#d8576b"
             ],
             [
              0.6666666666666666,
              "#ed7953"
             ],
             [
              0.7777777777777778,
              "#fb9f3a"
             ],
             [
              0.8888888888888888,
              "#fdca26"
             ],
             [
              1,
              "#f0f921"
             ]
            ],
            "type": "histogram2d"
           }
          ],
          "histogram2dcontour": [
           {
            "colorbar": {
             "outlinewidth": 0,
             "ticks": ""
            },
            "colorscale": [
             [
              0,
              "#0d0887"
             ],
             [
              0.1111111111111111,
              "#46039f"
             ],
             [
              0.2222222222222222,
              "#7201a8"
             ],
             [
              0.3333333333333333,
              "#9c179e"
             ],
             [
              0.4444444444444444,
              "#bd3786"
             ],
             [
              0.5555555555555556,
              "#d8576b"
             ],
             [
              0.6666666666666666,
              "#ed7953"
             ],
             [
              0.7777777777777778,
              "#fb9f3a"
             ],
             [
              0.8888888888888888,
              "#fdca26"
             ],
             [
              1,
              "#f0f921"
             ]
            ],
            "type": "histogram2dcontour"
           }
          ],
          "mesh3d": [
           {
            "colorbar": {
             "outlinewidth": 0,
             "ticks": ""
            },
            "type": "mesh3d"
           }
          ],
          "parcoords": [
           {
            "line": {
             "colorbar": {
              "outlinewidth": 0,
              "ticks": ""
             }
            },
            "type": "parcoords"
           }
          ],
          "pie": [
           {
            "automargin": true,
            "type": "pie"
           }
          ],
          "scatter": [
           {
            "fillpattern": {
             "fillmode": "overlay",
             "size": 10,
             "solidity": 0.2
            },
            "type": "scatter"
           }
          ],
          "scatter3d": [
           {
            "line": {
             "colorbar": {
              "outlinewidth": 0,
              "ticks": ""
             }
            },
            "marker": {
             "colorbar": {
              "outlinewidth": 0,
              "ticks": ""
             }
            },
            "type": "scatter3d"
           }
          ],
          "scattercarpet": [
           {
            "marker": {
             "colorbar": {
              "outlinewidth": 0,
              "ticks": ""
             }
            },
            "type": "scattercarpet"
           }
          ],
          "scattergeo": [
           {
            "marker": {
             "colorbar": {
              "outlinewidth": 0,
              "ticks": ""
             }
            },
            "type": "scattergeo"
           }
          ],
          "scattergl": [
           {
            "marker": {
             "colorbar": {
              "outlinewidth": 0,
              "ticks": ""
             }
            },
            "type": "scattergl"
           }
          ],
          "scattermapbox": [
           {
            "marker": {
             "colorbar": {
              "outlinewidth": 0,
              "ticks": ""
             }
            },
            "type": "scattermapbox"
           }
          ],
          "scatterpolar": [
           {
            "marker": {
             "colorbar": {
              "outlinewidth": 0,
              "ticks": ""
             }
            },
            "type": "scatterpolar"
           }
          ],
          "scatterpolargl": [
           {
            "marker": {
             "colorbar": {
              "outlinewidth": 0,
              "ticks": ""
             }
            },
            "type": "scatterpolargl"
           }
          ],
          "scatterternary": [
           {
            "marker": {
             "colorbar": {
              "outlinewidth": 0,
              "ticks": ""
             }
            },
            "type": "scatterternary"
           }
          ],
          "surface": [
           {
            "colorbar": {
             "outlinewidth": 0,
             "ticks": ""
            },
            "colorscale": [
             [
              0,
              "#0d0887"
             ],
             [
              0.1111111111111111,
              "#46039f"
             ],
             [
              0.2222222222222222,
              "#7201a8"
             ],
             [
              0.3333333333333333,
              "#9c179e"
             ],
             [
              0.4444444444444444,
              "#bd3786"
             ],
             [
              0.5555555555555556,
              "#d8576b"
             ],
             [
              0.6666666666666666,
              "#ed7953"
             ],
             [
              0.7777777777777778,
              "#fb9f3a"
             ],
             [
              0.8888888888888888,
              "#fdca26"
             ],
             [
              1,
              "#f0f921"
             ]
            ],
            "type": "surface"
           }
          ],
          "table": [
           {
            "cells": {
             "fill": {
              "color": "#EBF0F8"
             },
             "line": {
              "color": "white"
             }
            },
            "header": {
             "fill": {
              "color": "#C8D4E3"
             },
             "line": {
              "color": "white"
             }
            },
            "type": "table"
           }
          ]
         },
         "layout": {
          "annotationdefaults": {
           "arrowcolor": "#2a3f5f",
           "arrowhead": 0,
           "arrowwidth": 1
          },
          "autotypenumbers": "strict",
          "coloraxis": {
           "colorbar": {
            "outlinewidth": 0,
            "ticks": ""
           }
          },
          "colorscale": {
           "diverging": [
            [
             0,
             "#8e0152"
            ],
            [
             0.1,
             "#c51b7d"
            ],
            [
             0.2,
             "#de77ae"
            ],
            [
             0.3,
             "#f1b6da"
            ],
            [
             0.4,
             "#fde0ef"
            ],
            [
             0.5,
             "#f7f7f7"
            ],
            [
             0.6,
             "#e6f5d0"
            ],
            [
             0.7,
             "#b8e186"
            ],
            [
             0.8,
             "#7fbc41"
            ],
            [
             0.9,
             "#4d9221"
            ],
            [
             1,
             "#276419"
            ]
           ],
           "sequential": [
            [
             0,
             "#0d0887"
            ],
            [
             0.1111111111111111,
             "#46039f"
            ],
            [
             0.2222222222222222,
             "#7201a8"
            ],
            [
             0.3333333333333333,
             "#9c179e"
            ],
            [
             0.4444444444444444,
             "#bd3786"
            ],
            [
             0.5555555555555556,
             "#d8576b"
            ],
            [
             0.6666666666666666,
             "#ed7953"
            ],
            [
             0.7777777777777778,
             "#fb9f3a"
            ],
            [
             0.8888888888888888,
             "#fdca26"
            ],
            [
             1,
             "#f0f921"
            ]
           ],
           "sequentialminus": [
            [
             0,
             "#0d0887"
            ],
            [
             0.1111111111111111,
             "#46039f"
            ],
            [
             0.2222222222222222,
             "#7201a8"
            ],
            [
             0.3333333333333333,
             "#9c179e"
            ],
            [
             0.4444444444444444,
             "#bd3786"
            ],
            [
             0.5555555555555556,
             "#d8576b"
            ],
            [
             0.6666666666666666,
             "#ed7953"
            ],
            [
             0.7777777777777778,
             "#fb9f3a"
            ],
            [
             0.8888888888888888,
             "#fdca26"
            ],
            [
             1,
             "#f0f921"
            ]
           ]
          },
          "colorway": [
           "#636efa",
           "#EF553B",
           "#00cc96",
           "#ab63fa",
           "#FFA15A",
           "#19d3f3",
           "#FF6692",
           "#B6E880",
           "#FF97FF",
           "#FECB52"
          ],
          "font": {
           "color": "#2a3f5f"
          },
          "geo": {
           "bgcolor": "white",
           "lakecolor": "white",
           "landcolor": "#E5ECF6",
           "showlakes": true,
           "showland": true,
           "subunitcolor": "white"
          },
          "hoverlabel": {
           "align": "left"
          },
          "hovermode": "closest",
          "mapbox": {
           "style": "light"
          },
          "paper_bgcolor": "white",
          "plot_bgcolor": "#E5ECF6",
          "polar": {
           "angularaxis": {
            "gridcolor": "white",
            "linecolor": "white",
            "ticks": ""
           },
           "bgcolor": "#E5ECF6",
           "radialaxis": {
            "gridcolor": "white",
            "linecolor": "white",
            "ticks": ""
           }
          },
          "scene": {
           "xaxis": {
            "backgroundcolor": "#E5ECF6",
            "gridcolor": "white",
            "gridwidth": 2,
            "linecolor": "white",
            "showbackground": true,
            "ticks": "",
            "zerolinecolor": "white"
           },
           "yaxis": {
            "backgroundcolor": "#E5ECF6",
            "gridcolor": "white",
            "gridwidth": 2,
            "linecolor": "white",
            "showbackground": true,
            "ticks": "",
            "zerolinecolor": "white"
           },
           "zaxis": {
            "backgroundcolor": "#E5ECF6",
            "gridcolor": "white",
            "gridwidth": 2,
            "linecolor": "white",
            "showbackground": true,
            "ticks": "",
            "zerolinecolor": "white"
           }
          },
          "shapedefaults": {
           "line": {
            "color": "#2a3f5f"
           }
          },
          "ternary": {
           "aaxis": {
            "gridcolor": "white",
            "linecolor": "white",
            "ticks": ""
           },
           "baxis": {
            "gridcolor": "white",
            "linecolor": "white",
            "ticks": ""
           },
           "bgcolor": "#E5ECF6",
           "caxis": {
            "gridcolor": "white",
            "linecolor": "white",
            "ticks": ""
           }
          },
          "title": {
           "x": 0.05
          },
          "xaxis": {
           "automargin": true,
           "gridcolor": "white",
           "linecolor": "white",
           "ticks": "",
           "title": {
            "standoff": 15
           },
           "zerolinecolor": "white",
           "zerolinewidth": 2
          },
          "yaxis": {
           "automargin": true,
           "gridcolor": "white",
           "linecolor": "white",
           "ticks": "",
           "title": {
            "standoff": 15
           },
           "zerolinecolor": "white",
           "zerolinewidth": 2
          }
         }
        },
        "title": {
         "text": "Top 10 Locations by Population Density in 2023"
        },
        "xaxis": {
         "anchor": "y",
         "domain": [
          0,
          1
         ],
         "title": {
          "text": "PopDensity"
         }
        },
        "yaxis": {
         "anchor": "x",
         "domain": [
          0,
          1
         ],
         "title": {
          "text": "Location"
         }
        }
       }
      },
      "text/html": [
       "<div>                            <div id=\"16b08f76-237a-4a9f-a8d1-c442da44c23b\" class=\"plotly-graph-div\" style=\"height:525px; width:100%;\"></div>            <script type=\"text/javascript\">                require([\"plotly\"], function(Plotly) {                    window.PLOTLYENV=window.PLOTLYENV || {};                                    if (document.getElementById(\"16b08f76-237a-4a9f-a8d1-c442da44c23b\")) {                    Plotly.newPlot(                        \"16b08f76-237a-4a9f-a8d1-c442da44c23b\",                        [{\"alignmentgroup\":\"True\",\"hovertemplate\":\"PopDensity=%{x}<br>Location=%{y}<extra></extra>\",\"legendgroup\":\"\",\"marker\":{\"color\":\"#636efa\",\"pattern\":{\"shape\":\"\"}},\"name\":\"\",\"offsetgroup\":\"\",\"orientation\":\"h\",\"showlegend\":false,\"textposition\":\"auto\",\"texttemplate\":\"%{x}\",\"x\":[0.138,0.3115,2.2077,2.2133,3.1631,3.4416,3.7441,3.7975,3.9847,3.9951],\"xaxis\":\"x\",\"y\":[\"Greenland\",\"Falkland Islands (Malvinas)\",\"Western Sahara\",\"Mongolia\",\"Namibia\",\"Australia\",\"Iceland\",\"French Guiana\",\"Australia/New Zealand\",\"Suriname\"],\"yaxis\":\"y\",\"type\":\"bar\"}],                        {\"template\":{\"data\":{\"histogram2dcontour\":[{\"type\":\"histogram2dcontour\",\"colorbar\":{\"outlinewidth\":0,\"ticks\":\"\"},\"colorscale\":[[0.0,\"#0d0887\"],[0.1111111111111111,\"#46039f\"],[0.2222222222222222,\"#7201a8\"],[0.3333333333333333,\"#9c179e\"],[0.4444444444444444,\"#bd3786\"],[0.5555555555555556,\"#d8576b\"],[0.6666666666666666,\"#ed7953\"],[0.7777777777777778,\"#fb9f3a\"],[0.8888888888888888,\"#fdca26\"],[1.0,\"#f0f921\"]]}],\"choropleth\":[{\"type\":\"choropleth\",\"colorbar\":{\"outlinewidth\":0,\"ticks\":\"\"}}],\"histogram2d\":[{\"type\":\"histogram2d\",\"colorbar\":{\"outlinewidth\":0,\"ticks\":\"\"},\"colorscale\":[[0.0,\"#0d0887\"],[0.1111111111111111,\"#46039f\"],[0.2222222222222222,\"#7201a8\"],[0.3333333333333333,\"#9c179e\"],[0.4444444444444444,\"#bd3786\"],[0.5555555555555556,\"#d8576b\"],[0.6666666666666666,\"#ed7953\"],[0.7777777777777778,\"#fb9f3a\"],[0.8888888888888888,\"#fdca26\"],[1.0,\"#f0f921\"]]}],\"heatmap\":[{\"type\":\"heatmap\",\"colorbar\":{\"outlinewidth\":0,\"ticks\":\"\"},\"colorscale\":[[0.0,\"#0d0887\"],[0.1111111111111111,\"#46039f\"],[0.2222222222222222,\"#7201a8\"],[0.3333333333333333,\"#9c179e\"],[0.4444444444444444,\"#bd3786\"],[0.5555555555555556,\"#d8576b\"],[0.6666666666666666,\"#ed7953\"],[0.7777777777777778,\"#fb9f3a\"],[0.8888888888888888,\"#fdca26\"],[1.0,\"#f0f921\"]]}],\"heatmapgl\":[{\"type\":\"heatmapgl\",\"colorbar\":{\"outlinewidth\":0,\"ticks\":\"\"},\"colorscale\":[[0.0,\"#0d0887\"],[0.1111111111111111,\"#46039f\"],[0.2222222222222222,\"#7201a8\"],[0.3333333333333333,\"#9c179e\"],[0.4444444444444444,\"#bd3786\"],[0.5555555555555556,\"#d8576b\"],[0.6666666666666666,\"#ed7953\"],[0.7777777777777778,\"#fb9f3a\"],[0.8888888888888888,\"#fdca26\"],[1.0,\"#f0f921\"]]}],\"contourcarpet\":[{\"type\":\"contourcarpet\",\"colorbar\":{\"outlinewidth\":0,\"ticks\":\"\"}}],\"contour\":[{\"type\":\"contour\",\"colorbar\":{\"outlinewidth\":0,\"ticks\":\"\"},\"colorscale\":[[0.0,\"#0d0887\"],[0.1111111111111111,\"#46039f\"],[0.2222222222222222,\"#7201a8\"],[0.3333333333333333,\"#9c179e\"],[0.4444444444444444,\"#bd3786\"],[0.5555555555555556,\"#d8576b\"],[0.6666666666666666,\"#ed7953\"],[0.7777777777777778,\"#fb9f3a\"],[0.8888888888888888,\"#fdca26\"],[1.0,\"#f0f921\"]]}],\"surface\":[{\"type\":\"surface\",\"colorbar\":{\"outlinewidth\":0,\"ticks\":\"\"},\"colorscale\":[[0.0,\"#0d0887\"],[0.1111111111111111,\"#46039f\"],[0.2222222222222222,\"#7201a8\"],[0.3333333333333333,\"#9c179e\"],[0.4444444444444444,\"#bd3786\"],[0.5555555555555556,\"#d8576b\"],[0.6666666666666666,\"#ed7953\"],[0.7777777777777778,\"#fb9f3a\"],[0.8888888888888888,\"#fdca26\"],[1.0,\"#f0f921\"]]}],\"mesh3d\":[{\"type\":\"mesh3d\",\"colorbar\":{\"outlinewidth\":0,\"ticks\":\"\"}}],\"scatter\":[{\"fillpattern\":{\"fillmode\":\"overlay\",\"size\":10,\"solidity\":0.2},\"type\":\"scatter\"}],\"parcoords\":[{\"type\":\"parcoords\",\"line\":{\"colorbar\":{\"outlinewidth\":0,\"ticks\":\"\"}}}],\"scatterpolargl\":[{\"type\":\"scatterpolargl\",\"marker\":{\"colorbar\":{\"outlinewidth\":0,\"ticks\":\"\"}}}],\"bar\":[{\"error_x\":{\"color\":\"#2a3f5f\"},\"error_y\":{\"color\":\"#2a3f5f\"},\"marker\":{\"line\":{\"color\":\"#E5ECF6\",\"width\":0.5},\"pattern\":{\"fillmode\":\"overlay\",\"size\":10,\"solidity\":0.2}},\"type\":\"bar\"}],\"scattergeo\":[{\"type\":\"scattergeo\",\"marker\":{\"colorbar\":{\"outlinewidth\":0,\"ticks\":\"\"}}}],\"scatterpolar\":[{\"type\":\"scatterpolar\",\"marker\":{\"colorbar\":{\"outlinewidth\":0,\"ticks\":\"\"}}}],\"histogram\":[{\"marker\":{\"pattern\":{\"fillmode\":\"overlay\",\"size\":10,\"solidity\":0.2}},\"type\":\"histogram\"}],\"scattergl\":[{\"type\":\"scattergl\",\"marker\":{\"colorbar\":{\"outlinewidth\":0,\"ticks\":\"\"}}}],\"scatter3d\":[{\"type\":\"scatter3d\",\"line\":{\"colorbar\":{\"outlinewidth\":0,\"ticks\":\"\"}},\"marker\":{\"colorbar\":{\"outlinewidth\":0,\"ticks\":\"\"}}}],\"scattermapbox\":[{\"type\":\"scattermapbox\",\"marker\":{\"colorbar\":{\"outlinewidth\":0,\"ticks\":\"\"}}}],\"scatterternary\":[{\"type\":\"scatterternary\",\"marker\":{\"colorbar\":{\"outlinewidth\":0,\"ticks\":\"\"}}}],\"scattercarpet\":[{\"type\":\"scattercarpet\",\"marker\":{\"colorbar\":{\"outlinewidth\":0,\"ticks\":\"\"}}}],\"carpet\":[{\"aaxis\":{\"endlinecolor\":\"#2a3f5f\",\"gridcolor\":\"white\",\"linecolor\":\"white\",\"minorgridcolor\":\"white\",\"startlinecolor\":\"#2a3f5f\"},\"baxis\":{\"endlinecolor\":\"#2a3f5f\",\"gridcolor\":\"white\",\"linecolor\":\"white\",\"minorgridcolor\":\"white\",\"startlinecolor\":\"#2a3f5f\"},\"type\":\"carpet\"}],\"table\":[{\"cells\":{\"fill\":{\"color\":\"#EBF0F8\"},\"line\":{\"color\":\"white\"}},\"header\":{\"fill\":{\"color\":\"#C8D4E3\"},\"line\":{\"color\":\"white\"}},\"type\":\"table\"}],\"barpolar\":[{\"marker\":{\"line\":{\"color\":\"#E5ECF6\",\"width\":0.5},\"pattern\":{\"fillmode\":\"overlay\",\"size\":10,\"solidity\":0.2}},\"type\":\"barpolar\"}],\"pie\":[{\"automargin\":true,\"type\":\"pie\"}]},\"layout\":{\"autotypenumbers\":\"strict\",\"colorway\":[\"#636efa\",\"#EF553B\",\"#00cc96\",\"#ab63fa\",\"#FFA15A\",\"#19d3f3\",\"#FF6692\",\"#B6E880\",\"#FF97FF\",\"#FECB52\"],\"font\":{\"color\":\"#2a3f5f\"},\"hovermode\":\"closest\",\"hoverlabel\":{\"align\":\"left\"},\"paper_bgcolor\":\"white\",\"plot_bgcolor\":\"#E5ECF6\",\"polar\":{\"bgcolor\":\"#E5ECF6\",\"angularaxis\":{\"gridcolor\":\"white\",\"linecolor\":\"white\",\"ticks\":\"\"},\"radialaxis\":{\"gridcolor\":\"white\",\"linecolor\":\"white\",\"ticks\":\"\"}},\"ternary\":{\"bgcolor\":\"#E5ECF6\",\"aaxis\":{\"gridcolor\":\"white\",\"linecolor\":\"white\",\"ticks\":\"\"},\"baxis\":{\"gridcolor\":\"white\",\"linecolor\":\"white\",\"ticks\":\"\"},\"caxis\":{\"gridcolor\":\"white\",\"linecolor\":\"white\",\"ticks\":\"\"}},\"coloraxis\":{\"colorbar\":{\"outlinewidth\":0,\"ticks\":\"\"}},\"colorscale\":{\"sequential\":[[0.0,\"#0d0887\"],[0.1111111111111111,\"#46039f\"],[0.2222222222222222,\"#7201a8\"],[0.3333333333333333,\"#9c179e\"],[0.4444444444444444,\"#bd3786\"],[0.5555555555555556,\"#d8576b\"],[0.6666666666666666,\"#ed7953\"],[0.7777777777777778,\"#fb9f3a\"],[0.8888888888888888,\"#fdca26\"],[1.0,\"#f0f921\"]],\"sequentialminus\":[[0.0,\"#0d0887\"],[0.1111111111111111,\"#46039f\"],[0.2222222222222222,\"#7201a8\"],[0.3333333333333333,\"#9c179e\"],[0.4444444444444444,\"#bd3786\"],[0.5555555555555556,\"#d8576b\"],[0.6666666666666666,\"#ed7953\"],[0.7777777777777778,\"#fb9f3a\"],[0.8888888888888888,\"#fdca26\"],[1.0,\"#f0f921\"]],\"diverging\":[[0,\"#8e0152\"],[0.1,\"#c51b7d\"],[0.2,\"#de77ae\"],[0.3,\"#f1b6da\"],[0.4,\"#fde0ef\"],[0.5,\"#f7f7f7\"],[0.6,\"#e6f5d0\"],[0.7,\"#b8e186\"],[0.8,\"#7fbc41\"],[0.9,\"#4d9221\"],[1,\"#276419\"]]},\"xaxis\":{\"gridcolor\":\"white\",\"linecolor\":\"white\",\"ticks\":\"\",\"title\":{\"standoff\":15},\"zerolinecolor\":\"white\",\"automargin\":true,\"zerolinewidth\":2},\"yaxis\":{\"gridcolor\":\"white\",\"linecolor\":\"white\",\"ticks\":\"\",\"title\":{\"standoff\":15},\"zerolinecolor\":\"white\",\"automargin\":true,\"zerolinewidth\":2},\"scene\":{\"xaxis\":{\"backgroundcolor\":\"#E5ECF6\",\"gridcolor\":\"white\",\"linecolor\":\"white\",\"showbackground\":true,\"ticks\":\"\",\"zerolinecolor\":\"white\",\"gridwidth\":2},\"yaxis\":{\"backgroundcolor\":\"#E5ECF6\",\"gridcolor\":\"white\",\"linecolor\":\"white\",\"showbackground\":true,\"ticks\":\"\",\"zerolinecolor\":\"white\",\"gridwidth\":2},\"zaxis\":{\"backgroundcolor\":\"#E5ECF6\",\"gridcolor\":\"white\",\"linecolor\":\"white\",\"showbackground\":true,\"ticks\":\"\",\"zerolinecolor\":\"white\",\"gridwidth\":2}},\"shapedefaults\":{\"line\":{\"color\":\"#2a3f5f\"}},\"annotationdefaults\":{\"arrowcolor\":\"#2a3f5f\",\"arrowhead\":0,\"arrowwidth\":1},\"geo\":{\"bgcolor\":\"white\",\"landcolor\":\"#E5ECF6\",\"subunitcolor\":\"white\",\"showland\":true,\"showlakes\":true,\"lakecolor\":\"white\"},\"title\":{\"x\":0.05},\"mapbox\":{\"style\":\"light\"}}},\"xaxis\":{\"anchor\":\"y\",\"domain\":[0.0,1.0],\"title\":{\"text\":\"PopDensity\"}},\"yaxis\":{\"anchor\":\"x\",\"domain\":[0.0,1.0],\"title\":{\"text\":\"Location\"}},\"legend\":{\"tracegroupgap\":0},\"title\":{\"text\":\"Top 10 Locations by Population Density in 2023\"},\"barmode\":\"relative\"},                        {\"responsive\": true}                    ).then(function(){\n",
       "                            \n",
       "var gd = document.getElementById('16b08f76-237a-4a9f-a8d1-c442da44c23b');\n",
       "var x = new MutationObserver(function (mutations, observer) {{\n",
       "        var display = window.getComputedStyle(gd).display;\n",
       "        if (!display || display === 'none') {{\n",
       "            console.log([gd, 'removed!']);\n",
       "            Plotly.purge(gd);\n",
       "            observer.disconnect();\n",
       "        }}\n",
       "}});\n",
       "\n",
       "// Listen for the removal of the full notebook cells\n",
       "var notebookContainer = gd.closest('#notebook-container');\n",
       "if (notebookContainer) {{\n",
       "    x.observe(notebookContainer, {childList: true});\n",
       "}}\n",
       "\n",
       "// Listen for the clearing of the current output cell\n",
       "var outputEl = gd.closest('.output');\n",
       "if (outputEl) {{\n",
       "    x.observe(outputEl, {childList: true});\n",
       "}}\n",
       "\n",
       "                        })                };                });            </script>        </div>"
      ]
     },
     "metadata": {},
     "output_type": "display_data"
    }
   ],
   "source": [
    "# Population Density across different locations\n",
    "# Filtering data for the most recent year in the dataset\n",
    "latest_year = new_data['Time'].max()\n",
    "latest_data = new_data[new_data['Time'] == latest_year]\n",
    "\n",
    "# Grouping by Location and getting the mean population density\n",
    "location_density = latest_data.groupby('Location')['PopDensity'].mean().reset_index()\n",
    "\n",
    "# Sorting by population density to get the top locations\n",
    "top_locations_density = location_density.sort_values(by='PopDensity', ascending=True).head(10)\n",
    "\n",
    "top_locations_density\n",
    "\n",
    "px.bar(top_locations_density,x='PopDensity',y='Location',text_auto=True,title='Top 10 Locations by Population Density in ' + str(latest_year),orientation='h')"
   ]
  },
  {
   "cell_type": "code",
   "execution_count": 28,
   "metadata": {},
   "outputs": [
    {
     "data": {
      "text/html": [
       "<div>\n",
       "<style scoped>\n",
       "    .dataframe tbody tr th:only-of-type {\n",
       "        vertical-align: middle;\n",
       "    }\n",
       "\n",
       "    .dataframe tbody tr th {\n",
       "        vertical-align: top;\n",
       "    }\n",
       "\n",
       "    .dataframe thead th {\n",
       "        text-align: right;\n",
       "    }\n",
       "</style>\n",
       "<table border=\"1\" class=\"dataframe\">\n",
       "  <thead>\n",
       "    <tr style=\"text-align: right;\">\n",
       "      <th></th>\n",
       "      <th>LocTypeName</th>\n",
       "      <th>Location</th>\n",
       "      <th>Variant</th>\n",
       "      <th>Time</th>\n",
       "      <th>TPopulation1Jan</th>\n",
       "      <th>TPopulation1July</th>\n",
       "      <th>TPopulationMale1July</th>\n",
       "      <th>TPopulationFemale1July</th>\n",
       "      <th>PopDensity</th>\n",
       "      <th>PopSexRatio</th>\n",
       "      <th>...</th>\n",
       "      <th>Q0060Male</th>\n",
       "      <th>Q0060Female</th>\n",
       "      <th>Q1550</th>\n",
       "      <th>Q1550Male</th>\n",
       "      <th>Q1550Female</th>\n",
       "      <th>Q1560</th>\n",
       "      <th>Q1560Male</th>\n",
       "      <th>Q1560Female</th>\n",
       "      <th>NetMigrations</th>\n",
       "      <th>CNMR</th>\n",
       "    </tr>\n",
       "  </thead>\n",
       "  <tbody>\n",
       "    <tr>\n",
       "      <th>0</th>\n",
       "      <td>World</td>\n",
       "      <td>World</td>\n",
       "      <td>Medium</td>\n",
       "      <td>1950</td>\n",
       "      <td>2477674.732</td>\n",
       "      <td>2499322.157</td>\n",
       "      <td>1245362.964</td>\n",
       "      <td>1253959.192</td>\n",
       "      <td>19.1661</td>\n",
       "      <td>99.3145</td>\n",
       "      <td>...</td>\n",
       "      <td>580.7496</td>\n",
       "      <td>498.0396</td>\n",
       "      <td>240.3164</td>\n",
       "      <td>271.6253</td>\n",
       "      <td>208.1916</td>\n",
       "      <td>378.6968</td>\n",
       "      <td>430.2594</td>\n",
       "      <td>324.9308</td>\n",
       "      <td>0.0</td>\n",
       "      <td>0.0</td>\n",
       "    </tr>\n",
       "    <tr>\n",
       "      <th>1</th>\n",
       "      <td>World</td>\n",
       "      <td>World</td>\n",
       "      <td>Medium</td>\n",
       "      <td>1951</td>\n",
       "      <td>2520969.582</td>\n",
       "      <td>2543130.380</td>\n",
       "      <td>1267473.182</td>\n",
       "      <td>1275657.198</td>\n",
       "      <td>19.5020</td>\n",
       "      <td>99.3584</td>\n",
       "      <td>...</td>\n",
       "      <td>566.7283</td>\n",
       "      <td>490.1993</td>\n",
       "      <td>231.1772</td>\n",
       "      <td>258.0905</td>\n",
       "      <td>203.7797</td>\n",
       "      <td>368.3186</td>\n",
       "      <td>415.8362</td>\n",
       "      <td>319.3364</td>\n",
       "      <td>0.0</td>\n",
       "      <td>0.0</td>\n",
       "    </tr>\n",
       "    <tr>\n",
       "      <th>2</th>\n",
       "      <td>World</td>\n",
       "      <td>World</td>\n",
       "      <td>Medium</td>\n",
       "      <td>1952</td>\n",
       "      <td>2565291.179</td>\n",
       "      <td>2590270.898</td>\n",
       "      <td>1291399.982</td>\n",
       "      <td>1298870.917</td>\n",
       "      <td>19.8635</td>\n",
       "      <td>99.4248</td>\n",
       "      <td>...</td>\n",
       "      <td>546.3173</td>\n",
       "      <td>477.2639</td>\n",
       "      <td>218.6745</td>\n",
       "      <td>240.0344</td>\n",
       "      <td>197.1422</td>\n",
       "      <td>353.0546</td>\n",
       "      <td>395.5327</td>\n",
       "      <td>309.9103</td>\n",
       "      <td>0.0</td>\n",
       "      <td>0.0</td>\n",
       "    </tr>\n",
       "    <tr>\n",
       "      <th>3</th>\n",
       "      <td>World</td>\n",
       "      <td>World</td>\n",
       "      <td>Medium</td>\n",
       "      <td>1953</td>\n",
       "      <td>2615250.618</td>\n",
       "      <td>2640278.797</td>\n",
       "      <td>1316659.222</td>\n",
       "      <td>1323619.574</td>\n",
       "      <td>20.2470</td>\n",
       "      <td>99.4741</td>\n",
       "      <td>...</td>\n",
       "      <td>535.8289</td>\n",
       "      <td>469.5325</td>\n",
       "      <td>212.8720</td>\n",
       "      <td>232.6019</td>\n",
       "      <td>193.0492</td>\n",
       "      <td>345.0826</td>\n",
       "      <td>385.8433</td>\n",
       "      <td>303.9053</td>\n",
       "      <td>0.0</td>\n",
       "      <td>0.0</td>\n",
       "    </tr>\n",
       "    <tr>\n",
       "      <th>4</th>\n",
       "      <td>World</td>\n",
       "      <td>World</td>\n",
       "      <td>Medium</td>\n",
       "      <td>1954</td>\n",
       "      <td>2665306.975</td>\n",
       "      <td>2691979.339</td>\n",
       "      <td>1342923.171</td>\n",
       "      <td>1349056.168</td>\n",
       "      <td>20.6435</td>\n",
       "      <td>99.5454</td>\n",
       "      <td>...</td>\n",
       "      <td>523.1236</td>\n",
       "      <td>458.4842</td>\n",
       "      <td>205.7622</td>\n",
       "      <td>224.0498</td>\n",
       "      <td>187.4439</td>\n",
       "      <td>335.4420</td>\n",
       "      <td>374.6576</td>\n",
       "      <td>295.9944</td>\n",
       "      <td>0.0</td>\n",
       "      <td>0.0</td>\n",
       "    </tr>\n",
       "  </tbody>\n",
       "</table>\n",
       "<p>5 rows × 58 columns</p>\n",
       "</div>"
      ],
      "text/plain": [
       "  LocTypeName Location Variant  Time  TPopulation1Jan  TPopulation1July  \\\n",
       "0       World    World  Medium  1950      2477674.732       2499322.157   \n",
       "1       World    World  Medium  1951      2520969.582       2543130.380   \n",
       "2       World    World  Medium  1952      2565291.179       2590270.898   \n",
       "3       World    World  Medium  1953      2615250.618       2640278.797   \n",
       "4       World    World  Medium  1954      2665306.975       2691979.339   \n",
       "\n",
       "   TPopulationMale1July  TPopulationFemale1July  PopDensity  PopSexRatio  ...  \\\n",
       "0           1245362.964             1253959.192     19.1661      99.3145  ...   \n",
       "1           1267473.182             1275657.198     19.5020      99.3584  ...   \n",
       "2           1291399.982             1298870.917     19.8635      99.4248  ...   \n",
       "3           1316659.222             1323619.574     20.2470      99.4741  ...   \n",
       "4           1342923.171             1349056.168     20.6435      99.5454  ...   \n",
       "\n",
       "   Q0060Male  Q0060Female     Q1550  Q1550Male  Q1550Female     Q1560  \\\n",
       "0   580.7496     498.0396  240.3164   271.6253     208.1916  378.6968   \n",
       "1   566.7283     490.1993  231.1772   258.0905     203.7797  368.3186   \n",
       "2   546.3173     477.2639  218.6745   240.0344     197.1422  353.0546   \n",
       "3   535.8289     469.5325  212.8720   232.6019     193.0492  345.0826   \n",
       "4   523.1236     458.4842  205.7622   224.0498     187.4439  335.4420   \n",
       "\n",
       "   Q1560Male  Q1560Female  NetMigrations  CNMR  \n",
       "0   430.2594     324.9308            0.0   0.0  \n",
       "1   415.8362     319.3364            0.0   0.0  \n",
       "2   395.5327     309.9103            0.0   0.0  \n",
       "3   385.8433     303.9053            0.0   0.0  \n",
       "4   374.6576     295.9944            0.0   0.0  \n",
       "\n",
       "[5 rows x 58 columns]"
      ]
     },
     "execution_count": 28,
     "metadata": {},
     "output_type": "execute_result"
    }
   ],
   "source": [
    "new_data.head()"
   ]
  },
  {
   "cell_type": "code",
   "execution_count": 29,
   "metadata": {},
   "outputs": [
    {
     "data": {
      "application/vnd.plotly.v1+json": {
       "config": {
        "plotlyServerURL": "https://plot.ly"
       },
       "data": [
        {
         "hovertemplate": "x=%{x}<br>y=%{y}<extra></extra>",
         "legendgroup": "",
         "line": {
          "color": "#636efa",
          "dash": "solid"
         },
         "marker": {
          "symbol": "circle"
         },
         "mode": "markers+lines",
         "name": "",
         "orientation": "v",
         "showlegend": false,
         "type": "scatter",
         "x": [
          1950,
          1951,
          1952,
          1953,
          1954,
          1955,
          1956,
          1957,
          1958,
          1959,
          1960,
          1961,
          1962,
          1963,
          1964,
          1965,
          1966,
          1967,
          1968,
          1969,
          1970,
          1971,
          1972,
          1973,
          1974,
          1975,
          1976,
          1977,
          1978,
          1979,
          1980,
          1981,
          1982,
          1983,
          1984,
          1985,
          1986,
          1987,
          1988,
          1989,
          1990,
          1991,
          1992,
          1993,
          1994,
          1995,
          1996,
          1997,
          1998,
          1999,
          2000,
          2001,
          2002,
          2003,
          2004,
          2005,
          2006,
          2007,
          2008,
          2009,
          2010,
          2011,
          2012,
          2013,
          2014,
          2015,
          2016,
          2017,
          2018,
          2019,
          2020,
          2021,
          2022,
          2023
         ],
         "xaxis": "x",
         "y": [
          4.8596,
          4.8269,
          5.0142,
          4.9366,
          5.0098,
          5.0115,
          4.9393,
          5.0764,
          4.935,
          4.7407,
          4.6955,
          4.5735,
          5.0301,
          5.3169,
          5.1332,
          5.0805,
          4.9634,
          4.8557,
          4.9627,
          4.8674,
          4.8279,
          4.6817,
          4.5468,
          4.4206,
          4.2648,
          4.0835,
          3.9774,
          3.8523,
          3.7904,
          3.7763,
          3.7498,
          3.7157,
          3.7129,
          3.5778,
          3.5516,
          3.5151,
          3.505,
          3.4802,
          3.3906,
          3.3456,
          3.3078,
          3.1272,
          3.0411,
          2.9758,
          2.9262,
          2.8779,
          2.833,
          2.7938,
          2.7578,
          2.7302,
          2.7345,
          2.7002,
          2.6722,
          2.6471,
          2.6363,
          2.6192,
          2.6115,
          2.6123,
          2.6131,
          2.605,
          2.5869,
          2.5729,
          2.5904,
          2.5604,
          2.5529,
          2.524,
          2.5256,
          2.5042,
          2.4433,
          2.4062,
          2.3485,
          2.3208,
          2.3142,
          2.3118
         ],
         "yaxis": "y"
        }
       ],
       "layout": {
        "legend": {
         "tracegroupgap": 0
        },
        "template": {
         "data": {
          "bar": [
           {
            "error_x": {
             "color": "#2a3f5f"
            },
            "error_y": {
             "color": "#2a3f5f"
            },
            "marker": {
             "line": {
              "color": "#E5ECF6",
              "width": 0.5
             },
             "pattern": {
              "fillmode": "overlay",
              "size": 10,
              "solidity": 0.2
             }
            },
            "type": "bar"
           }
          ],
          "barpolar": [
           {
            "marker": {
             "line": {
              "color": "#E5ECF6",
              "width": 0.5
             },
             "pattern": {
              "fillmode": "overlay",
              "size": 10,
              "solidity": 0.2
             }
            },
            "type": "barpolar"
           }
          ],
          "carpet": [
           {
            "aaxis": {
             "endlinecolor": "#2a3f5f",
             "gridcolor": "white",
             "linecolor": "white",
             "minorgridcolor": "white",
             "startlinecolor": "#2a3f5f"
            },
            "baxis": {
             "endlinecolor": "#2a3f5f",
             "gridcolor": "white",
             "linecolor": "white",
             "minorgridcolor": "white",
             "startlinecolor": "#2a3f5f"
            },
            "type": "carpet"
           }
          ],
          "choropleth": [
           {
            "colorbar": {
             "outlinewidth": 0,
             "ticks": ""
            },
            "type": "choropleth"
           }
          ],
          "contour": [
           {
            "colorbar": {
             "outlinewidth": 0,
             "ticks": ""
            },
            "colorscale": [
             [
              0,
              "#0d0887"
             ],
             [
              0.1111111111111111,
              "#46039f"
             ],
             [
              0.2222222222222222,
              "#7201a8"
             ],
             [
              0.3333333333333333,
              "#9c179e"
             ],
             [
              0.4444444444444444,
              "#bd3786"
             ],
             [
              0.5555555555555556,
              "#d8576b"
             ],
             [
              0.6666666666666666,
              "#ed7953"
             ],
             [
              0.7777777777777778,
              "#fb9f3a"
             ],
             [
              0.8888888888888888,
              "#fdca26"
             ],
             [
              1,
              "#f0f921"
             ]
            ],
            "type": "contour"
           }
          ],
          "contourcarpet": [
           {
            "colorbar": {
             "outlinewidth": 0,
             "ticks": ""
            },
            "type": "contourcarpet"
           }
          ],
          "heatmap": [
           {
            "colorbar": {
             "outlinewidth": 0,
             "ticks": ""
            },
            "colorscale": [
             [
              0,
              "#0d0887"
             ],
             [
              0.1111111111111111,
              "#46039f"
             ],
             [
              0.2222222222222222,
              "#7201a8"
             ],
             [
              0.3333333333333333,
              "#9c179e"
             ],
             [
              0.4444444444444444,
              "#bd3786"
             ],
             [
              0.5555555555555556,
              "#d8576b"
             ],
             [
              0.6666666666666666,
              "#ed7953"
             ],
             [
              0.7777777777777778,
              "#fb9f3a"
             ],
             [
              0.8888888888888888,
              "#fdca26"
             ],
             [
              1,
              "#f0f921"
             ]
            ],
            "type": "heatmap"
           }
          ],
          "heatmapgl": [
           {
            "colorbar": {
             "outlinewidth": 0,
             "ticks": ""
            },
            "colorscale": [
             [
              0,
              "#0d0887"
             ],
             [
              0.1111111111111111,
              "#46039f"
             ],
             [
              0.2222222222222222,
              "#7201a8"
             ],
             [
              0.3333333333333333,
              "#9c179e"
             ],
             [
              0.4444444444444444,
              "#bd3786"
             ],
             [
              0.5555555555555556,
              "#d8576b"
             ],
             [
              0.6666666666666666,
              "#ed7953"
             ],
             [
              0.7777777777777778,
              "#fb9f3a"
             ],
             [
              0.8888888888888888,
              "#fdca26"
             ],
             [
              1,
              "#f0f921"
             ]
            ],
            "type": "heatmapgl"
           }
          ],
          "histogram": [
           {
            "marker": {
             "pattern": {
              "fillmode": "overlay",
              "size": 10,
              "solidity": 0.2
             }
            },
            "type": "histogram"
           }
          ],
          "histogram2d": [
           {
            "colorbar": {
             "outlinewidth": 0,
             "ticks": ""
            },
            "colorscale": [
             [
              0,
              "#0d0887"
             ],
             [
              0.1111111111111111,
              "#46039f"
             ],
             [
              0.2222222222222222,
              "#7201a8"
             ],
             [
              0.3333333333333333,
              "#9c179e"
             ],
             [
              0.4444444444444444,
              "#bd3786"
             ],
             [
              0.5555555555555556,
              "#d8576b"
             ],
             [
              0.6666666666666666,
              "#ed7953"
             ],
             [
              0.7777777777777778,
              "#fb9f3a"
             ],
             [
              0.8888888888888888,
              "#fdca26"
             ],
             [
              1,
              "#f0f921"
             ]
            ],
            "type": "histogram2d"
           }
          ],
          "histogram2dcontour": [
           {
            "colorbar": {
             "outlinewidth": 0,
             "ticks": ""
            },
            "colorscale": [
             [
              0,
              "#0d0887"
             ],
             [
              0.1111111111111111,
              "#46039f"
             ],
             [
              0.2222222222222222,
              "#7201a8"
             ],
             [
              0.3333333333333333,
              "#9c179e"
             ],
             [
              0.4444444444444444,
              "#bd3786"
             ],
             [
              0.5555555555555556,
              "#d8576b"
             ],
             [
              0.6666666666666666,
              "#ed7953"
             ],
             [
              0.7777777777777778,
              "#fb9f3a"
             ],
             [
              0.8888888888888888,
              "#fdca26"
             ],
             [
              1,
              "#f0f921"
             ]
            ],
            "type": "histogram2dcontour"
           }
          ],
          "mesh3d": [
           {
            "colorbar": {
             "outlinewidth": 0,
             "ticks": ""
            },
            "type": "mesh3d"
           }
          ],
          "parcoords": [
           {
            "line": {
             "colorbar": {
              "outlinewidth": 0,
              "ticks": ""
             }
            },
            "type": "parcoords"
           }
          ],
          "pie": [
           {
            "automargin": true,
            "type": "pie"
           }
          ],
          "scatter": [
           {
            "fillpattern": {
             "fillmode": "overlay",
             "size": 10,
             "solidity": 0.2
            },
            "type": "scatter"
           }
          ],
          "scatter3d": [
           {
            "line": {
             "colorbar": {
              "outlinewidth": 0,
              "ticks": ""
             }
            },
            "marker": {
             "colorbar": {
              "outlinewidth": 0,
              "ticks": ""
             }
            },
            "type": "scatter3d"
           }
          ],
          "scattercarpet": [
           {
            "marker": {
             "colorbar": {
              "outlinewidth": 0,
              "ticks": ""
             }
            },
            "type": "scattercarpet"
           }
          ],
          "scattergeo": [
           {
            "marker": {
             "colorbar": {
              "outlinewidth": 0,
              "ticks": ""
             }
            },
            "type": "scattergeo"
           }
          ],
          "scattergl": [
           {
            "marker": {
             "colorbar": {
              "outlinewidth": 0,
              "ticks": ""
             }
            },
            "type": "scattergl"
           }
          ],
          "scattermapbox": [
           {
            "marker": {
             "colorbar": {
              "outlinewidth": 0,
              "ticks": ""
             }
            },
            "type": "scattermapbox"
           }
          ],
          "scatterpolar": [
           {
            "marker": {
             "colorbar": {
              "outlinewidth": 0,
              "ticks": ""
             }
            },
            "type": "scatterpolar"
           }
          ],
          "scatterpolargl": [
           {
            "marker": {
             "colorbar": {
              "outlinewidth": 0,
              "ticks": ""
             }
            },
            "type": "scatterpolargl"
           }
          ],
          "scatterternary": [
           {
            "marker": {
             "colorbar": {
              "outlinewidth": 0,
              "ticks": ""
             }
            },
            "type": "scatterternary"
           }
          ],
          "surface": [
           {
            "colorbar": {
             "outlinewidth": 0,
             "ticks": ""
            },
            "colorscale": [
             [
              0,
              "#0d0887"
             ],
             [
              0.1111111111111111,
              "#46039f"
             ],
             [
              0.2222222222222222,
              "#7201a8"
             ],
             [
              0.3333333333333333,
              "#9c179e"
             ],
             [
              0.4444444444444444,
              "#bd3786"
             ],
             [
              0.5555555555555556,
              "#d8576b"
             ],
             [
              0.6666666666666666,
              "#ed7953"
             ],
             [
              0.7777777777777778,
              "#fb9f3a"
             ],
             [
              0.8888888888888888,
              "#fdca26"
             ],
             [
              1,
              "#f0f921"
             ]
            ],
            "type": "surface"
           }
          ],
          "table": [
           {
            "cells": {
             "fill": {
              "color": "#EBF0F8"
             },
             "line": {
              "color": "white"
             }
            },
            "header": {
             "fill": {
              "color": "#C8D4E3"
             },
             "line": {
              "color": "white"
             }
            },
            "type": "table"
           }
          ]
         },
         "layout": {
          "annotationdefaults": {
           "arrowcolor": "#2a3f5f",
           "arrowhead": 0,
           "arrowwidth": 1
          },
          "autotypenumbers": "strict",
          "coloraxis": {
           "colorbar": {
            "outlinewidth": 0,
            "ticks": ""
           }
          },
          "colorscale": {
           "diverging": [
            [
             0,
             "#8e0152"
            ],
            [
             0.1,
             "#c51b7d"
            ],
            [
             0.2,
             "#de77ae"
            ],
            [
             0.3,
             "#f1b6da"
            ],
            [
             0.4,
             "#fde0ef"
            ],
            [
             0.5,
             "#f7f7f7"
            ],
            [
             0.6,
             "#e6f5d0"
            ],
            [
             0.7,
             "#b8e186"
            ],
            [
             0.8,
             "#7fbc41"
            ],
            [
             0.9,
             "#4d9221"
            ],
            [
             1,
             "#276419"
            ]
           ],
           "sequential": [
            [
             0,
             "#0d0887"
            ],
            [
             0.1111111111111111,
             "#46039f"
            ],
            [
             0.2222222222222222,
             "#7201a8"
            ],
            [
             0.3333333333333333,
             "#9c179e"
            ],
            [
             0.4444444444444444,
             "#bd3786"
            ],
            [
             0.5555555555555556,
             "#d8576b"
            ],
            [
             0.6666666666666666,
             "#ed7953"
            ],
            [
             0.7777777777777778,
             "#fb9f3a"
            ],
            [
             0.8888888888888888,
             "#fdca26"
            ],
            [
             1,
             "#f0f921"
            ]
           ],
           "sequentialminus": [
            [
             0,
             "#0d0887"
            ],
            [
             0.1111111111111111,
             "#46039f"
            ],
            [
             0.2222222222222222,
             "#7201a8"
            ],
            [
             0.3333333333333333,
             "#9c179e"
            ],
            [
             0.4444444444444444,
             "#bd3786"
            ],
            [
             0.5555555555555556,
             "#d8576b"
            ],
            [
             0.6666666666666666,
             "#ed7953"
            ],
            [
             0.7777777777777778,
             "#fb9f3a"
            ],
            [
             0.8888888888888888,
             "#fdca26"
            ],
            [
             1,
             "#f0f921"
            ]
           ]
          },
          "colorway": [
           "#636efa",
           "#EF553B",
           "#00cc96",
           "#ab63fa",
           "#FFA15A",
           "#19d3f3",
           "#FF6692",
           "#B6E880",
           "#FF97FF",
           "#FECB52"
          ],
          "font": {
           "color": "#2a3f5f"
          },
          "geo": {
           "bgcolor": "white",
           "lakecolor": "white",
           "landcolor": "#E5ECF6",
           "showlakes": true,
           "showland": true,
           "subunitcolor": "white"
          },
          "hoverlabel": {
           "align": "left"
          },
          "hovermode": "closest",
          "mapbox": {
           "style": "light"
          },
          "paper_bgcolor": "white",
          "plot_bgcolor": "#E5ECF6",
          "polar": {
           "angularaxis": {
            "gridcolor": "white",
            "linecolor": "white",
            "ticks": ""
           },
           "bgcolor": "#E5ECF6",
           "radialaxis": {
            "gridcolor": "white",
            "linecolor": "white",
            "ticks": ""
           }
          },
          "scene": {
           "xaxis": {
            "backgroundcolor": "#E5ECF6",
            "gridcolor": "white",
            "gridwidth": 2,
            "linecolor": "white",
            "showbackground": true,
            "ticks": "",
            "zerolinecolor": "white"
           },
           "yaxis": {
            "backgroundcolor": "#E5ECF6",
            "gridcolor": "white",
            "gridwidth": 2,
            "linecolor": "white",
            "showbackground": true,
            "ticks": "",
            "zerolinecolor": "white"
           },
           "zaxis": {
            "backgroundcolor": "#E5ECF6",
            "gridcolor": "white",
            "gridwidth": 2,
            "linecolor": "white",
            "showbackground": true,
            "ticks": "",
            "zerolinecolor": "white"
           }
          },
          "shapedefaults": {
           "line": {
            "color": "#2a3f5f"
           }
          },
          "ternary": {
           "aaxis": {
            "gridcolor": "white",
            "linecolor": "white",
            "ticks": ""
           },
           "baxis": {
            "gridcolor": "white",
            "linecolor": "white",
            "ticks": ""
           },
           "bgcolor": "#E5ECF6",
           "caxis": {
            "gridcolor": "white",
            "linecolor": "white",
            "ticks": ""
           }
          },
          "title": {
           "x": 0.05
          },
          "xaxis": {
           "automargin": true,
           "gridcolor": "white",
           "linecolor": "white",
           "ticks": "",
           "title": {
            "standoff": 15
           },
           "zerolinecolor": "white",
           "zerolinewidth": 2
          },
          "yaxis": {
           "automargin": true,
           "gridcolor": "white",
           "linecolor": "white",
           "ticks": "",
           "title": {
            "standoff": 15
           },
           "zerolinecolor": "white",
           "zerolinewidth": 2
          }
         }
        },
        "title": {
         "text": "Global Fertility Rate Over Time"
        },
        "xaxis": {
         "anchor": "y",
         "domain": [
          0,
          1
         ],
         "title": {
          "text": "x"
         }
        },
        "yaxis": {
         "anchor": "x",
         "domain": [
          0,
          1
         ],
         "title": {
          "text": "y"
         }
        }
       }
      },
      "text/html": [
       "<div>                            <div id=\"0b96b5c3-fa57-4204-896f-927ce0662d92\" class=\"plotly-graph-div\" style=\"height:525px; width:100%;\"></div>            <script type=\"text/javascript\">                require([\"plotly\"], function(Plotly) {                    window.PLOTLYENV=window.PLOTLYENV || {};                                    if (document.getElementById(\"0b96b5c3-fa57-4204-896f-927ce0662d92\")) {                    Plotly.newPlot(                        \"0b96b5c3-fa57-4204-896f-927ce0662d92\",                        [{\"hovertemplate\":\"x=%{x}<br>y=%{y}<extra></extra>\",\"legendgroup\":\"\",\"line\":{\"color\":\"#636efa\",\"dash\":\"solid\"},\"marker\":{\"symbol\":\"circle\"},\"mode\":\"markers+lines\",\"name\":\"\",\"orientation\":\"v\",\"showlegend\":false,\"x\":[1950,1951,1952,1953,1954,1955,1956,1957,1958,1959,1960,1961,1962,1963,1964,1965,1966,1967,1968,1969,1970,1971,1972,1973,1974,1975,1976,1977,1978,1979,1980,1981,1982,1983,1984,1985,1986,1987,1988,1989,1990,1991,1992,1993,1994,1995,1996,1997,1998,1999,2000,2001,2002,2003,2004,2005,2006,2007,2008,2009,2010,2011,2012,2013,2014,2015,2016,2017,2018,2019,2020,2021,2022,2023],\"xaxis\":\"x\",\"y\":[4.8596,4.8269,5.0142,4.9366,5.0098,5.0115,4.9393,5.0764,4.935,4.7407,4.6955,4.5735,5.0301,5.3169,5.1332,5.0805,4.9634,4.8557,4.9627,4.8674,4.8279,4.6817,4.5468,4.4206,4.2648,4.0835,3.9774,3.8523,3.7904,3.7763,3.7498,3.7157,3.7129,3.5778,3.5516,3.5151,3.505,3.4802,3.3906,3.3456,3.3078,3.1272,3.0411,2.9758,2.9262,2.8779,2.833,2.7938,2.7578,2.7302,2.7345,2.7002,2.6722,2.6471,2.6363,2.6192,2.6115,2.6123,2.6131,2.605,2.5869,2.5729,2.5904,2.5604,2.5529,2.524,2.5256,2.5042,2.4433,2.4062,2.3485,2.3208,2.3142,2.3118],\"yaxis\":\"y\",\"type\":\"scatter\"}],                        {\"template\":{\"data\":{\"histogram2dcontour\":[{\"type\":\"histogram2dcontour\",\"colorbar\":{\"outlinewidth\":0,\"ticks\":\"\"},\"colorscale\":[[0.0,\"#0d0887\"],[0.1111111111111111,\"#46039f\"],[0.2222222222222222,\"#7201a8\"],[0.3333333333333333,\"#9c179e\"],[0.4444444444444444,\"#bd3786\"],[0.5555555555555556,\"#d8576b\"],[0.6666666666666666,\"#ed7953\"],[0.7777777777777778,\"#fb9f3a\"],[0.8888888888888888,\"#fdca26\"],[1.0,\"#f0f921\"]]}],\"choropleth\":[{\"type\":\"choropleth\",\"colorbar\":{\"outlinewidth\":0,\"ticks\":\"\"}}],\"histogram2d\":[{\"type\":\"histogram2d\",\"colorbar\":{\"outlinewidth\":0,\"ticks\":\"\"},\"colorscale\":[[0.0,\"#0d0887\"],[0.1111111111111111,\"#46039f\"],[0.2222222222222222,\"#7201a8\"],[0.3333333333333333,\"#9c179e\"],[0.4444444444444444,\"#bd3786\"],[0.5555555555555556,\"#d8576b\"],[0.6666666666666666,\"#ed7953\"],[0.7777777777777778,\"#fb9f3a\"],[0.8888888888888888,\"#fdca26\"],[1.0,\"#f0f921\"]]}],\"heatmap\":[{\"type\":\"heatmap\",\"colorbar\":{\"outlinewidth\":0,\"ticks\":\"\"},\"colorscale\":[[0.0,\"#0d0887\"],[0.1111111111111111,\"#46039f\"],[0.2222222222222222,\"#7201a8\"],[0.3333333333333333,\"#9c179e\"],[0.4444444444444444,\"#bd3786\"],[0.5555555555555556,\"#d8576b\"],[0.6666666666666666,\"#ed7953\"],[0.7777777777777778,\"#fb9f3a\"],[0.8888888888888888,\"#fdca26\"],[1.0,\"#f0f921\"]]}],\"heatmapgl\":[{\"type\":\"heatmapgl\",\"colorbar\":{\"outlinewidth\":0,\"ticks\":\"\"},\"colorscale\":[[0.0,\"#0d0887\"],[0.1111111111111111,\"#46039f\"],[0.2222222222222222,\"#7201a8\"],[0.3333333333333333,\"#9c179e\"],[0.4444444444444444,\"#bd3786\"],[0.5555555555555556,\"#d8576b\"],[0.6666666666666666,\"#ed7953\"],[0.7777777777777778,\"#fb9f3a\"],[0.8888888888888888,\"#fdca26\"],[1.0,\"#f0f921\"]]}],\"contourcarpet\":[{\"type\":\"contourcarpet\",\"colorbar\":{\"outlinewidth\":0,\"ticks\":\"\"}}],\"contour\":[{\"type\":\"contour\",\"colorbar\":{\"outlinewidth\":0,\"ticks\":\"\"},\"colorscale\":[[0.0,\"#0d0887\"],[0.1111111111111111,\"#46039f\"],[0.2222222222222222,\"#7201a8\"],[0.3333333333333333,\"#9c179e\"],[0.4444444444444444,\"#bd3786\"],[0.5555555555555556,\"#d8576b\"],[0.6666666666666666,\"#ed7953\"],[0.7777777777777778,\"#fb9f3a\"],[0.8888888888888888,\"#fdca26\"],[1.0,\"#f0f921\"]]}],\"surface\":[{\"type\":\"surface\",\"colorbar\":{\"outlinewidth\":0,\"ticks\":\"\"},\"colorscale\":[[0.0,\"#0d0887\"],[0.1111111111111111,\"#46039f\"],[0.2222222222222222,\"#7201a8\"],[0.3333333333333333,\"#9c179e\"],[0.4444444444444444,\"#bd3786\"],[0.5555555555555556,\"#d8576b\"],[0.6666666666666666,\"#ed7953\"],[0.7777777777777778,\"#fb9f3a\"],[0.8888888888888888,\"#fdca26\"],[1.0,\"#f0f921\"]]}],\"mesh3d\":[{\"type\":\"mesh3d\",\"colorbar\":{\"outlinewidth\":0,\"ticks\":\"\"}}],\"scatter\":[{\"fillpattern\":{\"fillmode\":\"overlay\",\"size\":10,\"solidity\":0.2},\"type\":\"scatter\"}],\"parcoords\":[{\"type\":\"parcoords\",\"line\":{\"colorbar\":{\"outlinewidth\":0,\"ticks\":\"\"}}}],\"scatterpolargl\":[{\"type\":\"scatterpolargl\",\"marker\":{\"colorbar\":{\"outlinewidth\":0,\"ticks\":\"\"}}}],\"bar\":[{\"error_x\":{\"color\":\"#2a3f5f\"},\"error_y\":{\"color\":\"#2a3f5f\"},\"marker\":{\"line\":{\"color\":\"#E5ECF6\",\"width\":0.5},\"pattern\":{\"fillmode\":\"overlay\",\"size\":10,\"solidity\":0.2}},\"type\":\"bar\"}],\"scattergeo\":[{\"type\":\"scattergeo\",\"marker\":{\"colorbar\":{\"outlinewidth\":0,\"ticks\":\"\"}}}],\"scatterpolar\":[{\"type\":\"scatterpolar\",\"marker\":{\"colorbar\":{\"outlinewidth\":0,\"ticks\":\"\"}}}],\"histogram\":[{\"marker\":{\"pattern\":{\"fillmode\":\"overlay\",\"size\":10,\"solidity\":0.2}},\"type\":\"histogram\"}],\"scattergl\":[{\"type\":\"scattergl\",\"marker\":{\"colorbar\":{\"outlinewidth\":0,\"ticks\":\"\"}}}],\"scatter3d\":[{\"type\":\"scatter3d\",\"line\":{\"colorbar\":{\"outlinewidth\":0,\"ticks\":\"\"}},\"marker\":{\"colorbar\":{\"outlinewidth\":0,\"ticks\":\"\"}}}],\"scattermapbox\":[{\"type\":\"scattermapbox\",\"marker\":{\"colorbar\":{\"outlinewidth\":0,\"ticks\":\"\"}}}],\"scatterternary\":[{\"type\":\"scatterternary\",\"marker\":{\"colorbar\":{\"outlinewidth\":0,\"ticks\":\"\"}}}],\"scattercarpet\":[{\"type\":\"scattercarpet\",\"marker\":{\"colorbar\":{\"outlinewidth\":0,\"ticks\":\"\"}}}],\"carpet\":[{\"aaxis\":{\"endlinecolor\":\"#2a3f5f\",\"gridcolor\":\"white\",\"linecolor\":\"white\",\"minorgridcolor\":\"white\",\"startlinecolor\":\"#2a3f5f\"},\"baxis\":{\"endlinecolor\":\"#2a3f5f\",\"gridcolor\":\"white\",\"linecolor\":\"white\",\"minorgridcolor\":\"white\",\"startlinecolor\":\"#2a3f5f\"},\"type\":\"carpet\"}],\"table\":[{\"cells\":{\"fill\":{\"color\":\"#EBF0F8\"},\"line\":{\"color\":\"white\"}},\"header\":{\"fill\":{\"color\":\"#C8D4E3\"},\"line\":{\"color\":\"white\"}},\"type\":\"table\"}],\"barpolar\":[{\"marker\":{\"line\":{\"color\":\"#E5ECF6\",\"width\":0.5},\"pattern\":{\"fillmode\":\"overlay\",\"size\":10,\"solidity\":0.2}},\"type\":\"barpolar\"}],\"pie\":[{\"automargin\":true,\"type\":\"pie\"}]},\"layout\":{\"autotypenumbers\":\"strict\",\"colorway\":[\"#636efa\",\"#EF553B\",\"#00cc96\",\"#ab63fa\",\"#FFA15A\",\"#19d3f3\",\"#FF6692\",\"#B6E880\",\"#FF97FF\",\"#FECB52\"],\"font\":{\"color\":\"#2a3f5f\"},\"hovermode\":\"closest\",\"hoverlabel\":{\"align\":\"left\"},\"paper_bgcolor\":\"white\",\"plot_bgcolor\":\"#E5ECF6\",\"polar\":{\"bgcolor\":\"#E5ECF6\",\"angularaxis\":{\"gridcolor\":\"white\",\"linecolor\":\"white\",\"ticks\":\"\"},\"radialaxis\":{\"gridcolor\":\"white\",\"linecolor\":\"white\",\"ticks\":\"\"}},\"ternary\":{\"bgcolor\":\"#E5ECF6\",\"aaxis\":{\"gridcolor\":\"white\",\"linecolor\":\"white\",\"ticks\":\"\"},\"baxis\":{\"gridcolor\":\"white\",\"linecolor\":\"white\",\"ticks\":\"\"},\"caxis\":{\"gridcolor\":\"white\",\"linecolor\":\"white\",\"ticks\":\"\"}},\"coloraxis\":{\"colorbar\":{\"outlinewidth\":0,\"ticks\":\"\"}},\"colorscale\":{\"sequential\":[[0.0,\"#0d0887\"],[0.1111111111111111,\"#46039f\"],[0.2222222222222222,\"#7201a8\"],[0.3333333333333333,\"#9c179e\"],[0.4444444444444444,\"#bd3786\"],[0.5555555555555556,\"#d8576b\"],[0.6666666666666666,\"#ed7953\"],[0.7777777777777778,\"#fb9f3a\"],[0.8888888888888888,\"#fdca26\"],[1.0,\"#f0f921\"]],\"sequentialminus\":[[0.0,\"#0d0887\"],[0.1111111111111111,\"#46039f\"],[0.2222222222222222,\"#7201a8\"],[0.3333333333333333,\"#9c179e\"],[0.4444444444444444,\"#bd3786\"],[0.5555555555555556,\"#d8576b\"],[0.6666666666666666,\"#ed7953\"],[0.7777777777777778,\"#fb9f3a\"],[0.8888888888888888,\"#fdca26\"],[1.0,\"#f0f921\"]],\"diverging\":[[0,\"#8e0152\"],[0.1,\"#c51b7d\"],[0.2,\"#de77ae\"],[0.3,\"#f1b6da\"],[0.4,\"#fde0ef\"],[0.5,\"#f7f7f7\"],[0.6,\"#e6f5d0\"],[0.7,\"#b8e186\"],[0.8,\"#7fbc41\"],[0.9,\"#4d9221\"],[1,\"#276419\"]]},\"xaxis\":{\"gridcolor\":\"white\",\"linecolor\":\"white\",\"ticks\":\"\",\"title\":{\"standoff\":15},\"zerolinecolor\":\"white\",\"automargin\":true,\"zerolinewidth\":2},\"yaxis\":{\"gridcolor\":\"white\",\"linecolor\":\"white\",\"ticks\":\"\",\"title\":{\"standoff\":15},\"zerolinecolor\":\"white\",\"automargin\":true,\"zerolinewidth\":2},\"scene\":{\"xaxis\":{\"backgroundcolor\":\"#E5ECF6\",\"gridcolor\":\"white\",\"linecolor\":\"white\",\"showbackground\":true,\"ticks\":\"\",\"zerolinecolor\":\"white\",\"gridwidth\":2},\"yaxis\":{\"backgroundcolor\":\"#E5ECF6\",\"gridcolor\":\"white\",\"linecolor\":\"white\",\"showbackground\":true,\"ticks\":\"\",\"zerolinecolor\":\"white\",\"gridwidth\":2},\"zaxis\":{\"backgroundcolor\":\"#E5ECF6\",\"gridcolor\":\"white\",\"linecolor\":\"white\",\"showbackground\":true,\"ticks\":\"\",\"zerolinecolor\":\"white\",\"gridwidth\":2}},\"shapedefaults\":{\"line\":{\"color\":\"#2a3f5f\"}},\"annotationdefaults\":{\"arrowcolor\":\"#2a3f5f\",\"arrowhead\":0,\"arrowwidth\":1},\"geo\":{\"bgcolor\":\"white\",\"landcolor\":\"#E5ECF6\",\"subunitcolor\":\"white\",\"showland\":true,\"showlakes\":true,\"lakecolor\":\"white\"},\"title\":{\"x\":0.05},\"mapbox\":{\"style\":\"light\"}}},\"xaxis\":{\"anchor\":\"y\",\"domain\":[0.0,1.0],\"title\":{\"text\":\"x\"}},\"yaxis\":{\"anchor\":\"x\",\"domain\":[0.0,1.0],\"title\":{\"text\":\"y\"}},\"legend\":{\"tracegroupgap\":0},\"title\":{\"text\":\"Global Fertility Rate Over Time\"}},                        {\"responsive\": true}                    ).then(function(){\n",
       "                            \n",
       "var gd = document.getElementById('0b96b5c3-fa57-4204-896f-927ce0662d92');\n",
       "var x = new MutationObserver(function (mutations, observer) {{\n",
       "        var display = window.getComputedStyle(gd).display;\n",
       "        if (!display || display === 'none') {{\n",
       "            console.log([gd, 'removed!']);\n",
       "            Plotly.purge(gd);\n",
       "            observer.disconnect();\n",
       "        }}\n",
       "}});\n",
       "\n",
       "// Listen for the removal of the full notebook cells\n",
       "var notebookContainer = gd.closest('#notebook-container');\n",
       "if (notebookContainer) {{\n",
       "    x.observe(notebookContainer, {childList: true});\n",
       "}}\n",
       "\n",
       "// Listen for the clearing of the current output cell\n",
       "var outputEl = gd.closest('.output');\n",
       "if (outputEl) {{\n",
       "    x.observe(outputEl, {childList: true});\n",
       "}}\n",
       "\n",
       "                        })                };                });            </script>        </div>"
      ]
     },
     "metadata": {},
     "output_type": "display_data"
    },
    {
     "data": {
      "text/plain": [
       "<Figure size 1200x600 with 0 Axes>"
      ]
     },
     "metadata": {},
     "output_type": "display_data"
    }
   ],
   "source": [
    "import pandas as pd\n",
    "import matplotlib.pyplot as plt\n",
    "\n",
    "\n",
    "\n",
    "# Filter the dataset for global data (World) and for the Total Fertility Rate (TFR) column\n",
    "global_population = new_data[new_data['Location'] == 'World']\n",
    "fertility_rate_data = global_population[['Time', 'TFR']]\n",
    "\n",
    "# Grouping the data by year\n",
    "fertility_rate_by_year = fertility_rate_data.groupby('Time').mean()\n",
    "\n",
    "# Creating the line graph for fertility rate trends\n",
    "plt.figure(figsize=(12, 6))\n",
    "px.line(x=fertility_rate_by_year.index, y=fertility_rate_by_year['TFR'], markers=True,title=\"Global Fertility Rate Over Time\")"
   ]
  },
  {
   "cell_type": "markdown",
   "metadata": {},
   "source": [
    "- A possible decrease in fertility rates over time, which could be indicative of various social, economic, and health-related factors.\n",
    "- The impact of global trends such as urbanization, education, and access to healthcare on family planning decisions."
   ]
  },
  {
   "cell_type": "code",
   "execution_count": 84,
   "metadata": {},
   "outputs": [],
   "source": [
    "#important numeric columns\n",
    "columns_imp=['MedianAgePop','Deaths','Births','Under5Deaths','DoublingTime']"
   ]
  },
  {
   "cell_type": "code",
   "execution_count": 85,
   "metadata": {},
   "outputs": [],
   "source": [
    "heatmap_df=new_data[columns_imp]"
   ]
  },
  {
   "cell_type": "code",
   "execution_count": 86,
   "metadata": {
    "id": "qg_WFYKz99J_",
    "outputId": "3e7e833a-19d2-4274-d62c-5a58cf3d0a56"
   },
   "outputs": [
    {
     "data": {
      "image/png": "[encoded data removed]",
      "text/plain": [
       "<Figure size 640x480 with 2 Axes>"
      ]
     },
     "metadata": {},
     "output_type": "display_data"
    }
   ],
   "source": [
    "sns.heatmap(heatmap_df.corr(), annot=True, fmt=\".2f\")\n",
    "plt.title('Heatmap of the Correlation Matrix')\n",
    "plt.show()\n"
   ]
  },
  {
   "cell_type": "markdown",
   "metadata": {
    "id": "vMTr_MWq99J_"
   },
   "source": [
    "1. **High Correlation Between Deaths and Births:** There is a very strong positive correlation (close to 1) between the number of deaths and the number of births. This suggests that as the number of births increases, the number of deaths also increases, which could be indicative of larger population sizes where both births and deaths are naturally higher.\n",
    "\n",
    "2. **High Correlation Between Births and Under-5 Deaths:** There is also a very strong positive correlation between the number of births and the number of deaths under 5 years old. This could imply that higher birth rates are associated with higher mortality rates in young children, possibly due to factors affecting infant and child health.\n",
    "\n",
    "3. **Moderate Positive Correlation Between Doubling Time and Median Age of Population:** There is a moderate positive correlation (approximately 0.62) between the median age of the population and the doubling time of the population. This may indicate that populations with a higher median age tend to grow more slowly, which aligns with demographic trends where populations with older age profiles have lower growth rates.\n",
    "\n",
    "4. **Low or No Correlation Between Median Age of Population and Births/Deaths:** The correlation between the median age of the population and the number of births and deaths is very low or almost non-existent. This suggests that the median age may not directly affect the number of births or deaths within the same period.\n",
    "\n",
    "5. **Negative Correlation Between Doubling Time and Under-5 Deaths:** There is a small negative correlation (approximately -0.10) between doubling time and under-5 deaths, which could suggest that as the rate of population growth slows down (higher doubling time), the number of under-5 deaths slightly decreases. However, this correlation is relatively weak and may not indicate a strong relationship.\n"
   ]
  },
  {
   "cell_type": "markdown",
   "metadata": {},
   "source": [
    "### We can get more analytics from it. If you want go ahead and explore it more and share with us.\n",
    "#### Thanks for your time."
   ]
  }
 ],
 "metadata": {
  "colab": {
   "provenance": []
  },
  "kernelspec": {
   "display_name": "Python 3 (ipykernel)",
   "language": "python",
   "name": "python3"
  },
  "language_info": {
   "codemirror_mode": {
    "name": "ipython",
    "version": 3
   },
   "file_extension": ".py",
   "mimetype": "text/x-python",
   "name": "python",
   "nbconvert_exporter": "python",
   "pygments_lexer": "ipython3",
   "version": "3.11.5"
  }
 },
 "nbformat": 4,
 "nbformat_minor": 1
}
